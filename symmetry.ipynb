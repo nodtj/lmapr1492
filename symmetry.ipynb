{
 "cells": [
  {
   "cell_type": "code",
   "execution_count": 3,
   "id": "06f0d862",
   "metadata": {},
   "outputs": [],
   "source": [
    "import numpy as np\n",
    "from mp_api.client import MPRester\n",
    "from pymatgen.symmetry.analyzer import SpacegroupAnalyzer\n",
    "from jupyter_jsmol.pymatgen import quick_view"
   ]
  },
  {
   "cell_type": "code",
   "execution_count": 4,
   "id": "f65aebb8",
   "metadata": {},
   "outputs": [],
   "source": [
    "mp_key = \"nbKtMcNjVctWQexVKEJTiT489Bo6oYrr\"\n",
    "mp_id = \"mp-11869\""
   ]
  },
  {
   "cell_type": "code",
   "execution_count": 5,
   "id": "2926665c",
   "metadata": {},
   "outputs": [
    {
     "data": {
      "application/vnd.jupyter.widget-view+json": {
       "model_id": "4363ddd3a4a94fb990de984b635c0921",
       "version_major": 2,
       "version_minor": 0
      },
      "text/plain": [
       "Retrieving MaterialsDoc documents:   0%|          | 0/1 [00:00<?, ?it/s]"
      ]
     },
     "metadata": {},
     "output_type": "display_data"
    }
   ],
   "source": [
    "#Récupération de la structure\n",
    "with MPRester(mp_key) as m:\n",
    "    structure = m.get_structure_by_material_id(mp_id)"
   ]
  },
  {
   "cell_type": "markdown",
   "id": "e1e7ea49",
   "metadata": {},
   "source": [
    "# Symétrie"
   ]
  },
  {
   "cell_type": "code",
   "execution_count": 6,
   "id": "285d2056",
   "metadata": {},
   "outputs": [],
   "source": [
    "sym = SpacegroupAnalyzer(structure).get_symmetry_operations()\n",
    "\n",
    "#Atomes\n",
    "Hf = [0,0,0]\n",
    "Sn = [0.5,0,0]\n",
    "Pd = [0.25,0.25,0.75]\n",
    "\n",
    "#Symétries\n",
    "sym1 = sym[26] #plan miroir (x,y,z)->(z,y,x)\n",
    "sym2 = sym[40] #rotation d'ordre 3 (x,y,z)->(z,x,y)\n",
    "sym3 = sym[11] #roto-inversion (x,y,z)->(-x-y-z,y,z)"
   ]
  },
  {
   "cell_type": "markdown",
   "id": "c44f827e",
   "metadata": {},
   "source": [
    "### Plan miroir sur Hf"
   ]
  },
  {
   "cell_type": "code",
   "execution_count": 9,
   "id": "13ebc70d",
   "metadata": {},
   "outputs": [
    {
     "name": "stdout",
     "output_type": "stream",
     "text": [
      "On applique une symétrie plan miroir à l'atome Hf ([0,0,0]) :\n",
      "[[0. 0. 1.]\n",
      " [0. 1. 0.]\n",
      " [1. 0. 0.]] • [0, 0, 0] + [0. 0. 0.]\n",
      "Ce qui donne comme coordonnées finale : [0. 0. 0.]\n",
      "\n"
     ]
    },
    {
     "data": {
      "application/vnd.jupyter.widget-view+json": {
       "model_id": "3f525e08b5864690af93d4ebc91c38be",
       "version_major": 2,
       "version_minor": 0
      },
      "text/plain": [
       "JsmolView(layout=Layout(align_self='stretch', height='400px'))"
      ]
     },
     "metadata": {},
     "output_type": "display_data"
    }
   ],
   "source": [
    "print(\"On applique une symétrie plan miroir à l'atome Hf ([0,0,0]) :\")\n",
    "print(sym1.rotation_matrix, \"•\", Hf, \"+\", sym1.translation_vector)\n",
    "print(\"Ce qui donne comme coordonnées finale : {}\\n\".format(sym1.operate(Hf)))\n",
    "view1 = quick_view(structure, conventional=True)\n",
    "display(view1)\n",
    "view1.script(\"draw symop 27 {atomno=1}\")"
   ]
  },
  {
   "cell_type": "markdown",
   "id": "4b40e2c4",
   "metadata": {},
   "source": [
    "### Symétrie 2 sur Sn"
   ]
  },
  {
   "cell_type": "code",
   "execution_count": 17,
   "id": "e5cf60c8",
   "metadata": {},
   "outputs": [
    {
     "name": "stdout",
     "output_type": "stream",
     "text": [
      "On applique une rotation d'ordre 3 à l'atome Sn ([0.5,0,0]) :\n",
      "[[0. 0. 1.]\n",
      " [1. 0. 0.]\n",
      " [0. 1. 0.]] • [0.5, 0, 0] + [0. 0. 0.]\n",
      "Ce qui donne comme coordonnées finale : [0.  0.5 0. ]\n",
      "\n"
     ]
    },
    {
     "data": {
      "application/vnd.jupyter.widget-view+json": {
       "model_id": "386e8d67250b41d9a34f95b840015fd4",
       "version_major": 2,
       "version_minor": 0
      },
      "text/plain": [
       "JsmolView(layout=Layout(align_self='stretch', height='400px'))"
      ]
     },
     "metadata": {},
     "output_type": "display_data"
    }
   ],
   "source": [
    "print(\"On applique une rotation d'ordre 3 à l'atome Sn ([0.5,0,0]) :\")\n",
    "print(sym2.rotation_matrix, \"•\", Sn, \"+\", sym2.translation_vector)\n",
    "print(\"Ce qui donne comme coordonnées finale : {}\\n\".format(sym2.operate(Sn)))\n",
    "view2 = quick_view(structure, conventional=True)\n",
    "display(view2)\n",
    "view2.script(\"draw symop 41 {atomno=6}\")"
   ]
  },
  {
   "cell_type": "markdown",
   "id": "0f9fb392",
   "metadata": {},
   "source": [
    "### Symétrie 3 sur Pd "
   ]
  },
  {
   "cell_type": "code",
   "execution_count": 19,
   "id": "571194d3",
   "metadata": {},
   "outputs": [
    {
     "name": "stdout",
     "output_type": "stream",
     "text": [
      "On applique une roto-inversion à l'atome Pd ([0.25,0.25,0.75]) :\n",
      "[[-1. -1. -1.]\n",
      " [ 0.  1.  0.]\n",
      " [ 0.  0.  1.]] • [0.25, 0.25, 0.75] + [0. 0. 0.]\n",
      "Ce qui donne comme coordonnées finale : [-1.25  0.25  0.75]\n",
      "\n"
     ]
    },
    {
     "data": {
      "application/vnd.jupyter.widget-view+json": {
       "model_id": "09d06d30190c4c93ab0f676ad91daab6",
       "version_major": 2,
       "version_minor": 0
      },
      "text/plain": [
       "JsmolView(layout=Layout(align_self='stretch', height='400px'))"
      ]
     },
     "metadata": {},
     "output_type": "display_data"
    }
   ],
   "source": [
    "print(\"On applique une roto-inversion à l'atome Pd ([0.25,0.25,0.75]) :\")\n",
    "print(sym3.rotation_matrix, \"•\", Pd, \"+\", sym3.translation_vector)\n",
    "print(\"Ce qui donne comme coordonnées finale : {}\\n\".format(sym3.operate(Pd)))\n",
    "view3 = quick_view(structure, conventional=True)\n",
    "display(view3)\n",
    "view3.script(\"draw symop 11 {atomno=10}\")"
   ]
  },
  {
   "cell_type": "code",
   "execution_count": null,
   "id": "9c2e51c0",
   "metadata": {},
   "outputs": [],
   "source": []
  }
 ],
 "metadata": {
  "kernelspec": {
   "display_name": "Python 3 (ipykernel)",
   "language": "python",
   "name": "python3"
  },
  "language_info": {
   "codemirror_mode": {
    "name": "ipython",
    "version": 3
   },
   "file_extension": ".py",
   "mimetype": "text/x-python",
   "name": "python",
   "nbconvert_exporter": "python",
   "pygments_lexer": "ipython3",
   "version": "3.9.13"
  }
 },
 "nbformat": 4,
 "nbformat_minor": 5
}
