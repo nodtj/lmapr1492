{
 "cells": [
  {
   "cell_type": "code",
   "execution_count": 1,
   "id": "16a7989f",
   "metadata": {},
   "outputs": [],
   "source": [
    "import numpy as np\n",
    "from mp_api.client import MPRester\n",
    "from pymatgen.symmetry.analyzer import SpacegroupAnalyzer"
   ]
  },
  {
   "cell_type": "code",
   "execution_count": 2,
   "id": "ee96f30b",
   "metadata": {},
   "outputs": [],
   "source": [
    "mp_key = \"nbKtMcNjVctWQexVKEJTiT489Bo6oYrr\"\n",
    "mp_id = \"mp-11869\""
   ]
  },
  {
   "cell_type": "code",
   "execution_count": 3,
   "id": "d26cdaa4",
   "metadata": {},
   "outputs": [
    {
     "data": {
      "application/vnd.jupyter.widget-view+json": {
       "model_id": "a3c78bea4aac448289117c15455c68bb",
       "version_major": 2,
       "version_minor": 0
      },
      "text/plain": [
       "Retrieving MaterialsDoc documents:   0%|          | 0/1 [00:00<?, ?it/s]"
      ]
     },
     "metadata": {},
     "output_type": "display_data"
    }
   ],
   "source": [
    "#Récupération de la structure\n",
    "with MPRester(mp_key) as m:\n",
    "    structure = m.get_structure_by_material_id(mp_id)"
   ]
  },
  {
   "cell_type": "markdown",
   "id": "015c886d",
   "metadata": {},
   "source": [
    "## Vecteur de base"
   ]
  },
  {
   "cell_type": "code",
   "execution_count": 4,
   "id": "974466d4",
   "metadata": {},
   "outputs": [
    {
     "name": "stdout",
     "output_type": "stream",
     "text": [
      "Vecteur de base du réseau direct :\n",
      "\n",
      "3.869373 -0.000000 2.233983\n",
      "1.289791 3.648079 2.233983\n",
      "-0.000000 -0.000000 4.467966\n",
      "\n",
      "Normes en Ångström:\n",
      "\n",
      "a = 4.467966292589535\n",
      "b = 4.467965860384157\n",
      "c = 4.46796603\n",
      "\n",
      "Angles en °:\n",
      "\n",
      "alpha = 60.000006221999925\n",
      "beta = 60.00000942194237\n",
      "gamma = 60.00000748414941\n",
      "\n",
      "-------------------------------------------------\n",
      "Vecteur de base du réseau réciproque :\n",
      "\n",
      "1.623825 -0.574109 0.000000\n",
      "0.000000 1.722327 0.000000\n",
      "-0.811912 -0.574109 1.406274\n",
      "\n",
      "Normes en Ångström:\n",
      "\n",
      "a* = 1.7223268069729292\n",
      "b* = 1.7223270291169137\n",
      "c* = 1.7223269301018276\n",
      "\n",
      "Angles en °:\n",
      "\n",
      "alpha* = 109.4712199160106\n",
      "beta* = 109.47121469052712\n",
      "gamma* = 109.47121785492949\n",
      "\n",
      "-------------------------------------------------\n"
     ]
    }
   ],
   "source": [
    "from pymatgen.core.structure import Structure\n",
    "\n",
    "#Réseau direct\n",
    "vecteur_base_direct = structure.lattice\n",
    "normes = vecteur_base_direct.abc\n",
    "angles = vecteur_base_direct.angles\n",
    "print(\"Vecteurs de base du réseau direct :\\n\")\n",
    "print(vecteur_base_direct)\n",
    "print(\"\")\n",
    "print(\"Normes en Ångström:\\n\")\n",
    "print(\"a = {}\\nb = {}\\nc = {}\\n\".format(normes[0], normes[1], normes[2]))\n",
    "print(\"Angles en °:\\n\")\n",
    "print(\"alpha = {}\\nbeta = {}\\ngamma = {}\\n\".format(angles[0], angles[1], angles[2]))\n",
    "print(\"-------------------------------------------------\")\n",
    "\n",
    "#Réseau réciproque\n",
    "vecteur_base_réciproque = structure.lattice.reciprocal_lattice\n",
    "normes_star = vecteur_base_réciproque.abc\n",
    "angles_star = vecteur_base_réciproque.angles\n",
    "print(\"Vecteurs de base du réseau réciproque :\\n\")\n",
    "print(vecteur_base_réciproque)\n",
    "print(\"\")\n",
    "print(\"Normes en Ångström:\\n\")\n",
    "print(\"a* = {}\\nb* = {}\\nc* = {}\\n\".format(normes_star[0], normes_star[1], normes_star[2]))\n",
    "print(\"Angles en °:\\n\")\n",
    "print(\"alpha* = {}\\nbeta* = {}\\ngamma* = {}\\n\".format(angles_star[0], angles_star[1], angles_star[2]))\n",
    "print(\"-------------------------------------------------\")"
   ]
  },
  {
   "cell_type": "markdown",
   "id": "a080cd2c",
   "metadata": {},
   "source": [
    "## Maille"
   ]
  },
  {
   "cell_type": "code",
   "execution_count": 5,
   "id": "14c3b006",
   "metadata": {},
   "outputs": [
    {
     "name": "stdout",
     "output_type": "stream",
     "text": [
      "Type de maille: cubic\n"
     ]
    }
   ],
   "source": [
    "#Type de maille\n",
    "maille = SpacegroupAnalyzer(structure).get_lattice_type()\n",
    "print(\"Type de maille:\", maille)"
   ]
  },
  {
   "cell_type": "markdown",
   "id": "bcfaccc7",
   "metadata": {},
   "source": [
    "## Système cristallin "
   ]
  },
  {
   "cell_type": "code",
   "execution_count": 6,
   "id": "79f2c9c5",
   "metadata": {},
   "outputs": [
    {
     "name": "stdout",
     "output_type": "stream",
     "text": [
      "Système cristallin: cubic\n"
     ]
    }
   ],
   "source": [
    "sys_cristallin = SpacegroupAnalyzer(structure).get_crystal_system()\n",
    "print(\"Système cristallin:\", sys_cristallin)"
   ]
  },
  {
   "cell_type": "markdown",
   "id": "53386792",
   "metadata": {},
   "source": [
    "## Groupe ponctuel "
   ]
  },
  {
   "cell_type": "code",
   "execution_count": 7,
   "id": "eb1e35d4",
   "metadata": {},
   "outputs": [
    {
     "name": "stdout",
     "output_type": "stream",
     "text": [
      "Groupe ponctuel: -43m\n"
     ]
    }
   ],
   "source": [
    "gr_ponctuel = SpacegroupAnalyzer(structure).get_point_group_symbol()\n",
    "print(\"Groupe ponctuel:\", gr_ponctuel)"
   ]
  }
 ],
 "metadata": {
  "kernelspec": {
   "display_name": "Python 3 (ipykernel)",
   "language": "python",
   "name": "python3"
  },
  "language_info": {
   "codemirror_mode": {
    "name": "ipython",
    "version": 3
   },
   "file_extension": ".py",
   "mimetype": "text/x-python",
   "name": "python",
   "nbconvert_exporter": "python",
   "pygments_lexer": "ipython3",
   "version": "3.9.13"
  }
 },
 "nbformat": 4,
 "nbformat_minor": 5
}
