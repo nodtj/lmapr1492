{
 "cells": [
  {
   "cell_type": "code",
   "execution_count": 52,
   "id": "13bc7a80",
   "metadata": {},
   "outputs": [],
   "source": [
    "import numpy as np\n",
    "import matplotlib.pyplot as plt\n",
    "from mp_api.client import MPRester\n",
    "from lmapr1492 import plot_brillouin_zone, get_plot_bs\n",
    "from pymatgen.phonon.plotter import PhononBSPlotter"
   ]
  },
  {
   "cell_type": "code",
   "execution_count": 53,
   "id": "339b79b2",
   "metadata": {},
   "outputs": [],
   "source": [
    "mp_key = \"nbKtMcNjVctWQexVKEJTiT489Bo6oYrr\"\n",
    "mp_id = \"mp-11869\""
   ]
  },
  {
   "cell_type": "code",
   "execution_count": 54,
   "id": "d346cb03",
   "metadata": {},
   "outputs": [
    {
     "data": {
      "application/vnd.jupyter.widget-view+json": {
       "model_id": "bf611fe9dc114873af628b5e7dce9dd7",
       "version_major": 2,
       "version_minor": 0
      },
      "text/plain": [
       "Retrieving PhononBSDOSDoc documents:   0%|          | 0/1 [00:00<?, ?it/s]"
      ]
     },
     "metadata": {},
     "output_type": "display_data"
    }
   ],
   "source": [
    "#Récupération de la structure des bandes\n",
    "with MPRester(mp_key) as m:\n",
    "    ph_band_struct = m.get_phonon_bandstructure_by_material_id(mp_id)"
   ]
  },
  {
   "cell_type": "code",
   "execution_count": 55,
   "id": "79d6c47b",
   "metadata": {},
   "outputs": [
    {
     "data": {
      "application/vnd.plotly.v1+json": {
       "config": {
        "plotlyServerURL": "https://plot.ly"
       },
       "data": [
        {
         "line": {
          "color": "green"
         },
         "mode": "lines+text",
         "showlegend": false,
         "text": [
          "",
          "a"
         ],
         "type": "scatter3d",
         "x": [
          0,
          -0.9989307501160679
         ],
         "y": [
          0,
          0.9989307501160679
         ],
         "z": [
          0,
          0.9989307501160679
         ]
        },
        {
         "line": {
          "color": "green"
         },
         "mode": "lines+text",
         "showlegend": false,
         "text": [
          "",
          "b"
         ],
         "type": "scatter3d",
         "x": [
          0,
          0.9989307501160679
         ],
         "y": [
          0,
          -0.9989307501160679
         ],
         "z": [
          0,
          0.9989307501160679
         ]
        },
        {
         "line": {
          "color": "green"
         },
         "mode": "lines+text",
         "showlegend": false,
         "text": [
          "",
          "c"
         ],
         "type": "scatter3d",
         "x": [
          0,
          0.9989307501160679
         ],
         "y": [
          0,
          0.9989307501160679
         ],
         "z": [
          0,
          -0.9989307501160679
         ]
        },
        {
         "line": {
          "color": "black"
         },
         "mode": "lines",
         "showlegend": false,
         "text": "",
         "type": "scatter3d",
         "x": [
          -0.49946537505803396,
          0
         ],
         "y": [
          -0.998930750116068,
          -0.998930750116068
         ],
         "z": [
          0,
          -0.49946537505803396
         ]
        },
        {
         "line": {
          "color": "black"
         },
         "mode": "lines",
         "showlegend": false,
         "text": "",
         "type": "scatter3d",
         "x": [
          -0.49946537505803396,
          0
         ],
         "y": [
          -0.998930750116068,
          -0.998930750116068
         ],
         "z": [
          0,
          0.49946537505803396
         ]
        },
        {
         "line": {
          "color": "black"
         },
         "mode": "lines",
         "showlegend": false,
         "text": "",
         "type": "scatter3d",
         "x": [
          0,
          0.49946537505803396
         ],
         "y": [
          -0.998930750116068,
          -0.998930750116068
         ],
         "z": [
          -0.49946537505803396,
          0
         ]
        },
        {
         "line": {
          "color": "black"
         },
         "mode": "lines",
         "showlegend": false,
         "text": "",
         "type": "scatter3d",
         "x": [
          0.49946537505803396,
          0
         ],
         "y": [
          -0.998930750116068,
          -0.998930750116068
         ],
         "z": [
          0,
          0.49946537505803396
         ]
        },
        {
         "line": {
          "color": "black"
         },
         "mode": "lines",
         "showlegend": false,
         "text": "",
         "type": "scatter3d",
         "x": [
          -0.9989307501160679,
          -0.9989307501160679
         ],
         "y": [
          0,
          -0.4994653750580339
         ],
         "z": [
          0.49946537505803407,
          1.1102230246251565e-16
         ]
        },
        {
         "line": {
          "color": "black"
         },
         "mode": "lines",
         "showlegend": false,
         "text": "",
         "type": "scatter3d",
         "x": [
          -0.9989307501160679,
          -0.499465375058034
         ],
         "y": [
          0,
          0
         ],
         "z": [
          0.49946537505803407,
          0.998930750116068
         ]
        },
        {
         "line": {
          "color": "black"
         },
         "mode": "lines",
         "showlegend": false,
         "text": "",
         "type": "scatter3d",
         "x": [
          -0.9989307501160679,
          -0.49946537505803396
         ],
         "y": [
          -0.4994653750580339,
          -0.998930750116068
         ],
         "z": [
          1.1102230246251565e-16,
          0
         ]
        },
        {
         "line": {
          "color": "black"
         },
         "mode": "lines",
         "showlegend": false,
         "text": "",
         "type": "scatter3d",
         "x": [
          0,
          0
         ],
         "y": [
          -0.998930750116068,
          -0.499465375058034
         ],
         "z": [
          0.49946537505803396,
          0.998930750116068
         ]
        },
        {
         "line": {
          "color": "black"
         },
         "mode": "lines",
         "showlegend": false,
         "text": "",
         "type": "scatter3d",
         "x": [
          0,
          -0.499465375058034
         ],
         "y": [
          -0.499465375058034,
          0
         ],
         "z": [
          0.998930750116068,
          0.998930750116068
         ]
        },
        {
         "line": {
          "color": "black"
         },
         "mode": "lines",
         "showlegend": false,
         "text": "",
         "type": "scatter3d",
         "x": [
          -0.499465375058034,
          0
         ],
         "y": [
          0,
          -0.499465375058034
         ],
         "z": [
          -0.998930750116068,
          -0.998930750116068
         ]
        },
        {
         "line": {
          "color": "black"
         },
         "mode": "lines",
         "showlegend": false,
         "text": "",
         "type": "scatter3d",
         "x": [
          -0.499465375058034,
          1.1102230246251565e-16
         ],
         "y": [
          0,
          0.49946537505803396
         ],
         "z": [
          -0.998930750116068,
          -0.9989307501160679
         ]
        },
        {
         "line": {
          "color": "black"
         },
         "mode": "lines",
         "showlegend": false,
         "text": "",
         "type": "scatter3d",
         "x": [
          0,
          0.49946537505803396
         ],
         "y": [
          -0.499465375058034,
          1.1102230246251565e-16
         ],
         "z": [
          -0.998930750116068,
          -0.9989307501160679
         ]
        },
        {
         "line": {
          "color": "black"
         },
         "mode": "lines",
         "showlegend": false,
         "text": "",
         "type": "scatter3d",
         "x": [
          0.49946537505803396,
          1.1102230246251565e-16
         ],
         "y": [
          1.1102230246251565e-16,
          0.49946537505803396
         ],
         "z": [
          -0.9989307501160679,
          -0.9989307501160679
         ]
        },
        {
         "line": {
          "color": "black"
         },
         "mode": "lines",
         "showlegend": false,
         "text": "",
         "type": "scatter3d",
         "x": [
          -0.9989307501160679,
          -0.9989307501160679
         ],
         "y": [
          0,
          0.49946537505803407
         ],
         "z": [
          0.49946537505803407,
          0
         ]
        },
        {
         "line": {
          "color": "black"
         },
         "mode": "lines",
         "showlegend": false,
         "text": "",
         "type": "scatter3d",
         "x": [
          -0.9989307501160679,
          -0.9989307501160679
         ],
         "y": [
          -0.4994653750580339,
          1.1102230246251565e-16
         ],
         "z": [
          1.1102230246251565e-16,
          -0.49946537505803396
         ]
        },
        {
         "line": {
          "color": "black"
         },
         "mode": "lines",
         "showlegend": false,
         "text": "",
         "type": "scatter3d",
         "x": [
          -0.9989307501160679,
          -0.9989307501160679
         ],
         "y": [
          1.1102230246251565e-16,
          0.49946537505803407
         ],
         "z": [
          -0.49946537505803396,
          0
         ]
        },
        {
         "line": {
          "color": "black"
         },
         "mode": "lines",
         "showlegend": false,
         "text": "",
         "type": "scatter3d",
         "x": [
          -0.9989307501160679,
          -0.499465375058034
         ],
         "y": [
          1.1102230246251565e-16,
          0
         ],
         "z": [
          -0.49946537505803396,
          -0.998930750116068
         ]
        },
        {
         "line": {
          "color": "black"
         },
         "mode": "lines",
         "showlegend": false,
         "text": "",
         "type": "scatter3d",
         "x": [
          0,
          0
         ],
         "y": [
          -0.499465375058034,
          -0.998930750116068
         ],
         "z": [
          -0.998930750116068,
          -0.49946537505803396
         ]
        },
        {
         "line": {
          "color": "black"
         },
         "mode": "lines",
         "showlegend": false,
         "text": "",
         "type": "scatter3d",
         "x": [
          -0.9989307501160679,
          -0.49946537505803396
         ],
         "y": [
          0.49946537505803407,
          0.998930750116068
         ],
         "z": [
          0,
          0
         ]
        },
        {
         "line": {
          "color": "black"
         },
         "mode": "lines",
         "showlegend": false,
         "text": "",
         "type": "scatter3d",
         "x": [
          1.1102230246251565e-16,
          0
         ],
         "y": [
          0.49946537505803396,
          0.998930750116068
         ],
         "z": [
          -0.9989307501160679,
          -0.49946537505803396
         ]
        },
        {
         "line": {
          "color": "black"
         },
         "mode": "lines",
         "showlegend": false,
         "text": "",
         "type": "scatter3d",
         "x": [
          0,
          -0.49946537505803396
         ],
         "y": [
          0.998930750116068,
          0.998930750116068
         ],
         "z": [
          -0.49946537505803396,
          0
         ]
        },
        {
         "line": {
          "color": "black"
         },
         "mode": "lines",
         "showlegend": false,
         "text": "",
         "type": "scatter3d",
         "x": [
          -0.49946537505803396,
          1.1102230246251565e-16
         ],
         "y": [
          0.998930750116068,
          0.9989307501160679
         ],
         "z": [
          0,
          0.49946537505803396
         ]
        },
        {
         "line": {
          "color": "black"
         },
         "mode": "lines",
         "showlegend": false,
         "text": "",
         "type": "scatter3d",
         "x": [
          1.1102230246251565e-16,
          1.1102230246251565e-16
         ],
         "y": [
          0.9989307501160679,
          0.49946537505803396
         ],
         "z": [
          0.49946537505803396,
          0.9989307501160679
         ]
        },
        {
         "line": {
          "color": "black"
         },
         "mode": "lines",
         "showlegend": false,
         "text": "",
         "type": "scatter3d",
         "x": [
          1.1102230246251565e-16,
          -0.499465375058034
         ],
         "y": [
          0.49946537505803396,
          0
         ],
         "z": [
          0.9989307501160679,
          0.998930750116068
         ]
        },
        {
         "line": {
          "color": "black"
         },
         "mode": "lines",
         "showlegend": false,
         "text": "",
         "type": "scatter3d",
         "x": [
          0.998930750116068,
          0.998930750116068
         ],
         "y": [
          -0.49946537505803396,
          0
         ],
         "z": [
          0,
          0.49946537505803396
         ]
        },
        {
         "line": {
          "color": "black"
         },
         "mode": "lines",
         "showlegend": false,
         "text": "",
         "type": "scatter3d",
         "x": [
          0.998930750116068,
          0.998930750116068
         ],
         "y": [
          -0.49946537505803396,
          0
         ],
         "z": [
          0,
          -0.49946537505803396
         ]
        },
        {
         "line": {
          "color": "black"
         },
         "mode": "lines",
         "showlegend": false,
         "text": "",
         "type": "scatter3d",
         "x": [
          0.998930750116068,
          0.998930750116068
         ],
         "y": [
          0,
          0.49946537505803396
         ],
         "z": [
          0.49946537505803396,
          0
         ]
        },
        {
         "line": {
          "color": "black"
         },
         "mode": "lines",
         "showlegend": false,
         "text": "",
         "type": "scatter3d",
         "x": [
          0.998930750116068,
          0.998930750116068
         ],
         "y": [
          0.49946537505803396,
          0
         ],
         "z": [
          0,
          -0.49946537505803396
         ]
        },
        {
         "line": {
          "color": "black"
         },
         "mode": "lines",
         "showlegend": false,
         "text": "",
         "type": "scatter3d",
         "x": [
          0.49946537505803396,
          0.998930750116068
         ],
         "y": [
          -0.998930750116068,
          -0.49946537505803396
         ],
         "z": [
          0,
          0
         ]
        },
        {
         "line": {
          "color": "black"
         },
         "mode": "lines",
         "showlegend": false,
         "text": "",
         "type": "scatter3d",
         "x": [
          0.998930750116068,
          0.49946537505803396
         ],
         "y": [
          0,
          1.1102230246251565e-16
         ],
         "z": [
          -0.49946537505803396,
          -0.9989307501160679
         ]
        },
        {
         "line": {
          "color": "black"
         },
         "mode": "lines",
         "showlegend": false,
         "text": "",
         "type": "scatter3d",
         "x": [
          0,
          0.49946537505803396
         ],
         "y": [
          -0.499465375058034,
          1.1102230246251565e-16
         ],
         "z": [
          0.998930750116068,
          0.9989307501160679
         ]
        },
        {
         "line": {
          "color": "black"
         },
         "mode": "lines",
         "showlegend": false,
         "text": "",
         "type": "scatter3d",
         "x": [
          0.49946537505803396,
          0.998930750116068
         ],
         "y": [
          1.1102230246251565e-16,
          0
         ],
         "z": [
          0.9989307501160679,
          0.49946537505803396
         ]
        },
        {
         "line": {
          "color": "black"
         },
         "mode": "lines",
         "showlegend": false,
         "text": "",
         "type": "scatter3d",
         "x": [
          0.49946537505803396,
          1.1102230246251565e-16
         ],
         "y": [
          1.1102230246251565e-16,
          0.49946537505803396
         ],
         "z": [
          0.9989307501160679,
          0.9989307501160679
         ]
        },
        {
         "line": {
          "color": "black"
         },
         "mode": "lines",
         "showlegend": false,
         "text": "",
         "type": "scatter3d",
         "x": [
          0.998930750116068,
          0.4994653750580339
         ],
         "y": [
          0.49946537505803396,
          0.9989307501160679
         ],
         "z": [
          0,
          1.1102230246251565e-16
         ]
        },
        {
         "line": {
          "color": "black"
         },
         "mode": "lines",
         "showlegend": false,
         "text": "",
         "type": "scatter3d",
         "x": [
          0.4994653750580339,
          1.1102230246251565e-16
         ],
         "y": [
          0.9989307501160679,
          0.9989307501160679
         ],
         "z": [
          1.1102230246251565e-16,
          0.49946537505803396
         ]
        },
        {
         "line": {
          "color": "black"
         },
         "mode": "lines",
         "showlegend": false,
         "text": "",
         "type": "scatter3d",
         "x": [
          0,
          0.4994653750580339
         ],
         "y": [
          0.998930750116068,
          0.9989307501160679
         ],
         "z": [
          -0.49946537505803396,
          1.1102230246251565e-16
         ]
        },
        {
         "line": {
          "color": "red"
         },
         "mode": "lines",
         "showlegend": false,
         "text": "",
         "type": "scatter3d",
         "x": [
          0,
          0
         ],
         "y": [
          0,
          0.9989307501160679
         ],
         "z": [
          0,
          0
         ]
        },
        {
         "line": {
          "color": "red"
         },
         "mode": "lines",
         "showlegend": false,
         "text": "",
         "type": "scatter3d",
         "x": [
          0,
          0.4994653750580339
         ],
         "y": [
          0.9989307501160679,
          0.9989307501160679
         ],
         "z": [
          0,
          2.7755575615628914e-17
         ]
        },
        {
         "line": {
          "color": "red"
         },
         "mode": "lines",
         "showlegend": false,
         "text": "",
         "type": "scatter3d",
         "x": [
          0.4994653750580339,
          0.7491980625870509
         ],
         "y": [
          0.9989307501160679,
          0.7491980625870509
         ],
         "z": [
          2.7755575615628914e-17,
          0
         ]
        },
        {
         "line": {
          "color": "red"
         },
         "mode": "lines",
         "showlegend": false,
         "text": "",
         "type": "scatter3d",
         "x": [
          0.7491980625870509,
          0
         ],
         "y": [
          0.7491980625870509,
          0
         ],
         "z": [
          0,
          0
         ]
        },
        {
         "line": {
          "color": "red"
         },
         "mode": "lines",
         "showlegend": false,
         "text": "",
         "type": "scatter3d",
         "x": [
          0,
          0.49946537505803396
         ],
         "y": [
          0,
          0.49946537505803396
         ],
         "z": [
          0,
          0.49946537505803396
         ]
        },
        {
         "line": {
          "color": "red"
         },
         "mode": "lines",
         "showlegend": false,
         "text": "",
         "type": "scatter3d",
         "x": [
          0.49946537505803396,
          0.24973268752901698
         ],
         "y": [
          0.49946537505803396,
          0.9989307501160679
         ],
         "z": [
          0.49946537505803396,
          0.24973268752901698
         ]
        },
        {
         "line": {
          "color": "red"
         },
         "mode": "lines",
         "showlegend": false,
         "text": "",
         "type": "scatter3d",
         "x": [
          0.24973268752901698,
          0.4994653750580339
         ],
         "y": [
          0.9989307501160679,
          0.9989307501160679
         ],
         "z": [
          0.24973268752901698,
          2.7755575615628914e-17
         ]
        },
        {
         "line": {
          "color": "red"
         },
         "mode": "lines",
         "showlegend": false,
         "text": "",
         "type": "scatter3d",
         "x": [
          0.4994653750580339,
          0.49946537505803396
         ],
         "y": [
          0.9989307501160679,
          0.49946537505803396
         ],
         "z": [
          2.7755575615628914e-17,
          0.49946537505803396
         ]
        },
        {
         "line": {
          "color": "red"
         },
         "mode": "lines",
         "showlegend": false,
         "text": "",
         "type": "scatter3d",
         "x": [
          0.49946537505803396,
          0.7491980625870509
         ],
         "y": [
          0.49946537505803396,
          0.7491980625870509
         ],
         "z": [
          0.49946537505803396,
          0
         ]
        },
        {
         "line": {
          "color": "red"
         },
         "mode": "lines",
         "showlegend": false,
         "text": "",
         "type": "scatter3d",
         "x": [
          0.24973268752901698,
          0
         ],
         "y": [
          0.9989307501160679,
          0.9989307501160679
         ],
         "z": [
          0.24973268752901698,
          0
         ]
        },
        {
         "marker": {
          "color": "red",
          "size": 4
         },
         "mode": "markers+text",
         "showlegend": false,
         "text": [
          "Γ",
          "K",
          "L",
          "U",
          "W",
          "X"
         ],
         "textfont": {
          "color": "red"
         },
         "type": "scatter3d",
         "x": [
          0,
          0.7491980625870509,
          0.49946537505803396,
          0.24973268752901698,
          0.4994653750580339,
          0
         ],
         "y": [
          0,
          0.7491980625870509,
          0.49946537505803396,
          0.9989307501160679,
          0.9989307501160679,
          0.9989307501160679
         ],
         "z": [
          0,
          0,
          0.49946537505803396,
          0.24973268752901698,
          2.7755575615628914e-17,
          0
         ]
        }
       ],
       "layout": {
        "scene": {
         "xaxis": {
          "range": [
           -1.15,
           1.15
          ],
          "visible": false
         },
         "yaxis": {
          "range": [
           -1.15,
           1.15
          ],
          "visible": false
         },
         "zaxis": {
          "range": [
           -1.15,
           1.15
          ],
          "visible": false
         }
        },
        "template": {
         "data": {
          "bar": [
           {
            "error_x": {
             "color": "#2a3f5f"
            },
            "error_y": {
             "color": "#2a3f5f"
            },
            "marker": {
             "line": {
              "color": "#E5ECF6",
              "width": 0.5
             },
             "pattern": {
              "fillmode": "overlay",
              "size": 10,
              "solidity": 0.2
             }
            },
            "type": "bar"
           }
          ],
          "barpolar": [
           {
            "marker": {
             "line": {
              "color": "#E5ECF6",
              "width": 0.5
             },
             "pattern": {
              "fillmode": "overlay",
              "size": 10,
              "solidity": 0.2
             }
            },
            "type": "barpolar"
           }
          ],
          "carpet": [
           {
            "aaxis": {
             "endlinecolor": "#2a3f5f",
             "gridcolor": "white",
             "linecolor": "white",
             "minorgridcolor": "white",
             "startlinecolor": "#2a3f5f"
            },
            "baxis": {
             "endlinecolor": "#2a3f5f",
             "gridcolor": "white",
             "linecolor": "white",
             "minorgridcolor": "white",
             "startlinecolor": "#2a3f5f"
            },
            "type": "carpet"
           }
          ],
          "choropleth": [
           {
            "colorbar": {
             "outlinewidth": 0,
             "ticks": ""
            },
            "type": "choropleth"
           }
          ],
          "contour": [
           {
            "colorbar": {
             "outlinewidth": 0,
             "ticks": ""
            },
            "colorscale": [
             [
              0,
              "#0d0887"
             ],
             [
              0.1111111111111111,
              "#46039f"
             ],
             [
              0.2222222222222222,
              "#7201a8"
             ],
             [
              0.3333333333333333,
              "#9c179e"
             ],
             [
              0.4444444444444444,
              "#bd3786"
             ],
             [
              0.5555555555555556,
              "#d8576b"
             ],
             [
              0.6666666666666666,
              "#ed7953"
             ],
             [
              0.7777777777777778,
              "#fb9f3a"
             ],
             [
              0.8888888888888888,
              "#fdca26"
             ],
             [
              1,
              "#f0f921"
             ]
            ],
            "type": "contour"
           }
          ],
          "contourcarpet": [
           {
            "colorbar": {
             "outlinewidth": 0,
             "ticks": ""
            },
            "type": "contourcarpet"
           }
          ],
          "heatmap": [
           {
            "colorbar": {
             "outlinewidth": 0,
             "ticks": ""
            },
            "colorscale": [
             [
              0,
              "#0d0887"
             ],
             [
              0.1111111111111111,
              "#46039f"
             ],
             [
              0.2222222222222222,
              "#7201a8"
             ],
             [
              0.3333333333333333,
              "#9c179e"
             ],
             [
              0.4444444444444444,
              "#bd3786"
             ],
             [
              0.5555555555555556,
              "#d8576b"
             ],
             [
              0.6666666666666666,
              "#ed7953"
             ],
             [
              0.7777777777777778,
              "#fb9f3a"
             ],
             [
              0.8888888888888888,
              "#fdca26"
             ],
             [
              1,
              "#f0f921"
             ]
            ],
            "type": "heatmap"
           }
          ],
          "heatmapgl": [
           {
            "colorbar": {
             "outlinewidth": 0,
             "ticks": ""
            },
            "colorscale": [
             [
              0,
              "#0d0887"
             ],
             [
              0.1111111111111111,
              "#46039f"
             ],
             [
              0.2222222222222222,
              "#7201a8"
             ],
             [
              0.3333333333333333,
              "#9c179e"
             ],
             [
              0.4444444444444444,
              "#bd3786"
             ],
             [
              0.5555555555555556,
              "#d8576b"
             ],
             [
              0.6666666666666666,
              "#ed7953"
             ],
             [
              0.7777777777777778,
              "#fb9f3a"
             ],
             [
              0.8888888888888888,
              "#fdca26"
             ],
             [
              1,
              "#f0f921"
             ]
            ],
            "type": "heatmapgl"
           }
          ],
          "histogram": [
           {
            "marker": {
             "pattern": {
              "fillmode": "overlay",
              "size": 10,
              "solidity": 0.2
             }
            },
            "type": "histogram"
           }
          ],
          "histogram2d": [
           {
            "colorbar": {
             "outlinewidth": 0,
             "ticks": ""
            },
            "colorscale": [
             [
              0,
              "#0d0887"
             ],
             [
              0.1111111111111111,
              "#46039f"
             ],
             [
              0.2222222222222222,
              "#7201a8"
             ],
             [
              0.3333333333333333,
              "#9c179e"
             ],
             [
              0.4444444444444444,
              "#bd3786"
             ],
             [
              0.5555555555555556,
              "#d8576b"
             ],
             [
              0.6666666666666666,
              "#ed7953"
             ],
             [
              0.7777777777777778,
              "#fb9f3a"
             ],
             [
              0.8888888888888888,
              "#fdca26"
             ],
             [
              1,
              "#f0f921"
             ]
            ],
            "type": "histogram2d"
           }
          ],
          "histogram2dcontour": [
           {
            "colorbar": {
             "outlinewidth": 0,
             "ticks": ""
            },
            "colorscale": [
             [
              0,
              "#0d0887"
             ],
             [
              0.1111111111111111,
              "#46039f"
             ],
             [
              0.2222222222222222,
              "#7201a8"
             ],
             [
              0.3333333333333333,
              "#9c179e"
             ],
             [
              0.4444444444444444,
              "#bd3786"
             ],
             [
              0.5555555555555556,
              "#d8576b"
             ],
             [
              0.6666666666666666,
              "#ed7953"
             ],
             [
              0.7777777777777778,
              "#fb9f3a"
             ],
             [
              0.8888888888888888,
              "#fdca26"
             ],
             [
              1,
              "#f0f921"
             ]
            ],
            "type": "histogram2dcontour"
           }
          ],
          "mesh3d": [
           {
            "colorbar": {
             "outlinewidth": 0,
             "ticks": ""
            },
            "type": "mesh3d"
           }
          ],
          "parcoords": [
           {
            "line": {
             "colorbar": {
              "outlinewidth": 0,
              "ticks": ""
             }
            },
            "type": "parcoords"
           }
          ],
          "pie": [
           {
            "automargin": true,
            "type": "pie"
           }
          ],
          "scatter": [
           {
            "fillpattern": {
             "fillmode": "overlay",
             "size": 10,
             "solidity": 0.2
            },
            "type": "scatter"
           }
          ],
          "scatter3d": [
           {
            "line": {
             "colorbar": {
              "outlinewidth": 0,
              "ticks": ""
             }
            },
            "marker": {
             "colorbar": {
              "outlinewidth": 0,
              "ticks": ""
             }
            },
            "type": "scatter3d"
           }
          ],
          "scattercarpet": [
           {
            "marker": {
             "colorbar": {
              "outlinewidth": 0,
              "ticks": ""
             }
            },
            "type": "scattercarpet"
           }
          ],
          "scattergeo": [
           {
            "marker": {
             "colorbar": {
              "outlinewidth": 0,
              "ticks": ""
             }
            },
            "type": "scattergeo"
           }
          ],
          "scattergl": [
           {
            "marker": {
             "colorbar": {
              "outlinewidth": 0,
              "ticks": ""
             }
            },
            "type": "scattergl"
           }
          ],
          "scattermapbox": [
           {
            "marker": {
             "colorbar": {
              "outlinewidth": 0,
              "ticks": ""
             }
            },
            "type": "scattermapbox"
           }
          ],
          "scatterpolar": [
           {
            "marker": {
             "colorbar": {
              "outlinewidth": 0,
              "ticks": ""
             }
            },
            "type": "scatterpolar"
           }
          ],
          "scatterpolargl": [
           {
            "marker": {
             "colorbar": {
              "outlinewidth": 0,
              "ticks": ""
             }
            },
            "type": "scatterpolargl"
           }
          ],
          "scatterternary": [
           {
            "marker": {
             "colorbar": {
              "outlinewidth": 0,
              "ticks": ""
             }
            },
            "type": "scatterternary"
           }
          ],
          "surface": [
           {
            "colorbar": {
             "outlinewidth": 0,
             "ticks": ""
            },
            "colorscale": [
             [
              0,
              "#0d0887"
             ],
             [
              0.1111111111111111,
              "#46039f"
             ],
             [
              0.2222222222222222,
              "#7201a8"
             ],
             [
              0.3333333333333333,
              "#9c179e"
             ],
             [
              0.4444444444444444,
              "#bd3786"
             ],
             [
              0.5555555555555556,
              "#d8576b"
             ],
             [
              0.6666666666666666,
              "#ed7953"
             ],
             [
              0.7777777777777778,
              "#fb9f3a"
             ],
             [
              0.8888888888888888,
              "#fdca26"
             ],
             [
              1,
              "#f0f921"
             ]
            ],
            "type": "surface"
           }
          ],
          "table": [
           {
            "cells": {
             "fill": {
              "color": "#EBF0F8"
             },
             "line": {
              "color": "white"
             }
            },
            "header": {
             "fill": {
              "color": "#C8D4E3"
             },
             "line": {
              "color": "white"
             }
            },
            "type": "table"
           }
          ]
         },
         "layout": {
          "annotationdefaults": {
           "arrowcolor": "#2a3f5f",
           "arrowhead": 0,
           "arrowwidth": 1
          },
          "autotypenumbers": "strict",
          "coloraxis": {
           "colorbar": {
            "outlinewidth": 0,
            "ticks": ""
           }
          },
          "colorscale": {
           "diverging": [
            [
             0,
             "#8e0152"
            ],
            [
             0.1,
             "#c51b7d"
            ],
            [
             0.2,
             "#de77ae"
            ],
            [
             0.3,
             "#f1b6da"
            ],
            [
             0.4,
             "#fde0ef"
            ],
            [
             0.5,
             "#f7f7f7"
            ],
            [
             0.6,
             "#e6f5d0"
            ],
            [
             0.7,
             "#b8e186"
            ],
            [
             0.8,
             "#7fbc41"
            ],
            [
             0.9,
             "#4d9221"
            ],
            [
             1,
             "#276419"
            ]
           ],
           "sequential": [
            [
             0,
             "#0d0887"
            ],
            [
             0.1111111111111111,
             "#46039f"
            ],
            [
             0.2222222222222222,
             "#7201a8"
            ],
            [
             0.3333333333333333,
             "#9c179e"
            ],
            [
             0.4444444444444444,
             "#bd3786"
            ],
            [
             0.5555555555555556,
             "#d8576b"
            ],
            [
             0.6666666666666666,
             "#ed7953"
            ],
            [
             0.7777777777777778,
             "#fb9f3a"
            ],
            [
             0.8888888888888888,
             "#fdca26"
            ],
            [
             1,
             "#f0f921"
            ]
           ],
           "sequentialminus": [
            [
             0,
             "#0d0887"
            ],
            [
             0.1111111111111111,
             "#46039f"
            ],
            [
             0.2222222222222222,
             "#7201a8"
            ],
            [
             0.3333333333333333,
             "#9c179e"
            ],
            [
             0.4444444444444444,
             "#bd3786"
            ],
            [
             0.5555555555555556,
             "#d8576b"
            ],
            [
             0.6666666666666666,
             "#ed7953"
            ],
            [
             0.7777777777777778,
             "#fb9f3a"
            ],
            [
             0.8888888888888888,
             "#fdca26"
            ],
            [
             1,
             "#f0f921"
            ]
           ]
          },
          "colorway": [
           "#636efa",
           "#EF553B",
           "#00cc96",
           "#ab63fa",
           "#FFA15A",
           "#19d3f3",
           "#FF6692",
           "#B6E880",
           "#FF97FF",
           "#FECB52"
          ],
          "font": {
           "color": "#2a3f5f"
          },
          "geo": {
           "bgcolor": "white",
           "lakecolor": "white",
           "landcolor": "#E5ECF6",
           "showlakes": true,
           "showland": true,
           "subunitcolor": "white"
          },
          "hoverlabel": {
           "align": "left"
          },
          "hovermode": "closest",
          "mapbox": {
           "style": "light"
          },
          "paper_bgcolor": "white",
          "plot_bgcolor": "#E5ECF6",
          "polar": {
           "angularaxis": {
            "gridcolor": "white",
            "linecolor": "white",
            "ticks": ""
           },
           "bgcolor": "#E5ECF6",
           "radialaxis": {
            "gridcolor": "white",
            "linecolor": "white",
            "ticks": ""
           }
          },
          "scene": {
           "xaxis": {
            "backgroundcolor": "#E5ECF6",
            "gridcolor": "white",
            "gridwidth": 2,
            "linecolor": "white",
            "showbackground": true,
            "ticks": "",
            "zerolinecolor": "white"
           },
           "yaxis": {
            "backgroundcolor": "#E5ECF6",
            "gridcolor": "white",
            "gridwidth": 2,
            "linecolor": "white",
            "showbackground": true,
            "ticks": "",
            "zerolinecolor": "white"
           },
           "zaxis": {
            "backgroundcolor": "#E5ECF6",
            "gridcolor": "white",
            "gridwidth": 2,
            "linecolor": "white",
            "showbackground": true,
            "ticks": "",
            "zerolinecolor": "white"
           }
          },
          "shapedefaults": {
           "line": {
            "color": "#2a3f5f"
           }
          },
          "ternary": {
           "aaxis": {
            "gridcolor": "white",
            "linecolor": "white",
            "ticks": ""
           },
           "baxis": {
            "gridcolor": "white",
            "linecolor": "white",
            "ticks": ""
           },
           "bgcolor": "#E5ECF6",
           "caxis": {
            "gridcolor": "white",
            "linecolor": "white",
            "ticks": ""
           }
          },
          "title": {
           "x": 0.05
          },
          "xaxis": {
           "automargin": true,
           "gridcolor": "white",
           "linecolor": "white",
           "ticks": "",
           "title": {
            "standoff": 15
           },
           "zerolinecolor": "white",
           "zerolinewidth": 2
          },
          "yaxis": {
           "automargin": true,
           "gridcolor": "white",
           "linecolor": "white",
           "ticks": "",
           "title": {
            "standoff": 15
           },
           "zerolinecolor": "white",
           "zerolinewidth": 2
          }
         }
        }
       }
      },
      "text/html": [
       "<div>                            <div id=\"d35797ca-3ff1-4a79-88f1-373e05382c85\" class=\"plotly-graph-div\" style=\"height:525px; width:100%;\"></div>            <script type=\"text/javascript\">                require([\"plotly\"], function(Plotly) {                    window.PLOTLYENV=window.PLOTLYENV || {};                                    if (document.getElementById(\"d35797ca-3ff1-4a79-88f1-373e05382c85\")) {                    Plotly.newPlot(                        \"d35797ca-3ff1-4a79-88f1-373e05382c85\",                        [{\"line\":{\"color\":\"green\"},\"mode\":\"lines+text\",\"showlegend\":false,\"text\":[\"\",\"a\"],\"x\":[0.0,-0.9989307501160679],\"y\":[0.0,0.9989307501160679],\"z\":[0.0,0.9989307501160679],\"type\":\"scatter3d\"},{\"line\":{\"color\":\"green\"},\"mode\":\"lines+text\",\"showlegend\":false,\"text\":[\"\",\"b\"],\"x\":[0.0,0.9989307501160679],\"y\":[0.0,-0.9989307501160679],\"z\":[0.0,0.9989307501160679],\"type\":\"scatter3d\"},{\"line\":{\"color\":\"green\"},\"mode\":\"lines+text\",\"showlegend\":false,\"text\":[\"\",\"c\"],\"x\":[0.0,0.9989307501160679],\"y\":[0.0,0.9989307501160679],\"z\":[0.0,-0.9989307501160679],\"type\":\"scatter3d\"},{\"line\":{\"color\":\"black\"},\"mode\":\"lines\",\"showlegend\":false,\"text\":\"\",\"x\":[-0.49946537505803396,0.0],\"y\":[-0.998930750116068,-0.998930750116068],\"z\":[0.0,-0.49946537505803396],\"type\":\"scatter3d\"},{\"line\":{\"color\":\"black\"},\"mode\":\"lines\",\"showlegend\":false,\"text\":\"\",\"x\":[-0.49946537505803396,0.0],\"y\":[-0.998930750116068,-0.998930750116068],\"z\":[0.0,0.49946537505803396],\"type\":\"scatter3d\"},{\"line\":{\"color\":\"black\"},\"mode\":\"lines\",\"showlegend\":false,\"text\":\"\",\"x\":[0.0,0.49946537505803396],\"y\":[-0.998930750116068,-0.998930750116068],\"z\":[-0.49946537505803396,0.0],\"type\":\"scatter3d\"},{\"line\":{\"color\":\"black\"},\"mode\":\"lines\",\"showlegend\":false,\"text\":\"\",\"x\":[0.49946537505803396,0.0],\"y\":[-0.998930750116068,-0.998930750116068],\"z\":[0.0,0.49946537505803396],\"type\":\"scatter3d\"},{\"line\":{\"color\":\"black\"},\"mode\":\"lines\",\"showlegend\":false,\"text\":\"\",\"x\":[-0.9989307501160679,-0.9989307501160679],\"y\":[0.0,-0.4994653750580339],\"z\":[0.49946537505803407,1.1102230246251565e-16],\"type\":\"scatter3d\"},{\"line\":{\"color\":\"black\"},\"mode\":\"lines\",\"showlegend\":false,\"text\":\"\",\"x\":[-0.9989307501160679,-0.499465375058034],\"y\":[0.0,0.0],\"z\":[0.49946537505803407,0.998930750116068],\"type\":\"scatter3d\"},{\"line\":{\"color\":\"black\"},\"mode\":\"lines\",\"showlegend\":false,\"text\":\"\",\"x\":[-0.9989307501160679,-0.49946537505803396],\"y\":[-0.4994653750580339,-0.998930750116068],\"z\":[1.1102230246251565e-16,0.0],\"type\":\"scatter3d\"},{\"line\":{\"color\":\"black\"},\"mode\":\"lines\",\"showlegend\":false,\"text\":\"\",\"x\":[0.0,0.0],\"y\":[-0.998930750116068,-0.499465375058034],\"z\":[0.49946537505803396,0.998930750116068],\"type\":\"scatter3d\"},{\"line\":{\"color\":\"black\"},\"mode\":\"lines\",\"showlegend\":false,\"text\":\"\",\"x\":[0.0,-0.499465375058034],\"y\":[-0.499465375058034,0.0],\"z\":[0.998930750116068,0.998930750116068],\"type\":\"scatter3d\"},{\"line\":{\"color\":\"black\"},\"mode\":\"lines\",\"showlegend\":false,\"text\":\"\",\"x\":[-0.499465375058034,0.0],\"y\":[0.0,-0.499465375058034],\"z\":[-0.998930750116068,-0.998930750116068],\"type\":\"scatter3d\"},{\"line\":{\"color\":\"black\"},\"mode\":\"lines\",\"showlegend\":false,\"text\":\"\",\"x\":[-0.499465375058034,1.1102230246251565e-16],\"y\":[0.0,0.49946537505803396],\"z\":[-0.998930750116068,-0.9989307501160679],\"type\":\"scatter3d\"},{\"line\":{\"color\":\"black\"},\"mode\":\"lines\",\"showlegend\":false,\"text\":\"\",\"x\":[0.0,0.49946537505803396],\"y\":[-0.499465375058034,1.1102230246251565e-16],\"z\":[-0.998930750116068,-0.9989307501160679],\"type\":\"scatter3d\"},{\"line\":{\"color\":\"black\"},\"mode\":\"lines\",\"showlegend\":false,\"text\":\"\",\"x\":[0.49946537505803396,1.1102230246251565e-16],\"y\":[1.1102230246251565e-16,0.49946537505803396],\"z\":[-0.9989307501160679,-0.9989307501160679],\"type\":\"scatter3d\"},{\"line\":{\"color\":\"black\"},\"mode\":\"lines\",\"showlegend\":false,\"text\":\"\",\"x\":[-0.9989307501160679,-0.9989307501160679],\"y\":[0.0,0.49946537505803407],\"z\":[0.49946537505803407,0.0],\"type\":\"scatter3d\"},{\"line\":{\"color\":\"black\"},\"mode\":\"lines\",\"showlegend\":false,\"text\":\"\",\"x\":[-0.9989307501160679,-0.9989307501160679],\"y\":[-0.4994653750580339,1.1102230246251565e-16],\"z\":[1.1102230246251565e-16,-0.49946537505803396],\"type\":\"scatter3d\"},{\"line\":{\"color\":\"black\"},\"mode\":\"lines\",\"showlegend\":false,\"text\":\"\",\"x\":[-0.9989307501160679,-0.9989307501160679],\"y\":[1.1102230246251565e-16,0.49946537505803407],\"z\":[-0.49946537505803396,0.0],\"type\":\"scatter3d\"},{\"line\":{\"color\":\"black\"},\"mode\":\"lines\",\"showlegend\":false,\"text\":\"\",\"x\":[-0.9989307501160679,-0.499465375058034],\"y\":[1.1102230246251565e-16,0.0],\"z\":[-0.49946537505803396,-0.998930750116068],\"type\":\"scatter3d\"},{\"line\":{\"color\":\"black\"},\"mode\":\"lines\",\"showlegend\":false,\"text\":\"\",\"x\":[0.0,0.0],\"y\":[-0.499465375058034,-0.998930750116068],\"z\":[-0.998930750116068,-0.49946537505803396],\"type\":\"scatter3d\"},{\"line\":{\"color\":\"black\"},\"mode\":\"lines\",\"showlegend\":false,\"text\":\"\",\"x\":[-0.9989307501160679,-0.49946537505803396],\"y\":[0.49946537505803407,0.998930750116068],\"z\":[0.0,0.0],\"type\":\"scatter3d\"},{\"line\":{\"color\":\"black\"},\"mode\":\"lines\",\"showlegend\":false,\"text\":\"\",\"x\":[1.1102230246251565e-16,0.0],\"y\":[0.49946537505803396,0.998930750116068],\"z\":[-0.9989307501160679,-0.49946537505803396],\"type\":\"scatter3d\"},{\"line\":{\"color\":\"black\"},\"mode\":\"lines\",\"showlegend\":false,\"text\":\"\",\"x\":[0.0,-0.49946537505803396],\"y\":[0.998930750116068,0.998930750116068],\"z\":[-0.49946537505803396,0.0],\"type\":\"scatter3d\"},{\"line\":{\"color\":\"black\"},\"mode\":\"lines\",\"showlegend\":false,\"text\":\"\",\"x\":[-0.49946537505803396,1.1102230246251565e-16],\"y\":[0.998930750116068,0.9989307501160679],\"z\":[0.0,0.49946537505803396],\"type\":\"scatter3d\"},{\"line\":{\"color\":\"black\"},\"mode\":\"lines\",\"showlegend\":false,\"text\":\"\",\"x\":[1.1102230246251565e-16,1.1102230246251565e-16],\"y\":[0.9989307501160679,0.49946537505803396],\"z\":[0.49946537505803396,0.9989307501160679],\"type\":\"scatter3d\"},{\"line\":{\"color\":\"black\"},\"mode\":\"lines\",\"showlegend\":false,\"text\":\"\",\"x\":[1.1102230246251565e-16,-0.499465375058034],\"y\":[0.49946537505803396,0.0],\"z\":[0.9989307501160679,0.998930750116068],\"type\":\"scatter3d\"},{\"line\":{\"color\":\"black\"},\"mode\":\"lines\",\"showlegend\":false,\"text\":\"\",\"x\":[0.998930750116068,0.998930750116068],\"y\":[-0.49946537505803396,0.0],\"z\":[0.0,0.49946537505803396],\"type\":\"scatter3d\"},{\"line\":{\"color\":\"black\"},\"mode\":\"lines\",\"showlegend\":false,\"text\":\"\",\"x\":[0.998930750116068,0.998930750116068],\"y\":[-0.49946537505803396,0.0],\"z\":[0.0,-0.49946537505803396],\"type\":\"scatter3d\"},{\"line\":{\"color\":\"black\"},\"mode\":\"lines\",\"showlegend\":false,\"text\":\"\",\"x\":[0.998930750116068,0.998930750116068],\"y\":[0.0,0.49946537505803396],\"z\":[0.49946537505803396,0.0],\"type\":\"scatter3d\"},{\"line\":{\"color\":\"black\"},\"mode\":\"lines\",\"showlegend\":false,\"text\":\"\",\"x\":[0.998930750116068,0.998930750116068],\"y\":[0.49946537505803396,0.0],\"z\":[0.0,-0.49946537505803396],\"type\":\"scatter3d\"},{\"line\":{\"color\":\"black\"},\"mode\":\"lines\",\"showlegend\":false,\"text\":\"\",\"x\":[0.49946537505803396,0.998930750116068],\"y\":[-0.998930750116068,-0.49946537505803396],\"z\":[0.0,0.0],\"type\":\"scatter3d\"},{\"line\":{\"color\":\"black\"},\"mode\":\"lines\",\"showlegend\":false,\"text\":\"\",\"x\":[0.998930750116068,0.49946537505803396],\"y\":[0.0,1.1102230246251565e-16],\"z\":[-0.49946537505803396,-0.9989307501160679],\"type\":\"scatter3d\"},{\"line\":{\"color\":\"black\"},\"mode\":\"lines\",\"showlegend\":false,\"text\":\"\",\"x\":[0.0,0.49946537505803396],\"y\":[-0.499465375058034,1.1102230246251565e-16],\"z\":[0.998930750116068,0.9989307501160679],\"type\":\"scatter3d\"},{\"line\":{\"color\":\"black\"},\"mode\":\"lines\",\"showlegend\":false,\"text\":\"\",\"x\":[0.49946537505803396,0.998930750116068],\"y\":[1.1102230246251565e-16,0.0],\"z\":[0.9989307501160679,0.49946537505803396],\"type\":\"scatter3d\"},{\"line\":{\"color\":\"black\"},\"mode\":\"lines\",\"showlegend\":false,\"text\":\"\",\"x\":[0.49946537505803396,1.1102230246251565e-16],\"y\":[1.1102230246251565e-16,0.49946537505803396],\"z\":[0.9989307501160679,0.9989307501160679],\"type\":\"scatter3d\"},{\"line\":{\"color\":\"black\"},\"mode\":\"lines\",\"showlegend\":false,\"text\":\"\",\"x\":[0.998930750116068,0.4994653750580339],\"y\":[0.49946537505803396,0.9989307501160679],\"z\":[0.0,1.1102230246251565e-16],\"type\":\"scatter3d\"},{\"line\":{\"color\":\"black\"},\"mode\":\"lines\",\"showlegend\":false,\"text\":\"\",\"x\":[0.4994653750580339,1.1102230246251565e-16],\"y\":[0.9989307501160679,0.9989307501160679],\"z\":[1.1102230246251565e-16,0.49946537505803396],\"type\":\"scatter3d\"},{\"line\":{\"color\":\"black\"},\"mode\":\"lines\",\"showlegend\":false,\"text\":\"\",\"x\":[0.0,0.4994653750580339],\"y\":[0.998930750116068,0.9989307501160679],\"z\":[-0.49946537505803396,1.1102230246251565e-16],\"type\":\"scatter3d\"},{\"line\":{\"color\":\"red\"},\"mode\":\"lines\",\"showlegend\":false,\"text\":\"\",\"x\":[0.0,0.0],\"y\":[0.0,0.9989307501160679],\"z\":[0.0,0.0],\"type\":\"scatter3d\"},{\"line\":{\"color\":\"red\"},\"mode\":\"lines\",\"showlegend\":false,\"text\":\"\",\"x\":[0.0,0.4994653750580339],\"y\":[0.9989307501160679,0.9989307501160679],\"z\":[0.0,2.7755575615628914e-17],\"type\":\"scatter3d\"},{\"line\":{\"color\":\"red\"},\"mode\":\"lines\",\"showlegend\":false,\"text\":\"\",\"x\":[0.4994653750580339,0.7491980625870509],\"y\":[0.9989307501160679,0.7491980625870509],\"z\":[2.7755575615628914e-17,0.0],\"type\":\"scatter3d\"},{\"line\":{\"color\":\"red\"},\"mode\":\"lines\",\"showlegend\":false,\"text\":\"\",\"x\":[0.7491980625870509,0.0],\"y\":[0.7491980625870509,0.0],\"z\":[0.0,0.0],\"type\":\"scatter3d\"},{\"line\":{\"color\":\"red\"},\"mode\":\"lines\",\"showlegend\":false,\"text\":\"\",\"x\":[0.0,0.49946537505803396],\"y\":[0.0,0.49946537505803396],\"z\":[0.0,0.49946537505803396],\"type\":\"scatter3d\"},{\"line\":{\"color\":\"red\"},\"mode\":\"lines\",\"showlegend\":false,\"text\":\"\",\"x\":[0.49946537505803396,0.24973268752901698],\"y\":[0.49946537505803396,0.9989307501160679],\"z\":[0.49946537505803396,0.24973268752901698],\"type\":\"scatter3d\"},{\"line\":{\"color\":\"red\"},\"mode\":\"lines\",\"showlegend\":false,\"text\":\"\",\"x\":[0.24973268752901698,0.4994653750580339],\"y\":[0.9989307501160679,0.9989307501160679],\"z\":[0.24973268752901698,2.7755575615628914e-17],\"type\":\"scatter3d\"},{\"line\":{\"color\":\"red\"},\"mode\":\"lines\",\"showlegend\":false,\"text\":\"\",\"x\":[0.4994653750580339,0.49946537505803396],\"y\":[0.9989307501160679,0.49946537505803396],\"z\":[2.7755575615628914e-17,0.49946537505803396],\"type\":\"scatter3d\"},{\"line\":{\"color\":\"red\"},\"mode\":\"lines\",\"showlegend\":false,\"text\":\"\",\"x\":[0.49946537505803396,0.7491980625870509],\"y\":[0.49946537505803396,0.7491980625870509],\"z\":[0.49946537505803396,0.0],\"type\":\"scatter3d\"},{\"line\":{\"color\":\"red\"},\"mode\":\"lines\",\"showlegend\":false,\"text\":\"\",\"x\":[0.24973268752901698,0.0],\"y\":[0.9989307501160679,0.9989307501160679],\"z\":[0.24973268752901698,0.0],\"type\":\"scatter3d\"},{\"marker\":{\"color\":\"red\",\"size\":4},\"mode\":\"markers+text\",\"showlegend\":false,\"text\":[\"Γ\",\"K\",\"L\",\"U\",\"W\",\"X\"],\"textfont\":{\"color\":\"red\"},\"x\":[0.0,0.7491980625870509,0.49946537505803396,0.24973268752901698,0.4994653750580339,0.0],\"y\":[0.0,0.7491980625870509,0.49946537505803396,0.9989307501160679,0.9989307501160679,0.9989307501160679],\"z\":[0.0,0.0,0.49946537505803396,0.24973268752901698,2.7755575615628914e-17,0.0],\"type\":\"scatter3d\"}],                        {\"template\":{\"data\":{\"histogram2dcontour\":[{\"type\":\"histogram2dcontour\",\"colorbar\":{\"outlinewidth\":0,\"ticks\":\"\"},\"colorscale\":[[0.0,\"#0d0887\"],[0.1111111111111111,\"#46039f\"],[0.2222222222222222,\"#7201a8\"],[0.3333333333333333,\"#9c179e\"],[0.4444444444444444,\"#bd3786\"],[0.5555555555555556,\"#d8576b\"],[0.6666666666666666,\"#ed7953\"],[0.7777777777777778,\"#fb9f3a\"],[0.8888888888888888,\"#fdca26\"],[1.0,\"#f0f921\"]]}],\"choropleth\":[{\"type\":\"choropleth\",\"colorbar\":{\"outlinewidth\":0,\"ticks\":\"\"}}],\"histogram2d\":[{\"type\":\"histogram2d\",\"colorbar\":{\"outlinewidth\":0,\"ticks\":\"\"},\"colorscale\":[[0.0,\"#0d0887\"],[0.1111111111111111,\"#46039f\"],[0.2222222222222222,\"#7201a8\"],[0.3333333333333333,\"#9c179e\"],[0.4444444444444444,\"#bd3786\"],[0.5555555555555556,\"#d8576b\"],[0.6666666666666666,\"#ed7953\"],[0.7777777777777778,\"#fb9f3a\"],[0.8888888888888888,\"#fdca26\"],[1.0,\"#f0f921\"]]}],\"heatmap\":[{\"type\":\"heatmap\",\"colorbar\":{\"outlinewidth\":0,\"ticks\":\"\"},\"colorscale\":[[0.0,\"#0d0887\"],[0.1111111111111111,\"#46039f\"],[0.2222222222222222,\"#7201a8\"],[0.3333333333333333,\"#9c179e\"],[0.4444444444444444,\"#bd3786\"],[0.5555555555555556,\"#d8576b\"],[0.6666666666666666,\"#ed7953\"],[0.7777777777777778,\"#fb9f3a\"],[0.8888888888888888,\"#fdca26\"],[1.0,\"#f0f921\"]]}],\"heatmapgl\":[{\"type\":\"heatmapgl\",\"colorbar\":{\"outlinewidth\":0,\"ticks\":\"\"},\"colorscale\":[[0.0,\"#0d0887\"],[0.1111111111111111,\"#46039f\"],[0.2222222222222222,\"#7201a8\"],[0.3333333333333333,\"#9c179e\"],[0.4444444444444444,\"#bd3786\"],[0.5555555555555556,\"#d8576b\"],[0.6666666666666666,\"#ed7953\"],[0.7777777777777778,\"#fb9f3a\"],[0.8888888888888888,\"#fdca26\"],[1.0,\"#f0f921\"]]}],\"contourcarpet\":[{\"type\":\"contourcarpet\",\"colorbar\":{\"outlinewidth\":0,\"ticks\":\"\"}}],\"contour\":[{\"type\":\"contour\",\"colorbar\":{\"outlinewidth\":0,\"ticks\":\"\"},\"colorscale\":[[0.0,\"#0d0887\"],[0.1111111111111111,\"#46039f\"],[0.2222222222222222,\"#7201a8\"],[0.3333333333333333,\"#9c179e\"],[0.4444444444444444,\"#bd3786\"],[0.5555555555555556,\"#d8576b\"],[0.6666666666666666,\"#ed7953\"],[0.7777777777777778,\"#fb9f3a\"],[0.8888888888888888,\"#fdca26\"],[1.0,\"#f0f921\"]]}],\"surface\":[{\"type\":\"surface\",\"colorbar\":{\"outlinewidth\":0,\"ticks\":\"\"},\"colorscale\":[[0.0,\"#0d0887\"],[0.1111111111111111,\"#46039f\"],[0.2222222222222222,\"#7201a8\"],[0.3333333333333333,\"#9c179e\"],[0.4444444444444444,\"#bd3786\"],[0.5555555555555556,\"#d8576b\"],[0.6666666666666666,\"#ed7953\"],[0.7777777777777778,\"#fb9f3a\"],[0.8888888888888888,\"#fdca26\"],[1.0,\"#f0f921\"]]}],\"mesh3d\":[{\"type\":\"mesh3d\",\"colorbar\":{\"outlinewidth\":0,\"ticks\":\"\"}}],\"scatter\":[{\"fillpattern\":{\"fillmode\":\"overlay\",\"size\":10,\"solidity\":0.2},\"type\":\"scatter\"}],\"parcoords\":[{\"type\":\"parcoords\",\"line\":{\"colorbar\":{\"outlinewidth\":0,\"ticks\":\"\"}}}],\"scatterpolargl\":[{\"type\":\"scatterpolargl\",\"marker\":{\"colorbar\":{\"outlinewidth\":0,\"ticks\":\"\"}}}],\"bar\":[{\"error_x\":{\"color\":\"#2a3f5f\"},\"error_y\":{\"color\":\"#2a3f5f\"},\"marker\":{\"line\":{\"color\":\"#E5ECF6\",\"width\":0.5},\"pattern\":{\"fillmode\":\"overlay\",\"size\":10,\"solidity\":0.2}},\"type\":\"bar\"}],\"scattergeo\":[{\"type\":\"scattergeo\",\"marker\":{\"colorbar\":{\"outlinewidth\":0,\"ticks\":\"\"}}}],\"scatterpolar\":[{\"type\":\"scatterpolar\",\"marker\":{\"colorbar\":{\"outlinewidth\":0,\"ticks\":\"\"}}}],\"histogram\":[{\"marker\":{\"pattern\":{\"fillmode\":\"overlay\",\"size\":10,\"solidity\":0.2}},\"type\":\"histogram\"}],\"scattergl\":[{\"type\":\"scattergl\",\"marker\":{\"colorbar\":{\"outlinewidth\":0,\"ticks\":\"\"}}}],\"scatter3d\":[{\"type\":\"scatter3d\",\"line\":{\"colorbar\":{\"outlinewidth\":0,\"ticks\":\"\"}},\"marker\":{\"colorbar\":{\"outlinewidth\":0,\"ticks\":\"\"}}}],\"scattermapbox\":[{\"type\":\"scattermapbox\",\"marker\":{\"colorbar\":{\"outlinewidth\":0,\"ticks\":\"\"}}}],\"scatterternary\":[{\"type\":\"scatterternary\",\"marker\":{\"colorbar\":{\"outlinewidth\":0,\"ticks\":\"\"}}}],\"scattercarpet\":[{\"type\":\"scattercarpet\",\"marker\":{\"colorbar\":{\"outlinewidth\":0,\"ticks\":\"\"}}}],\"carpet\":[{\"aaxis\":{\"endlinecolor\":\"#2a3f5f\",\"gridcolor\":\"white\",\"linecolor\":\"white\",\"minorgridcolor\":\"white\",\"startlinecolor\":\"#2a3f5f\"},\"baxis\":{\"endlinecolor\":\"#2a3f5f\",\"gridcolor\":\"white\",\"linecolor\":\"white\",\"minorgridcolor\":\"white\",\"startlinecolor\":\"#2a3f5f\"},\"type\":\"carpet\"}],\"table\":[{\"cells\":{\"fill\":{\"color\":\"#EBF0F8\"},\"line\":{\"color\":\"white\"}},\"header\":{\"fill\":{\"color\":\"#C8D4E3\"},\"line\":{\"color\":\"white\"}},\"type\":\"table\"}],\"barpolar\":[{\"marker\":{\"line\":{\"color\":\"#E5ECF6\",\"width\":0.5},\"pattern\":{\"fillmode\":\"overlay\",\"size\":10,\"solidity\":0.2}},\"type\":\"barpolar\"}],\"pie\":[{\"automargin\":true,\"type\":\"pie\"}]},\"layout\":{\"autotypenumbers\":\"strict\",\"colorway\":[\"#636efa\",\"#EF553B\",\"#00cc96\",\"#ab63fa\",\"#FFA15A\",\"#19d3f3\",\"#FF6692\",\"#B6E880\",\"#FF97FF\",\"#FECB52\"],\"font\":{\"color\":\"#2a3f5f\"},\"hovermode\":\"closest\",\"hoverlabel\":{\"align\":\"left\"},\"paper_bgcolor\":\"white\",\"plot_bgcolor\":\"#E5ECF6\",\"polar\":{\"bgcolor\":\"#E5ECF6\",\"angularaxis\":{\"gridcolor\":\"white\",\"linecolor\":\"white\",\"ticks\":\"\"},\"radialaxis\":{\"gridcolor\":\"white\",\"linecolor\":\"white\",\"ticks\":\"\"}},\"ternary\":{\"bgcolor\":\"#E5ECF6\",\"aaxis\":{\"gridcolor\":\"white\",\"linecolor\":\"white\",\"ticks\":\"\"},\"baxis\":{\"gridcolor\":\"white\",\"linecolor\":\"white\",\"ticks\":\"\"},\"caxis\":{\"gridcolor\":\"white\",\"linecolor\":\"white\",\"ticks\":\"\"}},\"coloraxis\":{\"colorbar\":{\"outlinewidth\":0,\"ticks\":\"\"}},\"colorscale\":{\"sequential\":[[0.0,\"#0d0887\"],[0.1111111111111111,\"#46039f\"],[0.2222222222222222,\"#7201a8\"],[0.3333333333333333,\"#9c179e\"],[0.4444444444444444,\"#bd3786\"],[0.5555555555555556,\"#d8576b\"],[0.6666666666666666,\"#ed7953\"],[0.7777777777777778,\"#fb9f3a\"],[0.8888888888888888,\"#fdca26\"],[1.0,\"#f0f921\"]],\"sequentialminus\":[[0.0,\"#0d0887\"],[0.1111111111111111,\"#46039f\"],[0.2222222222222222,\"#7201a8\"],[0.3333333333333333,\"#9c179e\"],[0.4444444444444444,\"#bd3786\"],[0.5555555555555556,\"#d8576b\"],[0.6666666666666666,\"#ed7953\"],[0.7777777777777778,\"#fb9f3a\"],[0.8888888888888888,\"#fdca26\"],[1.0,\"#f0f921\"]],\"diverging\":[[0,\"#8e0152\"],[0.1,\"#c51b7d\"],[0.2,\"#de77ae\"],[0.3,\"#f1b6da\"],[0.4,\"#fde0ef\"],[0.5,\"#f7f7f7\"],[0.6,\"#e6f5d0\"],[0.7,\"#b8e186\"],[0.8,\"#7fbc41\"],[0.9,\"#4d9221\"],[1,\"#276419\"]]},\"xaxis\":{\"gridcolor\":\"white\",\"linecolor\":\"white\",\"ticks\":\"\",\"title\":{\"standoff\":15},\"zerolinecolor\":\"white\",\"automargin\":true,\"zerolinewidth\":2},\"yaxis\":{\"gridcolor\":\"white\",\"linecolor\":\"white\",\"ticks\":\"\",\"title\":{\"standoff\":15},\"zerolinecolor\":\"white\",\"automargin\":true,\"zerolinewidth\":2},\"scene\":{\"xaxis\":{\"backgroundcolor\":\"#E5ECF6\",\"gridcolor\":\"white\",\"linecolor\":\"white\",\"showbackground\":true,\"ticks\":\"\",\"zerolinecolor\":\"white\",\"gridwidth\":2},\"yaxis\":{\"backgroundcolor\":\"#E5ECF6\",\"gridcolor\":\"white\",\"linecolor\":\"white\",\"showbackground\":true,\"ticks\":\"\",\"zerolinecolor\":\"white\",\"gridwidth\":2},\"zaxis\":{\"backgroundcolor\":\"#E5ECF6\",\"gridcolor\":\"white\",\"linecolor\":\"white\",\"showbackground\":true,\"ticks\":\"\",\"zerolinecolor\":\"white\",\"gridwidth\":2}},\"shapedefaults\":{\"line\":{\"color\":\"#2a3f5f\"}},\"annotationdefaults\":{\"arrowcolor\":\"#2a3f5f\",\"arrowhead\":0,\"arrowwidth\":1},\"geo\":{\"bgcolor\":\"white\",\"landcolor\":\"#E5ECF6\",\"subunitcolor\":\"white\",\"showland\":true,\"showlakes\":true,\"lakecolor\":\"white\"},\"title\":{\"x\":0.05},\"mapbox\":{\"style\":\"light\"}}},\"scene\":{\"xaxis\":{\"visible\":false,\"range\":[-1.15,1.15]},\"yaxis\":{\"visible\":false,\"range\":[-1.15,1.15]},\"zaxis\":{\"visible\":false,\"range\":[-1.15,1.15]}}},                        {\"responsive\": true}                    ).then(function(){\n",
       "                            \n",
       "var gd = document.getElementById('d35797ca-3ff1-4a79-88f1-373e05382c85');\n",
       "var x = new MutationObserver(function (mutations, observer) {{\n",
       "        var display = window.getComputedStyle(gd).display;\n",
       "        if (!display || display === 'none') {{\n",
       "            console.log([gd, 'removed!']);\n",
       "            Plotly.purge(gd);\n",
       "            observer.disconnect();\n",
       "        }}\n",
       "}});\n",
       "\n",
       "// Listen for the removal of the full notebook cells\n",
       "var notebookContainer = gd.closest('#notebook-container');\n",
       "if (notebookContainer) {{\n",
       "    x.observe(notebookContainer, {childList: true});\n",
       "}}\n",
       "\n",
       "// Listen for the clearing of the current output cell\n",
       "var outputEl = gd.closest('.output');\n",
       "if (outputEl) {{\n",
       "    x.observe(outputEl, {childList: true});\n",
       "}}\n",
       "\n",
       "                        })                };                });            </script>        </div>"
      ]
     },
     "metadata": {},
     "output_type": "display_data"
    }
   ],
   "source": [
    "#Zone de Brillouin\n",
    "plot_brillouin_zone(ph_band_struct.structure)"
   ]
  },
  {
   "cell_type": "code",
   "execution_count": 56,
   "id": "b2301c88",
   "metadata": {},
   "outputs": [
    {
     "data": {
      "application/vnd.plotly.v1+json": {
       "config": {
        "plotlyServerURL": "https://plot.ly"
       },
       "data": [
        {
         "mode": "lines",
         "name": "band 1",
         "type": "scatter",
         "x": [
          0,
          0.05549615278466996,
          0.11099230556933992,
          0.166488458352012,
          0.2219846111346841,
          0.2774807639233498,
          0.33297691671201546,
          0.38847306948070254,
          0.4439692222693682,
          0.4994653750580339,
          0.5549615278466996,
          0.6104576806353653,
          0.6659538334040522,
          0.7214499861927179,
          0.7769461389813836,
          0.8324422917700494,
          0.8879384445387364,
          0.9434345973274021,
          0.9989307501160678,
          0.9989307501160678,
          1.0544269029027358,
          1.1099230556894035,
          1.165419208465083,
          1.2209153612507517,
          1.2764115140394172,
          1.331907666828083,
          1.38740381959677,
          1.4428999723854357,
          1.4983961251741014,
          1.4983961251741014,
          1.5488497471352338,
          1.599303369068112,
          1.6497569910292444,
          1.7002106129903767,
          1.750664234951509,
          1.8011178568843873,
          1.8515714788455195,
          1.8515714788455195,
          1.9045477818962322,
          1.9575240849469449,
          2.0105003879976575,
          2.06347669104837,
          2.116452994099083,
          2.1694292971497955,
          2.222405600200508,
          2.275381903251221,
          2.3283582063019335,
          2.381334509352646,
          2.434310812403359,
          2.4872871154540714,
          2.540263418504784,
          2.5932397215554968,
          2.6462160246062094,
          2.699192327656922,
          2.7521686307076347,
          2.8051449337583474,
          2.85812123680906,
          2.9110975398597727,
          2.9110975398597727,
          2.965166252748645,
          3.0192349656375175,
          3.07330367852639,
          3.1273723914152622,
          3.1814411043041346,
          3.235509817193007,
          3.2895785300818794,
          3.3436472429707518,
          3.397715955859624,
          3.4517846687484965,
          3.505853381637369,
          3.5599220945262413,
          3.6139908074151137,
          3.668059520303986,
          3.7221282331928585,
          3.776196946081731,
          3.776196946081731,
          3.8271734174600645,
          3.878149888838398,
          3.9291263602167317,
          3.9801028315950653,
          4.031079302973399,
          4.0820557743517325,
          4.133032245730066,
          4.1840087171084,
          4.234985188486733,
          4.285961659865066,
          4.3369381312434,
          4.387914602621733,
          4.387914602621733,
          4.438368224582866,
          4.488821846515744,
          4.539275468476877,
          4.589729090438009,
          4.640182712399142,
          4.69063633433202,
          4.741089956293153,
          4.741089956293153,
          4.795424626086582,
          4.849759295880012,
          4.904093965673441,
          4.958428635466871,
          5.0127633052603,
          5.06709797505373,
          5.121432644875413,
          5.1757673146688425,
          5.230101984462272,
          5.2844366542557015,
          5.338771324049131,
          5.3931059938425605,
          5.44744066363599,
          5.44744066363599,
          5.498417135014324,
          5.549393606392657,
          5.600370077770991,
          5.651346549149325,
          5.7023230205276585,
          5.7532994919059925,
          5.804275963284327,
          5.85525243466266,
          5.906228906040994,
          5.957205377419327,
          6.00818184879766,
          6.059158320175994,
          6.059158320175994,
          6.109611942122999,
          6.160065564084132,
          6.210519186031137,
          6.260972807992269,
          6.3114264299406875,
          6.361880051894756,
          6.412333673847413
         ],
         "y": [
          0,
          0.22914069023574282,
          0.45611658995765486,
          0.6790605010222343,
          0.8965423235518364,
          1.1075950500065592,
          1.3117117378698213,
          1.508810636395375,
          1.6991459679529246,
          1.8831558562425772,
          2.061279785051416,
          2.233826085662858,
          2.400918504454028,
          2.562448743936493,
          2.7179288010086498,
          2.866084587685891,
          2.999961074069521,
          2.9597793190023585,
          2.945930074858227,
          2.945930074858227,
          2.945036146563118,
          2.9431724822077183,
          2.942317287334044,
          2.9446118976692928,
          2.9515068797358475,
          2.963266471285832,
          2.978632483359889,
          2.99396377887825,
          3.0012807874060123,
          3.0012807874060123,
          3.0003815968378427,
          2.995323733741255,
          2.9873641019039137,
          2.9811020872091687,
          2.9790025512316127,
          2.980120376086987,
          2.9811675457774305,
          2.9811675457774305,
          2.9786491770694643,
          2.954164786653455,
          2.8523587208970387,
          2.7239259419219284,
          2.5866998885375034,
          2.4416084952944535,
          2.2895062934962285,
          2.131209083517632,
          1.9675525614080516,
          1.7994152116720679,
          1.6276719998162703,
          1.4530987974089125,
          1.2762866002839761,
          1.097621883176166,
          0.9173467193463057,
          0.7356588182475572,
          0.5527886723269606,
          0.36901806665427833,
          0.18465426481117167,
          0,
          0,
          0.20070528000722848,
          0.4003140616974502,
          0.5978486769289121,
          0.7925231754454198,
          0.9837307660193316,
          1.1709349369407218,
          1.3534985311071863,
          1.5305099337458685,
          1.700640014138172,
          1.862004805266939,
          2.011978005533569,
          2.1469423532962493,
          2.26207921876186,
          2.3514325195510666,
          2.408605697368485,
          2.428355117716415,
          2.428355117716415,
          2.4354120684600393,
          2.4564034515640683,
          2.4908042552099072,
          2.537781110848469,
          2.596247168146463,
          2.6649273077224884,
          2.7424170162148993,
          2.8271942138514974,
          2.9174983249302064,
          2.972889896151854,
          2.9822070689254288,
          2.981167545798781,
          2.981167545798781,
          2.980113441990356,
          2.9789889766339654,
          2.9810852843854136,
          2.987349782139171,
          2.9953165527575387,
          3.0003804826501637,
          3.0012807874060123,
          3.0012807874060123,
          3.008795952034434,
          3.026730322969817,
          2.983240786744551,
          2.91674822506234,
          2.8418090684106665,
          2.7634406198739194,
          2.6862561686820614,
          2.6142763391545967,
          2.55087241396436,
          2.498786247771638,
          2.460128064958712,
          2.436367388789411,
          2.428355117716415,
          2.428355117716415,
          2.435412227261187,
          2.4564036614961586,
          2.4908036512190246,
          2.5377787172182407,
          2.596242913559438,
          2.6649223899738423,
          2.742413208902238,
          2.827192665736851,
          2.9174988149795174,
          2.972893821427746,
          2.982210580614273,
          2.9811675457774305,
          2.981167545798781,
          2.9721476492589587,
          2.9603045964969463,
          2.950718191798861,
          2.945464056841369,
          2.9442777696908102,
          2.945235307603242,
          2.945930074858227
         ]
        },
        {
         "mode": "lines",
         "name": "band 2",
         "type": "scatter",
         "x": [
          0,
          0.05549615278466996,
          0.11099230556933992,
          0.166488458352012,
          0.2219846111346841,
          0.2774807639233498,
          0.33297691671201546,
          0.38847306948070254,
          0.4439692222693682,
          0.4994653750580339,
          0.5549615278466996,
          0.6104576806353653,
          0.6659538334040522,
          0.7214499861927179,
          0.7769461389813836,
          0.8324422917700494,
          0.8879384445387364,
          0.9434345973274021,
          0.9989307501160678,
          0.9989307501160678,
          1.0544269029027358,
          1.1099230556894035,
          1.165419208465083,
          1.2209153612507517,
          1.2764115140394172,
          1.331907666828083,
          1.38740381959677,
          1.4428999723854357,
          1.4983961251741014,
          1.4983961251741014,
          1.5488497471352338,
          1.599303369068112,
          1.6497569910292444,
          1.7002106129903767,
          1.750664234951509,
          1.8011178568843873,
          1.8515714788455195,
          1.8515714788455195,
          1.9045477818962322,
          1.9575240849469449,
          2.0105003879976575,
          2.06347669104837,
          2.116452994099083,
          2.1694292971497955,
          2.222405600200508,
          2.275381903251221,
          2.3283582063019335,
          2.381334509352646,
          2.434310812403359,
          2.4872871154540714,
          2.540263418504784,
          2.5932397215554968,
          2.6462160246062094,
          2.699192327656922,
          2.7521686307076347,
          2.8051449337583474,
          2.85812123680906,
          2.9110975398597727,
          2.9110975398597727,
          2.965166252748645,
          3.0192349656375175,
          3.07330367852639,
          3.1273723914152622,
          3.1814411043041346,
          3.235509817193007,
          3.2895785300818794,
          3.3436472429707518,
          3.397715955859624,
          3.4517846687484965,
          3.505853381637369,
          3.5599220945262413,
          3.6139908074151137,
          3.668059520303986,
          3.7221282331928585,
          3.776196946081731,
          3.776196946081731,
          3.8271734174600645,
          3.878149888838398,
          3.9291263602167317,
          3.9801028315950653,
          4.031079302973399,
          4.0820557743517325,
          4.133032245730066,
          4.1840087171084,
          4.234985188486733,
          4.285961659865066,
          4.3369381312434,
          4.387914602621733,
          4.387914602621733,
          4.438368224582866,
          4.488821846515744,
          4.539275468476877,
          4.589729090438009,
          4.640182712399142,
          4.69063633433202,
          4.741089956293153,
          4.741089956293153,
          4.795424626086582,
          4.849759295880012,
          4.904093965673441,
          4.958428635466871,
          5.0127633052603,
          5.06709797505373,
          5.121432644875413,
          5.1757673146688425,
          5.230101984462272,
          5.2844366542557015,
          5.338771324049131,
          5.3931059938425605,
          5.44744066363599,
          5.44744066363599,
          5.498417135014324,
          5.549393606392657,
          5.600370077770991,
          5.651346549149325,
          5.7023230205276585,
          5.7532994919059925,
          5.804275963284327,
          5.85525243466266,
          5.906228906040994,
          5.957205377419327,
          6.00818184879766,
          6.059158320175994,
          6.059158320175994,
          6.109611942122999,
          6.160065564084132,
          6.210519186031137,
          6.260972807992269,
          6.3114264299406875,
          6.361880051894756,
          6.412333673847413
         ],
         "y": [
          0,
          0.22914069023574515,
          0.4561165899576563,
          0.6790605010222419,
          0.8965423235518383,
          1.1075950500065628,
          1.3117117378698262,
          1.5088106363953768,
          1.6991459679529268,
          1.8831558562425783,
          2.0612797850514175,
          2.23382608566286,
          2.400918504454029,
          2.5624487439364936,
          2.717928801008651,
          2.866084587685892,
          3.0035444512944576,
          3.119312893018862,
          3.1736684894027314,
          3.1736684894027314,
          3.1736715785606546,
          3.172891325062463,
          3.169513257037593,
          3.1618235561133816,
          3.149053459791454,
          3.131705984259004,
          3.111736306911617,
          3.093362052491289,
          3.084977992996948,
          3.084977992996948,
          3.085591009286653,
          3.0941663976415152,
          3.1135319159029287,
          3.139264046337104,
          3.163342964041245,
          3.1747159223688444,
          3.175260934605398,
          3.175260934605398,
          3.078962708901426,
          2.9710228745291465,
          2.9031397618062806,
          2.8269729146271656,
          2.7293460603304345,
          2.6137982376661593,
          2.483118365038607,
          2.339424383109893,
          2.1843714753899848,
          2.0192955760544526,
          1.8452630496076572,
          1.6630885748632136,
          1.4733973763596782,
          1.2767572074869362,
          1.073835942965438,
          0.865502808332013,
          0.6528176946359231,
          0.43693018600198,
          0.21897040287731767,
          0,
          0,
          0.20070528000723603,
          0.4003140616974618,
          0.5978486769289145,
          0.7925231754454258,
          0.9837307660193407,
          1.1709349369407238,
          1.3534985311071894,
          1.53050993374587,
          1.7006400141381766,
          1.8620048052669416,
          2.0119780055335714,
          2.1469423532962515,
          2.262079218761862,
          2.3514325195510666,
          2.408605697368486,
          2.428355117716417,
          2.428355117716417,
          2.44163442454923,
          2.479698854579441,
          2.537717683414947,
          2.609036357028191,
          2.6866080725695283,
          2.764073866105041,
          2.836129368637407,
          2.898090307716437,
          2.945106218808453,
          3.010849661372182,
          3.102224187093171,
          3.1752609345945535,
          3.1752609345945535,
          3.1747214568027986,
          3.1633598823435873,
          3.139283271365012,
          3.1135465050867044,
          3.0941732454214166,
          3.085592044117895,
          3.084977992996948,
          3.084977992996948,
          3.0726785580922105,
          3.0396192198151804,
          3.0495157992069957,
          3.0363477701521004,
          2.976716385009136,
          2.8959826914356963,
          2.808253096604292,
          2.7186544631684635,
          2.631256751222028,
          2.551499438497212,
          2.4864076023653903,
          2.4434214476470206,
          2.428355117716417,
          2.428355117716417,
          2.4416346216989697,
          2.4796997926398885,
          2.537719584210461,
          2.609037912456052,
          2.686606602978369,
          2.764067788152953,
          2.8361206532843566,
          2.8980837758670974,
          2.9451055470276315,
          3.010850862719415,
          3.1022247499962208,
          3.175260934605398,
          3.1752609345945535,
          3.250156957427696,
          3.234708238746988,
          3.2182474272908443,
          3.201738682050249,
          3.187289055596964,
          3.17727418009962,
          3.1736684894027314
         ]
        },
        {
         "mode": "lines",
         "name": "band 3",
         "type": "scatter",
         "x": [
          0,
          0.05549615278466996,
          0.11099230556933992,
          0.166488458352012,
          0.2219846111346841,
          0.2774807639233498,
          0.33297691671201546,
          0.38847306948070254,
          0.4439692222693682,
          0.4994653750580339,
          0.5549615278466996,
          0.6104576806353653,
          0.6659538334040522,
          0.7214499861927179,
          0.7769461389813836,
          0.8324422917700494,
          0.8879384445387364,
          0.9434345973274021,
          0.9989307501160678,
          0.9989307501160678,
          1.0544269029027358,
          1.1099230556894035,
          1.165419208465083,
          1.2209153612507517,
          1.2764115140394172,
          1.331907666828083,
          1.38740381959677,
          1.4428999723854357,
          1.4983961251741014,
          1.4983961251741014,
          1.5488497471352338,
          1.599303369068112,
          1.6497569910292444,
          1.7002106129903767,
          1.750664234951509,
          1.8011178568843873,
          1.8515714788455195,
          1.8515714788455195,
          1.9045477818962322,
          1.9575240849469449,
          2.0105003879976575,
          2.06347669104837,
          2.116452994099083,
          2.1694292971497955,
          2.222405600200508,
          2.275381903251221,
          2.3283582063019335,
          2.381334509352646,
          2.434310812403359,
          2.4872871154540714,
          2.540263418504784,
          2.5932397215554968,
          2.6462160246062094,
          2.699192327656922,
          2.7521686307076347,
          2.8051449337583474,
          2.85812123680906,
          2.9110975398597727,
          2.9110975398597727,
          2.965166252748645,
          3.0192349656375175,
          3.07330367852639,
          3.1273723914152622,
          3.1814411043041346,
          3.235509817193007,
          3.2895785300818794,
          3.3436472429707518,
          3.397715955859624,
          3.4517846687484965,
          3.505853381637369,
          3.5599220945262413,
          3.6139908074151137,
          3.668059520303986,
          3.7221282331928585,
          3.776196946081731,
          3.776196946081731,
          3.8271734174600645,
          3.878149888838398,
          3.9291263602167317,
          3.9801028315950653,
          4.031079302973399,
          4.0820557743517325,
          4.133032245730066,
          4.1840087171084,
          4.234985188486733,
          4.285961659865066,
          4.3369381312434,
          4.387914602621733,
          4.387914602621733,
          4.438368224582866,
          4.488821846515744,
          4.539275468476877,
          4.589729090438009,
          4.640182712399142,
          4.69063633433202,
          4.741089956293153,
          4.741089956293153,
          4.795424626086582,
          4.849759295880012,
          4.904093965673441,
          4.958428635466871,
          5.0127633052603,
          5.06709797505373,
          5.121432644875413,
          5.1757673146688425,
          5.230101984462272,
          5.2844366542557015,
          5.338771324049131,
          5.3931059938425605,
          5.44744066363599,
          5.44744066363599,
          5.498417135014324,
          5.549393606392657,
          5.600370077770991,
          5.651346549149325,
          5.7023230205276585,
          5.7532994919059925,
          5.804275963284327,
          5.85525243466266,
          5.906228906040994,
          5.957205377419327,
          6.00818184879766,
          6.059158320175994,
          6.059158320175994,
          6.109611942122999,
          6.160065564084132,
          6.210519186031137,
          6.260972807992269,
          6.3114264299406875,
          6.361880051894756,
          6.412333673847413
         ],
         "y": [
          0,
          0.3864440759049513,
          0.7700513163904223,
          1.1481098419630713,
          1.5179831141970204,
          1.8768468145382793,
          2.221218859663926,
          2.5461053127927107,
          2.843036173290618,
          3.0951088072153814,
          3.2689397425971016,
          3.330304355921069,
          3.299082040362754,
          3.2252520654657717,
          3.140864759944183,
          3.0624935091781635,
          3.003544451294459,
          3.119312893018863,
          3.1736684894027336,
          3.1736684894027336,
          3.18427216727281,
          3.214697772692384,
          3.260982977107494,
          3.3171418245921718,
          3.3760186182401943,
          3.4303494675414283,
          3.4738123252294475,
          3.501739539207272,
          3.503707675514707,
          3.503707675514707,
          3.465792605197699,
          3.4170006339792005,
          3.3658931852713425,
          3.3179489138418323,
          3.281272168224479,
          3.266226834925351,
          3.266090397526753,
          3.266090397526753,
          3.2886822846650965,
          3.324263532398126,
          3.3760334268702112,
          3.4422129770357426,
          3.518895032683083,
          3.6012149506637425,
          3.6807100700042503,
          3.7274874821562,
          3.6412108951210307,
          3.4252374722949264,
          3.1600110857587587,
          2.8674142343541447,
          2.5539852207363283,
          2.2231238803380062,
          1.8773025858722463,
          1.5186456882649997,
          1.1492082322336254,
          0.7712032561468862,
          0.38716804027902185,
          0,
          0,
          0.40132813659661015,
          0.7999492185436506,
          1.1931817268885954,
          1.5784155163947744,
          1.9531590172514641,
          2.315044806377866,
          2.6617813661685097,
          2.9910866871835173,
          3.3006193533309265,
          3.587762486501468,
          3.848297990374609,
          4.0514147020256015,
          4.037228155833425,
          3.988267041394571,
          3.955302080637435,
          3.943607630198323,
          3.943607630198323,
          3.901117204045515,
          3.8343138779282526,
          3.7590655593504554,
          3.6782901732058852,
          3.5948613289049534,
          3.5122871837494865,
          3.434810682101038,
          3.3675120494604434,
          3.31622249828668,
          3.285598321240738,
          3.2732270224031774,
          3.266090397519309,
          3.266090397519309,
          3.2662187039593604,
          3.281251990889358,
          3.3179283477542114,
          3.3658789535748648,
          3.4169931644534555,
          3.465789741105998,
          3.503707675514707,
          3.503707675514707,
          3.43576773271393,
          3.3530094220396296,
          3.2846148367866306,
          3.265404087789389,
          3.3073334287768947,
          3.38116906978644,
          3.46860424764749,
          3.561267027537901,
          3.6539110713651155,
          3.7426819086367713,
          3.8246663314271347,
          3.8970662017186397,
          3.943607630198323,
          3.943607630198323,
          3.901118311423248,
          3.8343154892036986,
          3.7590664946123025,
          3.6782898875111423,
          3.5948603310174647,
          3.5122865523893254,
          3.4348111568481943,
          3.367513409902512,
          3.316223861811829,
          3.2855993505031873,
          3.273227945332655,
          3.266090397526753,
          3.266090397519309,
          3.2548973297048476,
          3.293970324074709,
          3.2545436555191465,
          3.2199702441761158,
          3.1944742223832123,
          3.178902339064862,
          3.1736684894027336
         ]
        },
        {
         "mode": "lines",
         "name": "band 4",
         "type": "scatter",
         "x": [
          0,
          0.05549615278466996,
          0.11099230556933992,
          0.166488458352012,
          0.2219846111346841,
          0.2774807639233498,
          0.33297691671201546,
          0.38847306948070254,
          0.4439692222693682,
          0.4994653750580339,
          0.5549615278466996,
          0.6104576806353653,
          0.6659538334040522,
          0.7214499861927179,
          0.7769461389813836,
          0.8324422917700494,
          0.8879384445387364,
          0.9434345973274021,
          0.9989307501160678,
          0.9989307501160678,
          1.0544269029027358,
          1.1099230556894035,
          1.165419208465083,
          1.2209153612507517,
          1.2764115140394172,
          1.331907666828083,
          1.38740381959677,
          1.4428999723854357,
          1.4983961251741014,
          1.4983961251741014,
          1.5488497471352338,
          1.599303369068112,
          1.6497569910292444,
          1.7002106129903767,
          1.750664234951509,
          1.8011178568843873,
          1.8515714788455195,
          1.8515714788455195,
          1.9045477818962322,
          1.9575240849469449,
          2.0105003879976575,
          2.06347669104837,
          2.116452994099083,
          2.1694292971497955,
          2.222405600200508,
          2.275381903251221,
          2.3283582063019335,
          2.381334509352646,
          2.434310812403359,
          2.4872871154540714,
          2.540263418504784,
          2.5932397215554968,
          2.6462160246062094,
          2.699192327656922,
          2.7521686307076347,
          2.8051449337583474,
          2.85812123680906,
          2.9110975398597727,
          2.9110975398597727,
          2.965166252748645,
          3.0192349656375175,
          3.07330367852639,
          3.1273723914152622,
          3.1814411043041346,
          3.235509817193007,
          3.2895785300818794,
          3.3436472429707518,
          3.397715955859624,
          3.4517846687484965,
          3.505853381637369,
          3.5599220945262413,
          3.6139908074151137,
          3.668059520303986,
          3.7221282331928585,
          3.776196946081731,
          3.776196946081731,
          3.8271734174600645,
          3.878149888838398,
          3.9291263602167317,
          3.9801028315950653,
          4.031079302973399,
          4.0820557743517325,
          4.133032245730066,
          4.1840087171084,
          4.234985188486733,
          4.285961659865066,
          4.3369381312434,
          4.387914602621733,
          4.387914602621733,
          4.438368224582866,
          4.488821846515744,
          4.539275468476877,
          4.589729090438009,
          4.640182712399142,
          4.69063633433202,
          4.741089956293153,
          4.741089956293153,
          4.795424626086582,
          4.849759295880012,
          4.904093965673441,
          4.958428635466871,
          5.0127633052603,
          5.06709797505373,
          5.121432644875413,
          5.1757673146688425,
          5.230101984462272,
          5.2844366542557015,
          5.338771324049131,
          5.3931059938425605,
          5.44744066363599,
          5.44744066363599,
          5.498417135014324,
          5.549393606392657,
          5.600370077770991,
          5.651346549149325,
          5.7023230205276585,
          5.7532994919059925,
          5.804275963284327,
          5.85525243466266,
          5.906228906040994,
          5.957205377419327,
          6.00818184879766,
          6.059158320175994,
          6.059158320175994,
          6.109611942122999,
          6.160065564084132,
          6.210519186031137,
          6.260972807992269,
          6.3114264299406875,
          6.361880051894756,
          6.412333673847413
         ],
         "y": [
          4.575275402243889,
          4.572303940589479,
          4.563751420840581,
          4.550073827730361,
          4.52256782706369,
          4.444971656329808,
          4.355925181480585,
          4.261284237681288,
          4.170482575119659,
          4.101607463132453,
          4.089808074967152,
          4.15007899646154,
          4.059858481844838,
          3.961829308214152,
          3.8570872056580368,
          3.747528917596697,
          3.6371017644522414,
          3.5373038512045727,
          3.488225367787696,
          3.488225367787696,
          3.4886504579364854,
          3.4898792181965814,
          3.4917783264208557,
          3.4941450685340376,
          3.496739024322298,
          3.499306439308668,
          3.501556204666117,
          3.503134462111233,
          3.511353441495816,
          3.511353441495816,
          3.527662541374099,
          3.5227963451751108,
          3.504815717215348,
          3.4786486180400997,
          3.448569791592974,
          3.4216869583363105,
          3.4099543313342267,
          3.4099543313342267,
          3.4767310682462793,
          3.5489193007807196,
          3.625330120880908,
          3.704788899732223,
          3.7860823959865653,
          3.868024372682987,
          3.9495396327531944,
          4.029680292916234,
          4.0076943081408505,
          4.069192284993911,
          4.154678290662838,
          4.242416236240868,
          4.325467312441667,
          4.399941522816061,
          4.462823650518549,
          4.507769850893617,
          4.536765762203058,
          4.557942962274337,
          4.570904012584942,
          4.575275402243889,
          4.575275402250913,
          4.571317182179336,
          4.559843065318213,
          4.541604169632302,
          4.516886167726578,
          4.485232939578017,
          4.445963753594783,
          4.398978087618943,
          4.34514995726737,
          4.286062274084435,
          4.223500531288582,
          4.159336841925984,
          4.09600966168756,
          4.037228155833425,
          3.988267041394572,
          3.955302080637435,
          3.943607630198323,
          3.943607630198323,
          3.9392191340234453,
          3.926094339455466,
          3.904344844119476,
          3.8741355784047573,
          3.835686938004892,
          3.789308034516784,
          3.7354472127706324,
          3.6747462017804655,
          3.6081431743001735,
          3.537261764586317,
          3.466133883149688,
          3.4099543313244833,
          3.4099543313244833,
          3.4216856493722423,
          3.448569747930903,
          3.4786507794862485,
          3.5048195462213823,
          3.52280031795949,
          3.5276648914231505,
          3.511353441495816,
          3.511353441495816,
          3.5467367156923526,
          3.576368876015044,
          3.611905201307109,
          3.6530165288153964,
          3.6974308577246116,
          3.743044345413351,
          3.7879650863533665,
          3.830359260233876,
          3.8683544711582436,
          3.900086115970322,
          3.923908539620052,
          3.9386334538275887,
          3.943607630198323,
          3.943607630198323,
          3.9392190633644475,
          3.9260940477436512,
          3.904344149485915,
          3.8741342847530644,
          3.835684963953338,
          3.7893055933123025,
          3.735444837340018,
          3.6747444941789698,
          3.6081424443456167,
          3.5372618776920577,
          3.4661343901257453,
          3.4099543313342267,
          3.4099543313244833,
          3.353018175891379,
          3.331861509979123,
          3.3850015981295227,
          3.4296535320882002,
          3.4620537294888374,
          3.4816620261377285,
          3.488225367787696
         ]
        },
        {
         "mode": "lines",
         "name": "band 5",
         "type": "scatter",
         "x": [
          0,
          0.05549615278466996,
          0.11099230556933992,
          0.166488458352012,
          0.2219846111346841,
          0.2774807639233498,
          0.33297691671201546,
          0.38847306948070254,
          0.4439692222693682,
          0.4994653750580339,
          0.5549615278466996,
          0.6104576806353653,
          0.6659538334040522,
          0.7214499861927179,
          0.7769461389813836,
          0.8324422917700494,
          0.8879384445387364,
          0.9434345973274021,
          0.9989307501160678,
          0.9989307501160678,
          1.0544269029027358,
          1.1099230556894035,
          1.165419208465083,
          1.2209153612507517,
          1.2764115140394172,
          1.331907666828083,
          1.38740381959677,
          1.4428999723854357,
          1.4983961251741014,
          1.4983961251741014,
          1.5488497471352338,
          1.599303369068112,
          1.6497569910292444,
          1.7002106129903767,
          1.750664234951509,
          1.8011178568843873,
          1.8515714788455195,
          1.8515714788455195,
          1.9045477818962322,
          1.9575240849469449,
          2.0105003879976575,
          2.06347669104837,
          2.116452994099083,
          2.1694292971497955,
          2.222405600200508,
          2.275381903251221,
          2.3283582063019335,
          2.381334509352646,
          2.434310812403359,
          2.4872871154540714,
          2.540263418504784,
          2.5932397215554968,
          2.6462160246062094,
          2.699192327656922,
          2.7521686307076347,
          2.8051449337583474,
          2.85812123680906,
          2.9110975398597727,
          2.9110975398597727,
          2.965166252748645,
          3.0192349656375175,
          3.07330367852639,
          3.1273723914152622,
          3.1814411043041346,
          3.235509817193007,
          3.2895785300818794,
          3.3436472429707518,
          3.397715955859624,
          3.4517846687484965,
          3.505853381637369,
          3.5599220945262413,
          3.6139908074151137,
          3.668059520303986,
          3.7221282331928585,
          3.776196946081731,
          3.776196946081731,
          3.8271734174600645,
          3.878149888838398,
          3.9291263602167317,
          3.9801028315950653,
          4.031079302973399,
          4.0820557743517325,
          4.133032245730066,
          4.1840087171084,
          4.234985188486733,
          4.285961659865066,
          4.3369381312434,
          4.387914602621733,
          4.387914602621733,
          4.438368224582866,
          4.488821846515744,
          4.539275468476877,
          4.589729090438009,
          4.640182712399142,
          4.69063633433202,
          4.741089956293153,
          4.741089956293153,
          4.795424626086582,
          4.849759295880012,
          4.904093965673441,
          4.958428635466871,
          5.0127633052603,
          5.06709797505373,
          5.121432644875413,
          5.1757673146688425,
          5.230101984462272,
          5.2844366542557015,
          5.338771324049131,
          5.3931059938425605,
          5.44744066363599,
          5.44744066363599,
          5.498417135014324,
          5.549393606392657,
          5.600370077770991,
          5.651346549149325,
          5.7023230205276585,
          5.7532994919059925,
          5.804275963284327,
          5.85525243466266,
          5.906228906040994,
          5.957205377419327,
          6.00818184879766,
          6.059158320175994,
          6.059158320175994,
          6.109611942122999,
          6.160065564084132,
          6.210519186031137,
          6.260972807992269,
          6.3114264299406875,
          6.361880051894756,
          6.412333673847413
         ],
         "y": [
          4.575275402300371,
          4.572303940589481,
          4.563751420840581,
          4.550073827730363,
          4.530797032535701,
          4.504392745690995,
          4.469139892886656,
          4.424070100663996,
          4.369192271853449,
          4.304994593585887,
          4.231884320943182,
          4.15007899646154,
          4.059858481844838,
          3.961829308214155,
          3.8570872056580394,
          3.7475289175966995,
          3.6371017644522436,
          3.537303851204575,
          3.488225367787697,
          3.488225367787697,
          3.4928785187390057,
          3.5062411063523147,
          3.5266732478379375,
          3.551840115105121,
          3.5790240105705435,
          3.605245495216166,
          3.627313696106438,
          3.642129893479964,
          3.647359509452321,
          3.647359509452321,
          3.664871356534853,
          3.7025216387856563,
          3.7415729295942435,
          3.774757308480637,
          3.799523952139397,
          3.8147470756135755,
          3.8198787534955585,
          3.8198787534955585,
          3.89195706632518,
          3.9647859635753977,
          4.0366257839522435,
          4.105349222440703,
          4.167580753111029,
          4.211656747456622,
          4.174780051525953,
          4.047984566445406,
          4.107547021316489,
          4.18217339201978,
          4.252476509627561,
          4.31733955291804,
          4.375794211619944,
          4.4271869303694595,
          4.471210540812691,
          4.5114102237774425,
          4.544181717657853,
          4.5631002324615615,
          4.572460896003429,
          4.575275402279796,
          4.575275402284699,
          4.571317182179338,
          4.559843065318213,
          4.541604169632302,
          4.516886167726578,
          4.485232939578021,
          4.445963753594784,
          4.398978087618944,
          4.34514995726737,
          4.286062274084437,
          4.2235005312885825,
          4.1593368419259855,
          4.096009661687563,
          4.050021647800693,
          4.017028714644687,
          3.995208333193425,
          3.987725376161095,
          3.987725376161095,
          4.020574117207189,
          4.058466678809935,
          4.085744724338308,
          4.100326829063951,
          4.101291720806835,
          4.0884829466121415,
          4.062446684025863,
          4.024405944973421,
          3.97645836422484,
          3.922089754980898,
          3.8670012551057984,
          3.8198787534905208,
          3.8198787534905208,
          3.814748785929432,
          3.799526423219265,
          3.774759456454249,
          3.7415740918961893,
          3.7025218898731596,
          3.6648713406719935,
          3.647359509452321,
          3.647359509452321,
          3.688241738032721,
          3.7665841553606416,
          3.848101503165128,
          3.9233713592186836,
          3.9882647471571326,
          4.04007831882953,
          4.076884947804034,
          4.097501289348607,
          4.1015691073133365,
          4.08956163319649,
          4.062702674890174,
          4.023302397965369,
          3.987725376161095,
          3.987725376161095,
          4.020573339921209,
          4.058465916029277,
          4.085744539532092,
          4.100327141587855,
          4.101292373185727,
          4.088483954891003,
          4.062447800229189,
          4.024406463635628,
          3.9764576990847083,
          3.922088165849658,
          3.8669998830197296,
          3.8198787534955585,
          3.8198787534905208,
          3.7530933752061206,
          3.6889224685457367,
          3.62842307931636,
          3.573795214337042,
          3.5289160633132144,
          3.4988670412446745,
          3.488225367787697
         ]
        },
        {
         "mode": "lines",
         "name": "band 6",
         "type": "scatter",
         "x": [
          0,
          0.05549615278466996,
          0.11099230556933992,
          0.166488458352012,
          0.2219846111346841,
          0.2774807639233498,
          0.33297691671201546,
          0.38847306948070254,
          0.4439692222693682,
          0.4994653750580339,
          0.5549615278466996,
          0.6104576806353653,
          0.6659538334040522,
          0.7214499861927179,
          0.7769461389813836,
          0.8324422917700494,
          0.8879384445387364,
          0.9434345973274021,
          0.9989307501160678,
          0.9989307501160678,
          1.0544269029027358,
          1.1099230556894035,
          1.165419208465083,
          1.2209153612507517,
          1.2764115140394172,
          1.331907666828083,
          1.38740381959677,
          1.4428999723854357,
          1.4983961251741014,
          1.4983961251741014,
          1.5488497471352338,
          1.599303369068112,
          1.6497569910292444,
          1.7002106129903767,
          1.750664234951509,
          1.8011178568843873,
          1.8515714788455195,
          1.8515714788455195,
          1.9045477818962322,
          1.9575240849469449,
          2.0105003879976575,
          2.06347669104837,
          2.116452994099083,
          2.1694292971497955,
          2.222405600200508,
          2.275381903251221,
          2.3283582063019335,
          2.381334509352646,
          2.434310812403359,
          2.4872871154540714,
          2.540263418504784,
          2.5932397215554968,
          2.6462160246062094,
          2.699192327656922,
          2.7521686307076347,
          2.8051449337583474,
          2.85812123680906,
          2.9110975398597727,
          2.9110975398597727,
          2.965166252748645,
          3.0192349656375175,
          3.07330367852639,
          3.1273723914152622,
          3.1814411043041346,
          3.235509817193007,
          3.2895785300818794,
          3.3436472429707518,
          3.397715955859624,
          3.4517846687484965,
          3.505853381637369,
          3.5599220945262413,
          3.6139908074151137,
          3.668059520303986,
          3.7221282331928585,
          3.776196946081731,
          3.776196946081731,
          3.8271734174600645,
          3.878149888838398,
          3.9291263602167317,
          3.9801028315950653,
          4.031079302973399,
          4.0820557743517325,
          4.133032245730066,
          4.1840087171084,
          4.234985188486733,
          4.285961659865066,
          4.3369381312434,
          4.387914602621733,
          4.387914602621733,
          4.438368224582866,
          4.488821846515744,
          4.539275468476877,
          4.589729090438009,
          4.640182712399142,
          4.69063633433202,
          4.741089956293153,
          4.741089956293153,
          4.795424626086582,
          4.849759295880012,
          4.904093965673441,
          4.958428635466871,
          5.0127633052603,
          5.06709797505373,
          5.121432644875413,
          5.1757673146688425,
          5.230101984462272,
          5.2844366542557015,
          5.338771324049131,
          5.3931059938425605,
          5.44744066363599,
          5.44744066363599,
          5.498417135014324,
          5.549393606392657,
          5.600370077770991,
          5.651346549149325,
          5.7023230205276585,
          5.7532994919059925,
          5.804275963284327,
          5.85525243466266,
          5.906228906040994,
          5.957205377419327,
          6.00818184879766,
          6.059158320175994,
          6.059158320175994,
          6.109611942122999,
          6.160065564084132,
          6.210519186031137,
          6.260972807992269,
          6.3114264299406875,
          6.361880051894756,
          6.412333673847413
         ],
         "y": [
          4.665096593112178,
          4.65627972809283,
          4.6296072527363705,
          4.584831203754871,
          4.530797032535701,
          4.504392745690996,
          4.469139892886659,
          4.424070100663996,
          4.369192271853449,
          4.304994593585888,
          4.231884320943183,
          4.171918698780181,
          4.331558733571867,
          4.523033533144592,
          4.719173299041975,
          4.908551252354662,
          5.086138969444085,
          5.248353594276955,
          5.364408726384096,
          5.364408726384096,
          5.353226049817812,
          5.321848080867171,
          5.275832083140212,
          5.222213997960015,
          5.168000355333935,
          5.119348915266648,
          5.081161330344231,
          5.0569040189378365,
          5.048599163893589,
          5.048599163893589,
          5.046640090197854,
          5.043937041101933,
          5.043147419855963,
          5.044672957618209,
          5.047514349723003,
          5.050118989913097,
          5.051159545237898,
          5.051159545237898,
          4.982221784581569,
          4.905226912861289,
          4.8148282001523794,
          4.706665504193825,
          4.579918458119653,
          4.445277918185475,
          4.370176432854072,
          4.390921018600988,
          4.429722508911546,
          4.466949800194972,
          4.499575570943604,
          4.527493708123749,
          4.551378488696871,
          4.57215552990938,
          4.591048063728059,
          4.609718514654528,
          4.629234370121221,
          4.64756262989257,
          4.660491794332768,
          4.665096593132419,
          4.665096593120663,
          4.6613087118549394,
          4.649109132953386,
          4.626746895926372,
          4.593157233734415,
          4.5489724994878085,
          4.496140292012693,
          4.436810549125865,
          4.372755398069347,
          4.30579229156397,
          4.238697600921171,
          4.176602934055029,
          4.15101779831619,
          4.30774319052567,
          4.468354148703245,
          4.5782521674184355,
          4.618004175750571,
          4.618004175750571,
          4.6177186883859545,
          4.61808218387461,
          4.622280189860788,
          4.634253233748045,
          4.657290571718935,
          4.693042431035974,
          4.741262363953422,
          4.800082286034513,
          4.866358479945372,
          4.935617713696003,
          5.001056684422235,
          5.0511595452444356,
          5.0511595452444356,
          5.050125280034819,
          5.047524345432322,
          5.044682573751664,
          5.043153629085604,
          5.043939508466613,
          5.04664055714265,
          5.048599163893589,
          5.048599163893589,
          5.03408742969988,
          4.9949495859900885,
          4.940079348665762,
          4.877661545836774,
          4.814171060576744,
          4.754847538297951,
          4.703953151712771,
          4.664570930159769,
          4.638082682375675,
          4.623667580839612,
          4.618306546210646,
          4.617695530769539,
          4.618004175750571,
          4.618004175750571,
          4.61771838545366,
          4.618081336647768,
          4.6222796151492584,
          4.634254877725375,
          4.6572962097417925,
          4.693051697239979,
          4.741272089441397,
          4.800088328387301,
          4.866358902612864,
          4.935614444552236,
          5.001053804197829,
          5.051159545237898,
          5.0511595452444356,
          5.113286220649895,
          5.173739721440905,
          5.231841637130023,
          5.284635982147085,
          5.327400303850261,
          5.3550157104711475,
          5.364408726384096
         ]
        },
        {
         "mode": "lines",
         "name": "band 7",
         "type": "scatter",
         "x": [
          0,
          0.05549615278466996,
          0.11099230556933992,
          0.166488458352012,
          0.2219846111346841,
          0.2774807639233498,
          0.33297691671201546,
          0.38847306948070254,
          0.4439692222693682,
          0.4994653750580339,
          0.5549615278466996,
          0.6104576806353653,
          0.6659538334040522,
          0.7214499861927179,
          0.7769461389813836,
          0.8324422917700494,
          0.8879384445387364,
          0.9434345973274021,
          0.9989307501160678,
          0.9989307501160678,
          1.0544269029027358,
          1.1099230556894035,
          1.165419208465083,
          1.2209153612507517,
          1.2764115140394172,
          1.331907666828083,
          1.38740381959677,
          1.4428999723854357,
          1.4983961251741014,
          1.4983961251741014,
          1.5488497471352338,
          1.599303369068112,
          1.6497569910292444,
          1.7002106129903767,
          1.750664234951509,
          1.8011178568843873,
          1.8515714788455195,
          1.8515714788455195,
          1.9045477818962322,
          1.9575240849469449,
          2.0105003879976575,
          2.06347669104837,
          2.116452994099083,
          2.1694292971497955,
          2.222405600200508,
          2.275381903251221,
          2.3283582063019335,
          2.381334509352646,
          2.434310812403359,
          2.4872871154540714,
          2.540263418504784,
          2.5932397215554968,
          2.6462160246062094,
          2.699192327656922,
          2.7521686307076347,
          2.8051449337583474,
          2.85812123680906,
          2.9110975398597727,
          2.9110975398597727,
          2.965166252748645,
          3.0192349656375175,
          3.07330367852639,
          3.1273723914152622,
          3.1814411043041346,
          3.235509817193007,
          3.2895785300818794,
          3.3436472429707518,
          3.397715955859624,
          3.4517846687484965,
          3.505853381637369,
          3.5599220945262413,
          3.6139908074151137,
          3.668059520303986,
          3.7221282331928585,
          3.776196946081731,
          3.776196946081731,
          3.8271734174600645,
          3.878149888838398,
          3.9291263602167317,
          3.9801028315950653,
          4.031079302973399,
          4.0820557743517325,
          4.133032245730066,
          4.1840087171084,
          4.234985188486733,
          4.285961659865066,
          4.3369381312434,
          4.387914602621733,
          4.387914602621733,
          4.438368224582866,
          4.488821846515744,
          4.539275468476877,
          4.589729090438009,
          4.640182712399142,
          4.69063633433202,
          4.741089956293153,
          4.741089956293153,
          4.795424626086582,
          4.849759295880012,
          4.904093965673441,
          4.958428635466871,
          5.0127633052603,
          5.06709797505373,
          5.121432644875413,
          5.1757673146688425,
          5.230101984462272,
          5.2844366542557015,
          5.338771324049131,
          5.3931059938425605,
          5.44744066363599,
          5.44744066363599,
          5.498417135014324,
          5.549393606392657,
          5.600370077770991,
          5.651346549149325,
          5.7023230205276585,
          5.7532994919059925,
          5.804275963284327,
          5.85525243466266,
          5.906228906040994,
          5.957205377419327,
          6.00818184879766,
          6.059158320175994,
          6.059158320175994,
          6.109611942122999,
          6.160065564084132,
          6.210519186031137,
          6.260972807992269,
          6.3114264299406875,
          6.361880051894756,
          6.412333673847413
         ],
         "y": [
          5.772387308913908,
          5.77415393377073,
          5.778874064372328,
          5.785455855409204,
          5.793412193325015,
          5.803156451334277,
          5.815303718171506,
          5.829829318139765,
          5.845904244535222,
          5.862420546966688,
          5.878555145086936,
          5.893875327895451,
          5.908098169248884,
          5.9204592267797445,
          5.846366622035407,
          5.759244377271767,
          5.657912380761179,
          5.54261645169898,
          5.4423872381224605,
          5.4423872381224605,
          5.440294829619636,
          5.434498131982603,
          5.426241353090118,
          5.417074865381029,
          5.408401186967383,
          5.401201479991187,
          5.395979521022842,
          5.392874094053401,
          5.391850747834459,
          5.391850747834459,
          5.394874635686468,
          5.402099278710887,
          5.411644260766688,
          5.422032806099402,
          5.431563577133733,
          5.438342809047481,
          5.440807253441258,
          5.440807253441258,
          5.44699778760614,
          5.457353288875958,
          5.473857297687273,
          5.497750768564636,
          5.52889283794887,
          5.565765932057065,
          5.605875140339458,
          5.646273179221679,
          5.68413026581288,
          5.717266564177753,
          5.744441530645454,
          5.765240709253471,
          5.779697173170134,
          5.788025170769185,
          5.790706760610517,
          5.7881223996057365,
          5.781974036645633,
          5.776943011807747,
          5.773577938660876,
          5.772387308913908,
          5.772387308919884,
          5.773757903861812,
          5.777393408893033,
          5.782331645588422,
          5.787996257555956,
          5.794559232569992,
          5.802501617653254,
          5.8118620386527775,
          5.821900233419153,
          5.831467445075168,
          5.839697933791902,
          5.846398814120941,
          5.826574421949967,
          5.749332201133408,
          5.675881898417648,
          5.6195728967376315,
          5.597760302255318,
          5.597760302255318,
          5.595238498319349,
          5.588153874575342,
          5.577647191865509,
          5.56495679494022,
          5.551039584661972,
          5.536422597467966,
          5.521186209180605,
          5.50504839155499,
          5.48761074237583,
          5.468966775577839,
          5.451135968155362,
          5.4408072534506555,
          5.4408072534506555,
          5.438347154102886,
          5.431570252158903,
          5.42203904024391,
          5.411648248128666,
          5.402100908658421,
          5.394874942790706,
          5.391850747834459,
          5.391850747834459,
          5.398921960159511,
          5.416798576951288,
          5.439512375304647,
          5.463045625387143,
          5.485637707885071,
          5.506738943144774,
          5.526268400833153,
          5.544252398170918,
          5.56063219282537,
          5.575096767953479,
          5.586916266081533,
          5.594901214205039,
          5.597760302255318,
          5.597760302255318,
          5.595238164383404,
          5.588153120251416,
          5.577647054517788,
          5.564958755938519,
          5.551044248605647,
          5.536428893303305,
          5.521191855128476,
          5.505051331208263,
          5.487610472807148,
          5.468964595091501,
          5.451134032892592,
          5.440807253441258,
          5.4408072534506555,
          5.437192454410939,
          5.4350583975254345,
          5.434355820978983,
          5.4352607879966985,
          5.437702432095448,
          5.44081586273922,
          5.4423872381224605
         ]
        },
        {
         "mode": "lines",
         "name": "band 8",
         "type": "scatter",
         "x": [
          0,
          0.05549615278466996,
          0.11099230556933992,
          0.166488458352012,
          0.2219846111346841,
          0.2774807639233498,
          0.33297691671201546,
          0.38847306948070254,
          0.4439692222693682,
          0.4994653750580339,
          0.5549615278466996,
          0.6104576806353653,
          0.6659538334040522,
          0.7214499861927179,
          0.7769461389813836,
          0.8324422917700494,
          0.8879384445387364,
          0.9434345973274021,
          0.9989307501160678,
          0.9989307501160678,
          1.0544269029027358,
          1.1099230556894035,
          1.165419208465083,
          1.2209153612507517,
          1.2764115140394172,
          1.331907666828083,
          1.38740381959677,
          1.4428999723854357,
          1.4983961251741014,
          1.4983961251741014,
          1.5488497471352338,
          1.599303369068112,
          1.6497569910292444,
          1.7002106129903767,
          1.750664234951509,
          1.8011178568843873,
          1.8515714788455195,
          1.8515714788455195,
          1.9045477818962322,
          1.9575240849469449,
          2.0105003879976575,
          2.06347669104837,
          2.116452994099083,
          2.1694292971497955,
          2.222405600200508,
          2.275381903251221,
          2.3283582063019335,
          2.381334509352646,
          2.434310812403359,
          2.4872871154540714,
          2.540263418504784,
          2.5932397215554968,
          2.6462160246062094,
          2.699192327656922,
          2.7521686307076347,
          2.8051449337583474,
          2.85812123680906,
          2.9110975398597727,
          2.9110975398597727,
          2.965166252748645,
          3.0192349656375175,
          3.07330367852639,
          3.1273723914152622,
          3.1814411043041346,
          3.235509817193007,
          3.2895785300818794,
          3.3436472429707518,
          3.397715955859624,
          3.4517846687484965,
          3.505853381637369,
          3.5599220945262413,
          3.6139908074151137,
          3.668059520303986,
          3.7221282331928585,
          3.776196946081731,
          3.776196946081731,
          3.8271734174600645,
          3.878149888838398,
          3.9291263602167317,
          3.9801028315950653,
          4.031079302973399,
          4.0820557743517325,
          4.133032245730066,
          4.1840087171084,
          4.234985188486733,
          4.285961659865066,
          4.3369381312434,
          4.387914602621733,
          4.387914602621733,
          4.438368224582866,
          4.488821846515744,
          4.539275468476877,
          4.589729090438009,
          4.640182712399142,
          4.69063633433202,
          4.741089956293153,
          4.741089956293153,
          4.795424626086582,
          4.849759295880012,
          4.904093965673441,
          4.958428635466871,
          5.0127633052603,
          5.06709797505373,
          5.121432644875413,
          5.1757673146688425,
          5.230101984462272,
          5.2844366542557015,
          5.338771324049131,
          5.3931059938425605,
          5.44744066363599,
          5.44744066363599,
          5.498417135014324,
          5.549393606392657,
          5.600370077770991,
          5.651346549149325,
          5.7023230205276585,
          5.7532994919059925,
          5.804275963284327,
          5.85525243466266,
          5.906228906040994,
          5.957205377419327,
          6.00818184879766,
          6.059158320175994,
          6.059158320175994,
          6.109611942122999,
          6.160065564084132,
          6.210519186031137,
          6.260972807992269,
          6.3114264299406875,
          6.361880051894756,
          6.412333673847413
         ],
         "y": [
          5.772387308960822,
          5.774153933770732,
          5.778874064372331,
          5.785455855409205,
          5.793412193325015,
          5.803156451334278,
          5.815303718171506,
          5.829829318139765,
          5.845904244535223,
          5.86242054696669,
          5.878555145086936,
          5.893875327895451,
          5.908098169248884,
          5.920888184827155,
          5.931862030600734,
          5.940689438661754,
          5.9471426105555425,
          5.951075436999345,
          5.952397306170776,
          5.952397306170776,
          5.952762722847062,
          5.952979128403566,
          5.951195622554958,
          5.946049992156113,
          5.93753115923023,
          5.927017115855003,
          5.916803453227646,
          5.909383783463717,
          5.90667154456274,
          5.90667154456274,
          5.908365216298771,
          5.912636580398277,
          5.918024337198627,
          5.923018547937279,
          5.926482818804899,
          5.928137690351987,
          5.928547337351169,
          5.928547337351169,
          5.921600090101564,
          5.914022526354749,
          5.905881751065209,
          5.897272950775395,
          5.88831906444712,
          5.87912859825371,
          5.869742563701216,
          5.860125935965874,
          5.850233622553281,
          5.840117476867057,
          5.829991671001811,
          5.820189318205019,
          5.811023223630977,
          5.802648316347414,
          5.795039543576641,
          5.788777796206369,
          5.783945540549436,
          5.778339690089327,
          5.774004786318631,
          5.772387308944061,
          5.77238730894799,
          5.7737579038618145,
          5.777393408893035,
          5.782331645588425,
          5.787996257555956,
          5.794559232569993,
          5.802501617653255,
          5.8118620386527775,
          5.821900233419155,
          5.831467445075169,
          5.839697933791903,
          5.846398814120943,
          5.851882901179958,
          5.856490783394558,
          5.860228203024083,
          5.862755609315092,
          5.863658517667319,
          5.863658517667319,
          5.864499393199972,
          5.866965177190208,
          5.870904094286391,
          5.876110444705374,
          5.8823554659275095,
          5.889386686234459,
          5.896903911922217,
          5.904542676574753,
          5.911892587171017,
          5.918550853290465,
          5.924182021034596,
          5.928547337345067,
          5.928547337345067,
          5.928134199206379,
          5.92647823235159,
          5.923015172079042,
          5.918022706970703,
          5.912636025800336,
          5.908365015608819,
          5.90667154456274,
          5.90667154456274,
          5.908241248421485,
          5.912189333287173,
          5.916489354419634,
          5.918551443966485,
          5.916311207363001,
          5.909475834571806,
          5.89972237916795,
          5.889344301416237,
          5.8800497091731465,
          5.87271489022142,
          5.867596624764211,
          5.864626467113998,
          5.863658517667319,
          5.863658517667319,
          5.864499784789622,
          5.866965847091931,
          5.87090323925465,
          5.876105781354509,
          5.88234643586673,
          5.889375571694976,
          5.896894668775707,
          5.904538312035235,
          5.911893197074557,
          5.918553858168554,
          5.924184279651821,
          5.928547337351169,
          5.928547337345067,
          5.934519472427117,
          5.939777366665027,
          5.944223900182674,
          5.947765074647516,
          5.950330295525551,
          5.951879677945842,
          5.952397306170776
         ]
        },
        {
         "mode": "lines",
         "name": "band 9",
         "type": "scatter",
         "x": [
          0,
          0.05549615278466996,
          0.11099230556933992,
          0.166488458352012,
          0.2219846111346841,
          0.2774807639233498,
          0.33297691671201546,
          0.38847306948070254,
          0.4439692222693682,
          0.4994653750580339,
          0.5549615278466996,
          0.6104576806353653,
          0.6659538334040522,
          0.7214499861927179,
          0.7769461389813836,
          0.8324422917700494,
          0.8879384445387364,
          0.9434345973274021,
          0.9989307501160678,
          0.9989307501160678,
          1.0544269029027358,
          1.1099230556894035,
          1.165419208465083,
          1.2209153612507517,
          1.2764115140394172,
          1.331907666828083,
          1.38740381959677,
          1.4428999723854357,
          1.4983961251741014,
          1.4983961251741014,
          1.5488497471352338,
          1.599303369068112,
          1.6497569910292444,
          1.7002106129903767,
          1.750664234951509,
          1.8011178568843873,
          1.8515714788455195,
          1.8515714788455195,
          1.9045477818962322,
          1.9575240849469449,
          2.0105003879976575,
          2.06347669104837,
          2.116452994099083,
          2.1694292971497955,
          2.222405600200508,
          2.275381903251221,
          2.3283582063019335,
          2.381334509352646,
          2.434310812403359,
          2.4872871154540714,
          2.540263418504784,
          2.5932397215554968,
          2.6462160246062094,
          2.699192327656922,
          2.7521686307076347,
          2.8051449337583474,
          2.85812123680906,
          2.9110975398597727,
          2.9110975398597727,
          2.965166252748645,
          3.0192349656375175,
          3.07330367852639,
          3.1273723914152622,
          3.1814411043041346,
          3.235509817193007,
          3.2895785300818794,
          3.3436472429707518,
          3.397715955859624,
          3.4517846687484965,
          3.505853381637369,
          3.5599220945262413,
          3.6139908074151137,
          3.668059520303986,
          3.7221282331928585,
          3.776196946081731,
          3.776196946081731,
          3.8271734174600645,
          3.878149888838398,
          3.9291263602167317,
          3.9801028315950653,
          4.031079302973399,
          4.0820557743517325,
          4.133032245730066,
          4.1840087171084,
          4.234985188486733,
          4.285961659865066,
          4.3369381312434,
          4.387914602621733,
          4.387914602621733,
          4.438368224582866,
          4.488821846515744,
          4.539275468476877,
          4.589729090438009,
          4.640182712399142,
          4.69063633433202,
          4.741089956293153,
          4.741089956293153,
          4.795424626086582,
          4.849759295880012,
          4.904093965673441,
          4.958428635466871,
          5.0127633052603,
          5.06709797505373,
          5.121432644875413,
          5.1757673146688425,
          5.230101984462272,
          5.2844366542557015,
          5.338771324049131,
          5.3931059938425605,
          5.44744066363599,
          5.44744066363599,
          5.498417135014324,
          5.549393606392657,
          5.600370077770991,
          5.651346549149325,
          5.7023230205276585,
          5.7532994919059925,
          5.804275963284327,
          5.85525243466266,
          5.906228906040994,
          5.957205377419327,
          6.00818184879766,
          6.059158320175994,
          6.059158320175994,
          6.109611942122999,
          6.160065564084132,
          6.210519186031137,
          6.260972807992269,
          6.3114264299406875,
          6.361880051894756,
          6.412333673847413
         ],
         "y": [
          6.226425272873706,
          6.226453769226695,
          6.225937384261978,
          6.223394396598524,
          6.217225796163078,
          6.20641807962036,
          6.190745683373985,
          6.170411582720928,
          6.145455884753642,
          6.115371299956181,
          6.079127609593312,
          6.03544451106555,
          5.983003666205427,
          5.920888184827156,
          5.931862030600735,
          5.940689438661754,
          5.9471426105555425,
          5.951075436999345,
          5.952397306170778,
          5.952397306170778,
          5.9546276361322965,
          5.960977442988589,
          5.970526909801416,
          5.981997197943109,
          5.993948301402759,
          6.004940758628177,
          6.013709597474322,
          6.01932366872771,
          6.021250475162918,
          6.021250475162918,
          6.019542239592506,
          6.014756665026112,
          6.0078430254840445,
          6.000292197609896,
          5.993821671749579,
          5.98970832929709,
          5.98834622977786,
          5.98834622977786,
          5.990501474755992,
          5.9941031076460805,
          6.0002057463328375,
          6.0092342928027636,
          6.020975832130214,
          6.034820684522322,
          6.050125504637467,
          6.066477885775946,
          6.0837215858799745,
          6.101789504839751,
          6.1205246301722935,
          6.13961745776468,
          6.158604327878977,
          6.176803079016545,
          6.1932368888955,
          6.206777140912961,
          6.21659464855435,
          6.2226233823500126,
          6.225583026075744,
          6.226425272889451,
          6.226425272880062,
          6.225278664748323,
          6.221720918809559,
          6.215162507145747,
          6.204165107321267,
          6.186593521201357,
          6.16049374641704,
          6.125011448501871,
          6.080516840789654,
          6.027896574331389,
          5.967762974683757,
          5.9003823673902485,
          5.851882901179961,
          5.856490783394559,
          5.860228203024084,
          5.862755609315094,
          5.86365851766732,
          5.86365851766732,
          5.867864218509376,
          5.879572444361709,
          5.896508655562158,
          5.915938286920429,
          5.935372059227818,
          5.9529012130054655,
          5.967281441749751,
          5.9778991214723,
          5.984702620794867,
          5.988127712592871,
          5.988996088826253,
          5.988346229778184,
          5.988346229778184,
          5.989707144987101,
          5.993819062569839,
          6.000288869672058,
          6.007840402773791,
          6.014755492623508,
          6.019542076237224,
          6.021250475162918,
          6.021250475162918,
          6.019084325962913,
          6.012892571593574,
          6.003567273294641,
          5.992424954062617,
          5.980661215331721,
          5.968415525034797,
          5.954616325882661,
          5.938228966258036,
          5.919361123538334,
          5.899511334130759,
          5.88138860897683,
          5.868411443544478,
          5.86365851766732,
          5.86365851766732,
          5.867864079818698,
          5.879572345482925,
          5.896509516164711,
          5.915940935427674,
          5.935376178258738,
          5.9529053060640535,
          5.967283970470498,
          5.9778997064481905,
          5.984702139973324,
          5.988127285097286,
          5.9889960691046085,
          5.98834622977786,
          5.988346229778184,
          5.986315381023035,
          5.983024885428556,
          5.977627044126238,
          5.970143449863882,
          5.961819620220812,
          5.955042555852403,
          5.952397306170778
         ]
        }
       ],
       "layout": {
        "shapes": [
         {
          "line": {
           "color": "black",
           "width": 1
          },
          "type": "line",
          "x0": 0.9989307501160678,
          "x1": 0.9989307501160678,
          "xref": "x",
          "y0": 0,
          "y1": 1,
          "yref": "y domain"
         },
         {
          "line": {
           "color": "black",
           "width": 1
          },
          "type": "line",
          "x0": 1.4983961251741014,
          "x1": 1.4983961251741014,
          "xref": "x",
          "y0": 0,
          "y1": 1,
          "yref": "y domain"
         },
         {
          "line": {
           "color": "black",
           "width": 1
          },
          "type": "line",
          "x0": 1.8515714788455195,
          "x1": 1.8515714788455195,
          "xref": "x",
          "y0": 0,
          "y1": 1,
          "yref": "y domain"
         },
         {
          "line": {
           "color": "black",
           "width": 1
          },
          "type": "line",
          "x0": 2.9110975398597727,
          "x1": 2.9110975398597727,
          "xref": "x",
          "y0": 0,
          "y1": 1,
          "yref": "y domain"
         },
         {
          "line": {
           "color": "black",
           "width": 1
          },
          "type": "line",
          "x0": 3.776196946081731,
          "x1": 3.776196946081731,
          "xref": "x",
          "y0": 0,
          "y1": 1,
          "yref": "y domain"
         },
         {
          "line": {
           "color": "black",
           "width": 1
          },
          "type": "line",
          "x0": 4.387914602621733,
          "x1": 4.387914602621733,
          "xref": "x",
          "y0": 0,
          "y1": 1,
          "yref": "y domain"
         },
         {
          "line": {
           "color": "black",
           "width": 1
          },
          "type": "line",
          "x0": 4.741089956293153,
          "x1": 4.741089956293153,
          "xref": "x",
          "y0": 0,
          "y1": 1,
          "yref": "y domain"
         },
         {
          "line": {
           "color": "black",
           "width": 1
          },
          "type": "line",
          "x0": 5.44744066363599,
          "x1": 5.44744066363599,
          "xref": "x",
          "y0": 0,
          "y1": 1,
          "yref": "y domain"
         },
         {
          "line": {
           "color": "black",
           "width": 1
          },
          "type": "line",
          "x0": 6.059158320175994,
          "x1": 6.059158320175994,
          "xref": "x",
          "y0": 0,
          "y1": 1,
          "yref": "y domain"
         }
        ],
        "template": {
         "data": {
          "bar": [
           {
            "error_x": {
             "color": "#2a3f5f"
            },
            "error_y": {
             "color": "#2a3f5f"
            },
            "marker": {
             "line": {
              "color": "#E5ECF6",
              "width": 0.5
             },
             "pattern": {
              "fillmode": "overlay",
              "size": 10,
              "solidity": 0.2
             }
            },
            "type": "bar"
           }
          ],
          "barpolar": [
           {
            "marker": {
             "line": {
              "color": "#E5ECF6",
              "width": 0.5
             },
             "pattern": {
              "fillmode": "overlay",
              "size": 10,
              "solidity": 0.2
             }
            },
            "type": "barpolar"
           }
          ],
          "carpet": [
           {
            "aaxis": {
             "endlinecolor": "#2a3f5f",
             "gridcolor": "white",
             "linecolor": "white",
             "minorgridcolor": "white",
             "startlinecolor": "#2a3f5f"
            },
            "baxis": {
             "endlinecolor": "#2a3f5f",
             "gridcolor": "white",
             "linecolor": "white",
             "minorgridcolor": "white",
             "startlinecolor": "#2a3f5f"
            },
            "type": "carpet"
           }
          ],
          "choropleth": [
           {
            "colorbar": {
             "outlinewidth": 0,
             "ticks": ""
            },
            "type": "choropleth"
           }
          ],
          "contour": [
           {
            "colorbar": {
             "outlinewidth": 0,
             "ticks": ""
            },
            "colorscale": [
             [
              0,
              "#0d0887"
             ],
             [
              0.1111111111111111,
              "#46039f"
             ],
             [
              0.2222222222222222,
              "#7201a8"
             ],
             [
              0.3333333333333333,
              "#9c179e"
             ],
             [
              0.4444444444444444,
              "#bd3786"
             ],
             [
              0.5555555555555556,
              "#d8576b"
             ],
             [
              0.6666666666666666,
              "#ed7953"
             ],
             [
              0.7777777777777778,
              "#fb9f3a"
             ],
             [
              0.8888888888888888,
              "#fdca26"
             ],
             [
              1,
              "#f0f921"
             ]
            ],
            "type": "contour"
           }
          ],
          "contourcarpet": [
           {
            "colorbar": {
             "outlinewidth": 0,
             "ticks": ""
            },
            "type": "contourcarpet"
           }
          ],
          "heatmap": [
           {
            "colorbar": {
             "outlinewidth": 0,
             "ticks": ""
            },
            "colorscale": [
             [
              0,
              "#0d0887"
             ],
             [
              0.1111111111111111,
              "#46039f"
             ],
             [
              0.2222222222222222,
              "#7201a8"
             ],
             [
              0.3333333333333333,
              "#9c179e"
             ],
             [
              0.4444444444444444,
              "#bd3786"
             ],
             [
              0.5555555555555556,
              "#d8576b"
             ],
             [
              0.6666666666666666,
              "#ed7953"
             ],
             [
              0.7777777777777778,
              "#fb9f3a"
             ],
             [
              0.8888888888888888,
              "#fdca26"
             ],
             [
              1,
              "#f0f921"
             ]
            ],
            "type": "heatmap"
           }
          ],
          "heatmapgl": [
           {
            "colorbar": {
             "outlinewidth": 0,
             "ticks": ""
            },
            "colorscale": [
             [
              0,
              "#0d0887"
             ],
             [
              0.1111111111111111,
              "#46039f"
             ],
             [
              0.2222222222222222,
              "#7201a8"
             ],
             [
              0.3333333333333333,
              "#9c179e"
             ],
             [
              0.4444444444444444,
              "#bd3786"
             ],
             [
              0.5555555555555556,
              "#d8576b"
             ],
             [
              0.6666666666666666,
              "#ed7953"
             ],
             [
              0.7777777777777778,
              "#fb9f3a"
             ],
             [
              0.8888888888888888,
              "#fdca26"
             ],
             [
              1,
              "#f0f921"
             ]
            ],
            "type": "heatmapgl"
           }
          ],
          "histogram": [
           {
            "marker": {
             "pattern": {
              "fillmode": "overlay",
              "size": 10,
              "solidity": 0.2
             }
            },
            "type": "histogram"
           }
          ],
          "histogram2d": [
           {
            "colorbar": {
             "outlinewidth": 0,
             "ticks": ""
            },
            "colorscale": [
             [
              0,
              "#0d0887"
             ],
             [
              0.1111111111111111,
              "#46039f"
             ],
             [
              0.2222222222222222,
              "#7201a8"
             ],
             [
              0.3333333333333333,
              "#9c179e"
             ],
             [
              0.4444444444444444,
              "#bd3786"
             ],
             [
              0.5555555555555556,
              "#d8576b"
             ],
             [
              0.6666666666666666,
              "#ed7953"
             ],
             [
              0.7777777777777778,
              "#fb9f3a"
             ],
             [
              0.8888888888888888,
              "#fdca26"
             ],
             [
              1,
              "#f0f921"
             ]
            ],
            "type": "histogram2d"
           }
          ],
          "histogram2dcontour": [
           {
            "colorbar": {
             "outlinewidth": 0,
             "ticks": ""
            },
            "colorscale": [
             [
              0,
              "#0d0887"
             ],
             [
              0.1111111111111111,
              "#46039f"
             ],
             [
              0.2222222222222222,
              "#7201a8"
             ],
             [
              0.3333333333333333,
              "#9c179e"
             ],
             [
              0.4444444444444444,
              "#bd3786"
             ],
             [
              0.5555555555555556,
              "#d8576b"
             ],
             [
              0.6666666666666666,
              "#ed7953"
             ],
             [
              0.7777777777777778,
              "#fb9f3a"
             ],
             [
              0.8888888888888888,
              "#fdca26"
             ],
             [
              1,
              "#f0f921"
             ]
            ],
            "type": "histogram2dcontour"
           }
          ],
          "mesh3d": [
           {
            "colorbar": {
             "outlinewidth": 0,
             "ticks": ""
            },
            "type": "mesh3d"
           }
          ],
          "parcoords": [
           {
            "line": {
             "colorbar": {
              "outlinewidth": 0,
              "ticks": ""
             }
            },
            "type": "parcoords"
           }
          ],
          "pie": [
           {
            "automargin": true,
            "type": "pie"
           }
          ],
          "scatter": [
           {
            "fillpattern": {
             "fillmode": "overlay",
             "size": 10,
             "solidity": 0.2
            },
            "type": "scatter"
           }
          ],
          "scatter3d": [
           {
            "line": {
             "colorbar": {
              "outlinewidth": 0,
              "ticks": ""
             }
            },
            "marker": {
             "colorbar": {
              "outlinewidth": 0,
              "ticks": ""
             }
            },
            "type": "scatter3d"
           }
          ],
          "scattercarpet": [
           {
            "marker": {
             "colorbar": {
              "outlinewidth": 0,
              "ticks": ""
             }
            },
            "type": "scattercarpet"
           }
          ],
          "scattergeo": [
           {
            "marker": {
             "colorbar": {
              "outlinewidth": 0,
              "ticks": ""
             }
            },
            "type": "scattergeo"
           }
          ],
          "scattergl": [
           {
            "marker": {
             "colorbar": {
              "outlinewidth": 0,
              "ticks": ""
             }
            },
            "type": "scattergl"
           }
          ],
          "scattermapbox": [
           {
            "marker": {
             "colorbar": {
              "outlinewidth": 0,
              "ticks": ""
             }
            },
            "type": "scattermapbox"
           }
          ],
          "scatterpolar": [
           {
            "marker": {
             "colorbar": {
              "outlinewidth": 0,
              "ticks": ""
             }
            },
            "type": "scatterpolar"
           }
          ],
          "scatterpolargl": [
           {
            "marker": {
             "colorbar": {
              "outlinewidth": 0,
              "ticks": ""
             }
            },
            "type": "scatterpolargl"
           }
          ],
          "scatterternary": [
           {
            "marker": {
             "colorbar": {
              "outlinewidth": 0,
              "ticks": ""
             }
            },
            "type": "scatterternary"
           }
          ],
          "surface": [
           {
            "colorbar": {
             "outlinewidth": 0,
             "ticks": ""
            },
            "colorscale": [
             [
              0,
              "#0d0887"
             ],
             [
              0.1111111111111111,
              "#46039f"
             ],
             [
              0.2222222222222222,
              "#7201a8"
             ],
             [
              0.3333333333333333,
              "#9c179e"
             ],
             [
              0.4444444444444444,
              "#bd3786"
             ],
             [
              0.5555555555555556,
              "#d8576b"
             ],
             [
              0.6666666666666666,
              "#ed7953"
             ],
             [
              0.7777777777777778,
              "#fb9f3a"
             ],
             [
              0.8888888888888888,
              "#fdca26"
             ],
             [
              1,
              "#f0f921"
             ]
            ],
            "type": "surface"
           }
          ],
          "table": [
           {
            "cells": {
             "fill": {
              "color": "#EBF0F8"
             },
             "line": {
              "color": "white"
             }
            },
            "header": {
             "fill": {
              "color": "#C8D4E3"
             },
             "line": {
              "color": "white"
             }
            },
            "type": "table"
           }
          ]
         },
         "layout": {
          "annotationdefaults": {
           "arrowcolor": "#2a3f5f",
           "arrowhead": 0,
           "arrowwidth": 1
          },
          "autotypenumbers": "strict",
          "coloraxis": {
           "colorbar": {
            "outlinewidth": 0,
            "ticks": ""
           }
          },
          "colorscale": {
           "diverging": [
            [
             0,
             "#8e0152"
            ],
            [
             0.1,
             "#c51b7d"
            ],
            [
             0.2,
             "#de77ae"
            ],
            [
             0.3,
             "#f1b6da"
            ],
            [
             0.4,
             "#fde0ef"
            ],
            [
             0.5,
             "#f7f7f7"
            ],
            [
             0.6,
             "#e6f5d0"
            ],
            [
             0.7,
             "#b8e186"
            ],
            [
             0.8,
             "#7fbc41"
            ],
            [
             0.9,
             "#4d9221"
            ],
            [
             1,
             "#276419"
            ]
           ],
           "sequential": [
            [
             0,
             "#0d0887"
            ],
            [
             0.1111111111111111,
             "#46039f"
            ],
            [
             0.2222222222222222,
             "#7201a8"
            ],
            [
             0.3333333333333333,
             "#9c179e"
            ],
            [
             0.4444444444444444,
             "#bd3786"
            ],
            [
             0.5555555555555556,
             "#d8576b"
            ],
            [
             0.6666666666666666,
             "#ed7953"
            ],
            [
             0.7777777777777778,
             "#fb9f3a"
            ],
            [
             0.8888888888888888,
             "#fdca26"
            ],
            [
             1,
             "#f0f921"
            ]
           ],
           "sequentialminus": [
            [
             0,
             "#0d0887"
            ],
            [
             0.1111111111111111,
             "#46039f"
            ],
            [
             0.2222222222222222,
             "#7201a8"
            ],
            [
             0.3333333333333333,
             "#9c179e"
            ],
            [
             0.4444444444444444,
             "#bd3786"
            ],
            [
             0.5555555555555556,
             "#d8576b"
            ],
            [
             0.6666666666666666,
             "#ed7953"
            ],
            [
             0.7777777777777778,
             "#fb9f3a"
            ],
            [
             0.8888888888888888,
             "#fdca26"
            ],
            [
             1,
             "#f0f921"
            ]
           ]
          },
          "colorway": [
           "#636efa",
           "#EF553B",
           "#00cc96",
           "#ab63fa",
           "#FFA15A",
           "#19d3f3",
           "#FF6692",
           "#B6E880",
           "#FF97FF",
           "#FECB52"
          ],
          "font": {
           "color": "#2a3f5f"
          },
          "geo": {
           "bgcolor": "white",
           "lakecolor": "white",
           "landcolor": "#E5ECF6",
           "showlakes": true,
           "showland": true,
           "subunitcolor": "white"
          },
          "hoverlabel": {
           "align": "left"
          },
          "hovermode": "closest",
          "mapbox": {
           "style": "light"
          },
          "paper_bgcolor": "white",
          "plot_bgcolor": "#E5ECF6",
          "polar": {
           "angularaxis": {
            "gridcolor": "white",
            "linecolor": "white",
            "ticks": ""
           },
           "bgcolor": "#E5ECF6",
           "radialaxis": {
            "gridcolor": "white",
            "linecolor": "white",
            "ticks": ""
           }
          },
          "scene": {
           "xaxis": {
            "backgroundcolor": "#E5ECF6",
            "gridcolor": "white",
            "gridwidth": 2,
            "linecolor": "white",
            "showbackground": true,
            "ticks": "",
            "zerolinecolor": "white"
           },
           "yaxis": {
            "backgroundcolor": "#E5ECF6",
            "gridcolor": "white",
            "gridwidth": 2,
            "linecolor": "white",
            "showbackground": true,
            "ticks": "",
            "zerolinecolor": "white"
           },
           "zaxis": {
            "backgroundcolor": "#E5ECF6",
            "gridcolor": "white",
            "gridwidth": 2,
            "linecolor": "white",
            "showbackground": true,
            "ticks": "",
            "zerolinecolor": "white"
           }
          },
          "shapedefaults": {
           "line": {
            "color": "#2a3f5f"
           }
          },
          "ternary": {
           "aaxis": {
            "gridcolor": "white",
            "linecolor": "white",
            "ticks": ""
           },
           "baxis": {
            "gridcolor": "white",
            "linecolor": "white",
            "ticks": ""
           },
           "bgcolor": "#E5ECF6",
           "caxis": {
            "gridcolor": "white",
            "linecolor": "white",
            "ticks": ""
           }
          },
          "title": {
           "x": 0.05
          },
          "xaxis": {
           "automargin": true,
           "gridcolor": "white",
           "linecolor": "white",
           "ticks": "",
           "title": {
            "standoff": 15
           },
           "zerolinecolor": "white",
           "zerolinewidth": 2
          },
          "yaxis": {
           "automargin": true,
           "gridcolor": "white",
           "linecolor": "white",
           "ticks": "",
           "title": {
            "standoff": 15
           },
           "zerolinecolor": "white",
           "zerolinewidth": 2
          }
         }
        },
        "xaxis": {
         "mirror": true,
         "showgrid": false,
         "ticklen": 0,
         "ticks": "inside",
         "ticktext": [
          "Γ",
          "X",
          "W",
          "K",
          "Γ",
          "L",
          "U",
          "W",
          "L",
          "K|U",
          "X"
         ],
         "tickvals": [
          0,
          0.9989307501160678,
          1.4983961251741014,
          1.8515714788455195,
          2.9110975398597727,
          3.776196946081731,
          4.387914602621733,
          4.741089956293153,
          5.44744066363599,
          6.059158320175994,
          6.412333673847413
         ],
         "title": {
          "text": "Wave Vector"
         }
        },
        "yaxis": {
         "mirror": true,
         "range": [
          0,
          6.350982844611229
         ],
         "rangemode": "tozero",
         "showgrid": false,
         "ticklen": 10,
         "ticks": "inside",
         "title": {
          "text": "Frequencies (THz)"
         }
        }
       }
      },
      "text/html": [
       "<div>                            <div id=\"a380e26d-40c3-4b50-acbc-30d3cc54a163\" class=\"plotly-graph-div\" style=\"height:525px; width:100%;\"></div>            <script type=\"text/javascript\">                require([\"plotly\"], function(Plotly) {                    window.PLOTLYENV=window.PLOTLYENV || {};                                    if (document.getElementById(\"a380e26d-40c3-4b50-acbc-30d3cc54a163\")) {                    Plotly.newPlot(                        \"a380e26d-40c3-4b50-acbc-30d3cc54a163\",                        [{\"mode\":\"lines\",\"name\":\"band 1\",\"x\":[0.0,0.05549615278466996,0.11099230556933992,0.166488458352012,0.2219846111346841,0.2774807639233498,0.33297691671201546,0.38847306948070254,0.4439692222693682,0.4994653750580339,0.5549615278466996,0.6104576806353653,0.6659538334040522,0.7214499861927179,0.7769461389813836,0.8324422917700494,0.8879384445387364,0.9434345973274021,0.9989307501160678,0.9989307501160678,1.0544269029027358,1.1099230556894035,1.165419208465083,1.2209153612507517,1.2764115140394172,1.331907666828083,1.38740381959677,1.4428999723854357,1.4983961251741014,1.4983961251741014,1.5488497471352338,1.599303369068112,1.6497569910292444,1.7002106129903767,1.750664234951509,1.8011178568843873,1.8515714788455195,1.8515714788455195,1.9045477818962322,1.9575240849469449,2.0105003879976575,2.06347669104837,2.116452994099083,2.1694292971497955,2.222405600200508,2.275381903251221,2.3283582063019335,2.381334509352646,2.434310812403359,2.4872871154540714,2.540263418504784,2.5932397215554968,2.6462160246062094,2.699192327656922,2.7521686307076347,2.8051449337583474,2.85812123680906,2.9110975398597727,2.9110975398597727,2.965166252748645,3.0192349656375175,3.07330367852639,3.1273723914152622,3.1814411043041346,3.235509817193007,3.2895785300818794,3.3436472429707518,3.397715955859624,3.4517846687484965,3.505853381637369,3.5599220945262413,3.6139908074151137,3.668059520303986,3.7221282331928585,3.776196946081731,3.776196946081731,3.8271734174600645,3.878149888838398,3.9291263602167317,3.9801028315950653,4.031079302973399,4.0820557743517325,4.133032245730066,4.1840087171084,4.234985188486733,4.285961659865066,4.3369381312434,4.387914602621733,4.387914602621733,4.438368224582866,4.488821846515744,4.539275468476877,4.589729090438009,4.640182712399142,4.69063633433202,4.741089956293153,4.741089956293153,4.795424626086582,4.849759295880012,4.904093965673441,4.958428635466871,5.0127633052603,5.06709797505373,5.121432644875413,5.1757673146688425,5.230101984462272,5.2844366542557015,5.338771324049131,5.3931059938425605,5.44744066363599,5.44744066363599,5.498417135014324,5.549393606392657,5.600370077770991,5.651346549149325,5.7023230205276585,5.7532994919059925,5.804275963284327,5.85525243466266,5.906228906040994,5.957205377419327,6.00818184879766,6.059158320175994,6.059158320175994,6.109611942122999,6.160065564084132,6.210519186031137,6.260972807992269,6.3114264299406875,6.361880051894756,6.412333673847413],\"y\":[0.0,0.22914069023574282,0.45611658995765486,0.6790605010222343,0.8965423235518364,1.1075950500065592,1.3117117378698213,1.508810636395375,1.6991459679529246,1.8831558562425772,2.061279785051416,2.233826085662858,2.400918504454028,2.562448743936493,2.7179288010086498,2.866084587685891,2.999961074069521,2.9597793190023585,2.945930074858227,2.945930074858227,2.945036146563118,2.9431724822077183,2.942317287334044,2.9446118976692928,2.9515068797358475,2.963266471285832,2.978632483359889,2.99396377887825,3.0012807874060123,3.0012807874060123,3.0003815968378427,2.995323733741255,2.9873641019039137,2.9811020872091687,2.9790025512316127,2.980120376086987,2.9811675457774305,2.9811675457774305,2.9786491770694643,2.954164786653455,2.8523587208970387,2.7239259419219284,2.5866998885375034,2.4416084952944535,2.2895062934962285,2.131209083517632,1.9675525614080516,1.7994152116720679,1.6276719998162703,1.4530987974089125,1.2762866002839761,1.097621883176166,0.9173467193463057,0.7356588182475572,0.5527886723269606,0.36901806665427833,0.18465426481117167,0.0,0.0,0.20070528000722848,0.4003140616974502,0.5978486769289121,0.7925231754454198,0.9837307660193316,1.1709349369407218,1.3534985311071863,1.5305099337458685,1.700640014138172,1.862004805266939,2.011978005533569,2.1469423532962493,2.26207921876186,2.3514325195510666,2.408605697368485,2.428355117716415,2.428355117716415,2.4354120684600393,2.4564034515640683,2.4908042552099072,2.537781110848469,2.596247168146463,2.6649273077224884,2.7424170162148993,2.8271942138514974,2.9174983249302064,2.972889896151854,2.9822070689254288,2.981167545798781,2.981167545798781,2.980113441990356,2.9789889766339654,2.9810852843854136,2.987349782139171,2.9953165527575387,3.0003804826501637,3.0012807874060123,3.0012807874060123,3.008795952034434,3.026730322969817,2.983240786744551,2.91674822506234,2.8418090684106665,2.7634406198739194,2.6862561686820614,2.6142763391545967,2.55087241396436,2.498786247771638,2.460128064958712,2.436367388789411,2.428355117716415,2.428355117716415,2.435412227261187,2.4564036614961586,2.4908036512190246,2.5377787172182407,2.596242913559438,2.6649223899738423,2.742413208902238,2.827192665736851,2.9174988149795174,2.972893821427746,2.982210580614273,2.9811675457774305,2.981167545798781,2.9721476492589587,2.9603045964969463,2.950718191798861,2.945464056841369,2.9442777696908102,2.945235307603242,2.945930074858227],\"type\":\"scatter\"},{\"mode\":\"lines\",\"name\":\"band 2\",\"x\":[0.0,0.05549615278466996,0.11099230556933992,0.166488458352012,0.2219846111346841,0.2774807639233498,0.33297691671201546,0.38847306948070254,0.4439692222693682,0.4994653750580339,0.5549615278466996,0.6104576806353653,0.6659538334040522,0.7214499861927179,0.7769461389813836,0.8324422917700494,0.8879384445387364,0.9434345973274021,0.9989307501160678,0.9989307501160678,1.0544269029027358,1.1099230556894035,1.165419208465083,1.2209153612507517,1.2764115140394172,1.331907666828083,1.38740381959677,1.4428999723854357,1.4983961251741014,1.4983961251741014,1.5488497471352338,1.599303369068112,1.6497569910292444,1.7002106129903767,1.750664234951509,1.8011178568843873,1.8515714788455195,1.8515714788455195,1.9045477818962322,1.9575240849469449,2.0105003879976575,2.06347669104837,2.116452994099083,2.1694292971497955,2.222405600200508,2.275381903251221,2.3283582063019335,2.381334509352646,2.434310812403359,2.4872871154540714,2.540263418504784,2.5932397215554968,2.6462160246062094,2.699192327656922,2.7521686307076347,2.8051449337583474,2.85812123680906,2.9110975398597727,2.9110975398597727,2.965166252748645,3.0192349656375175,3.07330367852639,3.1273723914152622,3.1814411043041346,3.235509817193007,3.2895785300818794,3.3436472429707518,3.397715955859624,3.4517846687484965,3.505853381637369,3.5599220945262413,3.6139908074151137,3.668059520303986,3.7221282331928585,3.776196946081731,3.776196946081731,3.8271734174600645,3.878149888838398,3.9291263602167317,3.9801028315950653,4.031079302973399,4.0820557743517325,4.133032245730066,4.1840087171084,4.234985188486733,4.285961659865066,4.3369381312434,4.387914602621733,4.387914602621733,4.438368224582866,4.488821846515744,4.539275468476877,4.589729090438009,4.640182712399142,4.69063633433202,4.741089956293153,4.741089956293153,4.795424626086582,4.849759295880012,4.904093965673441,4.958428635466871,5.0127633052603,5.06709797505373,5.121432644875413,5.1757673146688425,5.230101984462272,5.2844366542557015,5.338771324049131,5.3931059938425605,5.44744066363599,5.44744066363599,5.498417135014324,5.549393606392657,5.600370077770991,5.651346549149325,5.7023230205276585,5.7532994919059925,5.804275963284327,5.85525243466266,5.906228906040994,5.957205377419327,6.00818184879766,6.059158320175994,6.059158320175994,6.109611942122999,6.160065564084132,6.210519186031137,6.260972807992269,6.3114264299406875,6.361880051894756,6.412333673847413],\"y\":[0.0,0.22914069023574515,0.4561165899576563,0.6790605010222419,0.8965423235518383,1.1075950500065628,1.3117117378698262,1.5088106363953768,1.6991459679529268,1.8831558562425783,2.0612797850514175,2.23382608566286,2.400918504454029,2.5624487439364936,2.717928801008651,2.866084587685892,3.0035444512944576,3.119312893018862,3.1736684894027314,3.1736684894027314,3.1736715785606546,3.172891325062463,3.169513257037593,3.1618235561133816,3.149053459791454,3.131705984259004,3.111736306911617,3.093362052491289,3.084977992996948,3.084977992996948,3.085591009286653,3.0941663976415152,3.1135319159029287,3.139264046337104,3.163342964041245,3.1747159223688444,3.175260934605398,3.175260934605398,3.078962708901426,2.9710228745291465,2.9031397618062806,2.8269729146271656,2.7293460603304345,2.6137982376661593,2.483118365038607,2.339424383109893,2.1843714753899848,2.0192955760544526,1.8452630496076572,1.6630885748632136,1.4733973763596782,1.2767572074869362,1.073835942965438,0.865502808332013,0.6528176946359231,0.43693018600198,0.21897040287731767,0.0,0.0,0.20070528000723603,0.4003140616974618,0.5978486769289145,0.7925231754454258,0.9837307660193407,1.1709349369407238,1.3534985311071894,1.53050993374587,1.7006400141381766,1.8620048052669416,2.0119780055335714,2.1469423532962515,2.262079218761862,2.3514325195510666,2.408605697368486,2.428355117716417,2.428355117716417,2.44163442454923,2.479698854579441,2.537717683414947,2.609036357028191,2.6866080725695283,2.764073866105041,2.836129368637407,2.898090307716437,2.945106218808453,3.010849661372182,3.102224187093171,3.1752609345945535,3.1752609345945535,3.1747214568027986,3.1633598823435873,3.139283271365012,3.1135465050867044,3.0941732454214166,3.085592044117895,3.084977992996948,3.084977992996948,3.0726785580922105,3.0396192198151804,3.0495157992069957,3.0363477701521004,2.976716385009136,2.8959826914356963,2.808253096604292,2.7186544631684635,2.631256751222028,2.551499438497212,2.4864076023653903,2.4434214476470206,2.428355117716417,2.428355117716417,2.4416346216989697,2.4796997926398885,2.537719584210461,2.609037912456052,2.686606602978369,2.764067788152953,2.8361206532843566,2.8980837758670974,2.9451055470276315,3.010850862719415,3.1022247499962208,3.175260934605398,3.1752609345945535,3.250156957427696,3.234708238746988,3.2182474272908443,3.201738682050249,3.187289055596964,3.17727418009962,3.1736684894027314],\"type\":\"scatter\"},{\"mode\":\"lines\",\"name\":\"band 3\",\"x\":[0.0,0.05549615278466996,0.11099230556933992,0.166488458352012,0.2219846111346841,0.2774807639233498,0.33297691671201546,0.38847306948070254,0.4439692222693682,0.4994653750580339,0.5549615278466996,0.6104576806353653,0.6659538334040522,0.7214499861927179,0.7769461389813836,0.8324422917700494,0.8879384445387364,0.9434345973274021,0.9989307501160678,0.9989307501160678,1.0544269029027358,1.1099230556894035,1.165419208465083,1.2209153612507517,1.2764115140394172,1.331907666828083,1.38740381959677,1.4428999723854357,1.4983961251741014,1.4983961251741014,1.5488497471352338,1.599303369068112,1.6497569910292444,1.7002106129903767,1.750664234951509,1.8011178568843873,1.8515714788455195,1.8515714788455195,1.9045477818962322,1.9575240849469449,2.0105003879976575,2.06347669104837,2.116452994099083,2.1694292971497955,2.222405600200508,2.275381903251221,2.3283582063019335,2.381334509352646,2.434310812403359,2.4872871154540714,2.540263418504784,2.5932397215554968,2.6462160246062094,2.699192327656922,2.7521686307076347,2.8051449337583474,2.85812123680906,2.9110975398597727,2.9110975398597727,2.965166252748645,3.0192349656375175,3.07330367852639,3.1273723914152622,3.1814411043041346,3.235509817193007,3.2895785300818794,3.3436472429707518,3.397715955859624,3.4517846687484965,3.505853381637369,3.5599220945262413,3.6139908074151137,3.668059520303986,3.7221282331928585,3.776196946081731,3.776196946081731,3.8271734174600645,3.878149888838398,3.9291263602167317,3.9801028315950653,4.031079302973399,4.0820557743517325,4.133032245730066,4.1840087171084,4.234985188486733,4.285961659865066,4.3369381312434,4.387914602621733,4.387914602621733,4.438368224582866,4.488821846515744,4.539275468476877,4.589729090438009,4.640182712399142,4.69063633433202,4.741089956293153,4.741089956293153,4.795424626086582,4.849759295880012,4.904093965673441,4.958428635466871,5.0127633052603,5.06709797505373,5.121432644875413,5.1757673146688425,5.230101984462272,5.2844366542557015,5.338771324049131,5.3931059938425605,5.44744066363599,5.44744066363599,5.498417135014324,5.549393606392657,5.600370077770991,5.651346549149325,5.7023230205276585,5.7532994919059925,5.804275963284327,5.85525243466266,5.906228906040994,5.957205377419327,6.00818184879766,6.059158320175994,6.059158320175994,6.109611942122999,6.160065564084132,6.210519186031137,6.260972807992269,6.3114264299406875,6.361880051894756,6.412333673847413],\"y\":[0.0,0.3864440759049513,0.7700513163904223,1.1481098419630713,1.5179831141970204,1.8768468145382793,2.221218859663926,2.5461053127927107,2.843036173290618,3.0951088072153814,3.2689397425971016,3.330304355921069,3.299082040362754,3.2252520654657717,3.140864759944183,3.0624935091781635,3.003544451294459,3.119312893018863,3.1736684894027336,3.1736684894027336,3.18427216727281,3.214697772692384,3.260982977107494,3.3171418245921718,3.3760186182401943,3.4303494675414283,3.4738123252294475,3.501739539207272,3.503707675514707,3.503707675514707,3.465792605197699,3.4170006339792005,3.3658931852713425,3.3179489138418323,3.281272168224479,3.266226834925351,3.266090397526753,3.266090397526753,3.2886822846650965,3.324263532398126,3.3760334268702112,3.4422129770357426,3.518895032683083,3.6012149506637425,3.6807100700042503,3.7274874821562,3.6412108951210307,3.4252374722949264,3.1600110857587587,2.8674142343541447,2.5539852207363283,2.2231238803380062,1.8773025858722463,1.5186456882649997,1.1492082322336254,0.7712032561468862,0.38716804027902185,0.0,0.0,0.40132813659661015,0.7999492185436506,1.1931817268885954,1.5784155163947744,1.9531590172514641,2.315044806377866,2.6617813661685097,2.9910866871835173,3.3006193533309265,3.587762486501468,3.848297990374609,4.0514147020256015,4.037228155833425,3.988267041394571,3.955302080637435,3.943607630198323,3.943607630198323,3.901117204045515,3.8343138779282526,3.7590655593504554,3.6782901732058852,3.5948613289049534,3.5122871837494865,3.434810682101038,3.3675120494604434,3.31622249828668,3.285598321240738,3.2732270224031774,3.266090397519309,3.266090397519309,3.2662187039593604,3.281251990889358,3.3179283477542114,3.3658789535748648,3.4169931644534555,3.465789741105998,3.503707675514707,3.503707675514707,3.43576773271393,3.3530094220396296,3.2846148367866306,3.265404087789389,3.3073334287768947,3.38116906978644,3.46860424764749,3.561267027537901,3.6539110713651155,3.7426819086367713,3.8246663314271347,3.8970662017186397,3.943607630198323,3.943607630198323,3.901118311423248,3.8343154892036986,3.7590664946123025,3.6782898875111423,3.5948603310174647,3.5122865523893254,3.4348111568481943,3.367513409902512,3.316223861811829,3.2855993505031873,3.273227945332655,3.266090397526753,3.266090397519309,3.2548973297048476,3.293970324074709,3.2545436555191465,3.2199702441761158,3.1944742223832123,3.178902339064862,3.1736684894027336],\"type\":\"scatter\"},{\"mode\":\"lines\",\"name\":\"band 4\",\"x\":[0.0,0.05549615278466996,0.11099230556933992,0.166488458352012,0.2219846111346841,0.2774807639233498,0.33297691671201546,0.38847306948070254,0.4439692222693682,0.4994653750580339,0.5549615278466996,0.6104576806353653,0.6659538334040522,0.7214499861927179,0.7769461389813836,0.8324422917700494,0.8879384445387364,0.9434345973274021,0.9989307501160678,0.9989307501160678,1.0544269029027358,1.1099230556894035,1.165419208465083,1.2209153612507517,1.2764115140394172,1.331907666828083,1.38740381959677,1.4428999723854357,1.4983961251741014,1.4983961251741014,1.5488497471352338,1.599303369068112,1.6497569910292444,1.7002106129903767,1.750664234951509,1.8011178568843873,1.8515714788455195,1.8515714788455195,1.9045477818962322,1.9575240849469449,2.0105003879976575,2.06347669104837,2.116452994099083,2.1694292971497955,2.222405600200508,2.275381903251221,2.3283582063019335,2.381334509352646,2.434310812403359,2.4872871154540714,2.540263418504784,2.5932397215554968,2.6462160246062094,2.699192327656922,2.7521686307076347,2.8051449337583474,2.85812123680906,2.9110975398597727,2.9110975398597727,2.965166252748645,3.0192349656375175,3.07330367852639,3.1273723914152622,3.1814411043041346,3.235509817193007,3.2895785300818794,3.3436472429707518,3.397715955859624,3.4517846687484965,3.505853381637369,3.5599220945262413,3.6139908074151137,3.668059520303986,3.7221282331928585,3.776196946081731,3.776196946081731,3.8271734174600645,3.878149888838398,3.9291263602167317,3.9801028315950653,4.031079302973399,4.0820557743517325,4.133032245730066,4.1840087171084,4.234985188486733,4.285961659865066,4.3369381312434,4.387914602621733,4.387914602621733,4.438368224582866,4.488821846515744,4.539275468476877,4.589729090438009,4.640182712399142,4.69063633433202,4.741089956293153,4.741089956293153,4.795424626086582,4.849759295880012,4.904093965673441,4.958428635466871,5.0127633052603,5.06709797505373,5.121432644875413,5.1757673146688425,5.230101984462272,5.2844366542557015,5.338771324049131,5.3931059938425605,5.44744066363599,5.44744066363599,5.498417135014324,5.549393606392657,5.600370077770991,5.651346549149325,5.7023230205276585,5.7532994919059925,5.804275963284327,5.85525243466266,5.906228906040994,5.957205377419327,6.00818184879766,6.059158320175994,6.059158320175994,6.109611942122999,6.160065564084132,6.210519186031137,6.260972807992269,6.3114264299406875,6.361880051894756,6.412333673847413],\"y\":[4.575275402243889,4.572303940589479,4.563751420840581,4.550073827730361,4.52256782706369,4.444971656329808,4.355925181480585,4.261284237681288,4.170482575119659,4.101607463132453,4.089808074967152,4.15007899646154,4.059858481844838,3.961829308214152,3.8570872056580368,3.747528917596697,3.6371017644522414,3.5373038512045727,3.488225367787696,3.488225367787696,3.4886504579364854,3.4898792181965814,3.4917783264208557,3.4941450685340376,3.496739024322298,3.499306439308668,3.501556204666117,3.503134462111233,3.511353441495816,3.511353441495816,3.527662541374099,3.5227963451751108,3.504815717215348,3.4786486180400997,3.448569791592974,3.4216869583363105,3.4099543313342267,3.4099543313342267,3.4767310682462793,3.5489193007807196,3.625330120880908,3.704788899732223,3.7860823959865653,3.868024372682987,3.9495396327531944,4.029680292916234,4.0076943081408505,4.069192284993911,4.154678290662838,4.242416236240868,4.325467312441667,4.399941522816061,4.462823650518549,4.507769850893617,4.536765762203058,4.557942962274337,4.570904012584942,4.575275402243889,4.575275402250913,4.571317182179336,4.559843065318213,4.541604169632302,4.516886167726578,4.485232939578017,4.445963753594783,4.398978087618943,4.34514995726737,4.286062274084435,4.223500531288582,4.159336841925984,4.09600966168756,4.037228155833425,3.988267041394572,3.955302080637435,3.943607630198323,3.943607630198323,3.9392191340234453,3.926094339455466,3.904344844119476,3.8741355784047573,3.835686938004892,3.789308034516784,3.7354472127706324,3.6747462017804655,3.6081431743001735,3.537261764586317,3.466133883149688,3.4099543313244833,3.4099543313244833,3.4216856493722423,3.448569747930903,3.4786507794862485,3.5048195462213823,3.52280031795949,3.5276648914231505,3.511353441495816,3.511353441495816,3.5467367156923526,3.576368876015044,3.611905201307109,3.6530165288153964,3.6974308577246116,3.743044345413351,3.7879650863533665,3.830359260233876,3.8683544711582436,3.900086115970322,3.923908539620052,3.9386334538275887,3.943607630198323,3.943607630198323,3.9392190633644475,3.9260940477436512,3.904344149485915,3.8741342847530644,3.835684963953338,3.7893055933123025,3.735444837340018,3.6747444941789698,3.6081424443456167,3.5372618776920577,3.4661343901257453,3.4099543313342267,3.4099543313244833,3.353018175891379,3.331861509979123,3.3850015981295227,3.4296535320882002,3.4620537294888374,3.4816620261377285,3.488225367787696],\"type\":\"scatter\"},{\"mode\":\"lines\",\"name\":\"band 5\",\"x\":[0.0,0.05549615278466996,0.11099230556933992,0.166488458352012,0.2219846111346841,0.2774807639233498,0.33297691671201546,0.38847306948070254,0.4439692222693682,0.4994653750580339,0.5549615278466996,0.6104576806353653,0.6659538334040522,0.7214499861927179,0.7769461389813836,0.8324422917700494,0.8879384445387364,0.9434345973274021,0.9989307501160678,0.9989307501160678,1.0544269029027358,1.1099230556894035,1.165419208465083,1.2209153612507517,1.2764115140394172,1.331907666828083,1.38740381959677,1.4428999723854357,1.4983961251741014,1.4983961251741014,1.5488497471352338,1.599303369068112,1.6497569910292444,1.7002106129903767,1.750664234951509,1.8011178568843873,1.8515714788455195,1.8515714788455195,1.9045477818962322,1.9575240849469449,2.0105003879976575,2.06347669104837,2.116452994099083,2.1694292971497955,2.222405600200508,2.275381903251221,2.3283582063019335,2.381334509352646,2.434310812403359,2.4872871154540714,2.540263418504784,2.5932397215554968,2.6462160246062094,2.699192327656922,2.7521686307076347,2.8051449337583474,2.85812123680906,2.9110975398597727,2.9110975398597727,2.965166252748645,3.0192349656375175,3.07330367852639,3.1273723914152622,3.1814411043041346,3.235509817193007,3.2895785300818794,3.3436472429707518,3.397715955859624,3.4517846687484965,3.505853381637369,3.5599220945262413,3.6139908074151137,3.668059520303986,3.7221282331928585,3.776196946081731,3.776196946081731,3.8271734174600645,3.878149888838398,3.9291263602167317,3.9801028315950653,4.031079302973399,4.0820557743517325,4.133032245730066,4.1840087171084,4.234985188486733,4.285961659865066,4.3369381312434,4.387914602621733,4.387914602621733,4.438368224582866,4.488821846515744,4.539275468476877,4.589729090438009,4.640182712399142,4.69063633433202,4.741089956293153,4.741089956293153,4.795424626086582,4.849759295880012,4.904093965673441,4.958428635466871,5.0127633052603,5.06709797505373,5.121432644875413,5.1757673146688425,5.230101984462272,5.2844366542557015,5.338771324049131,5.3931059938425605,5.44744066363599,5.44744066363599,5.498417135014324,5.549393606392657,5.600370077770991,5.651346549149325,5.7023230205276585,5.7532994919059925,5.804275963284327,5.85525243466266,5.906228906040994,5.957205377419327,6.00818184879766,6.059158320175994,6.059158320175994,6.109611942122999,6.160065564084132,6.210519186031137,6.260972807992269,6.3114264299406875,6.361880051894756,6.412333673847413],\"y\":[4.575275402300371,4.572303940589481,4.563751420840581,4.550073827730363,4.530797032535701,4.504392745690995,4.469139892886656,4.424070100663996,4.369192271853449,4.304994593585887,4.231884320943182,4.15007899646154,4.059858481844838,3.961829308214155,3.8570872056580394,3.7475289175966995,3.6371017644522436,3.537303851204575,3.488225367787697,3.488225367787697,3.4928785187390057,3.5062411063523147,3.5266732478379375,3.551840115105121,3.5790240105705435,3.605245495216166,3.627313696106438,3.642129893479964,3.647359509452321,3.647359509452321,3.664871356534853,3.7025216387856563,3.7415729295942435,3.774757308480637,3.799523952139397,3.8147470756135755,3.8198787534955585,3.8198787534955585,3.89195706632518,3.9647859635753977,4.0366257839522435,4.105349222440703,4.167580753111029,4.211656747456622,4.174780051525953,4.047984566445406,4.107547021316489,4.18217339201978,4.252476509627561,4.31733955291804,4.375794211619944,4.4271869303694595,4.471210540812691,4.5114102237774425,4.544181717657853,4.5631002324615615,4.572460896003429,4.575275402279796,4.575275402284699,4.571317182179338,4.559843065318213,4.541604169632302,4.516886167726578,4.485232939578021,4.445963753594784,4.398978087618944,4.34514995726737,4.286062274084437,4.2235005312885825,4.1593368419259855,4.096009661687563,4.050021647800693,4.017028714644687,3.995208333193425,3.987725376161095,3.987725376161095,4.020574117207189,4.058466678809935,4.085744724338308,4.100326829063951,4.101291720806835,4.0884829466121415,4.062446684025863,4.024405944973421,3.97645836422484,3.922089754980898,3.8670012551057984,3.8198787534905208,3.8198787534905208,3.814748785929432,3.799526423219265,3.774759456454249,3.7415740918961893,3.7025218898731596,3.6648713406719935,3.647359509452321,3.647359509452321,3.688241738032721,3.7665841553606416,3.848101503165128,3.9233713592186836,3.9882647471571326,4.04007831882953,4.076884947804034,4.097501289348607,4.1015691073133365,4.08956163319649,4.062702674890174,4.023302397965369,3.987725376161095,3.987725376161095,4.020573339921209,4.058465916029277,4.085744539532092,4.100327141587855,4.101292373185727,4.088483954891003,4.062447800229189,4.024406463635628,3.9764576990847083,3.922088165849658,3.8669998830197296,3.8198787534955585,3.8198787534905208,3.7530933752061206,3.6889224685457367,3.62842307931636,3.573795214337042,3.5289160633132144,3.4988670412446745,3.488225367787697],\"type\":\"scatter\"},{\"mode\":\"lines\",\"name\":\"band 6\",\"x\":[0.0,0.05549615278466996,0.11099230556933992,0.166488458352012,0.2219846111346841,0.2774807639233498,0.33297691671201546,0.38847306948070254,0.4439692222693682,0.4994653750580339,0.5549615278466996,0.6104576806353653,0.6659538334040522,0.7214499861927179,0.7769461389813836,0.8324422917700494,0.8879384445387364,0.9434345973274021,0.9989307501160678,0.9989307501160678,1.0544269029027358,1.1099230556894035,1.165419208465083,1.2209153612507517,1.2764115140394172,1.331907666828083,1.38740381959677,1.4428999723854357,1.4983961251741014,1.4983961251741014,1.5488497471352338,1.599303369068112,1.6497569910292444,1.7002106129903767,1.750664234951509,1.8011178568843873,1.8515714788455195,1.8515714788455195,1.9045477818962322,1.9575240849469449,2.0105003879976575,2.06347669104837,2.116452994099083,2.1694292971497955,2.222405600200508,2.275381903251221,2.3283582063019335,2.381334509352646,2.434310812403359,2.4872871154540714,2.540263418504784,2.5932397215554968,2.6462160246062094,2.699192327656922,2.7521686307076347,2.8051449337583474,2.85812123680906,2.9110975398597727,2.9110975398597727,2.965166252748645,3.0192349656375175,3.07330367852639,3.1273723914152622,3.1814411043041346,3.235509817193007,3.2895785300818794,3.3436472429707518,3.397715955859624,3.4517846687484965,3.505853381637369,3.5599220945262413,3.6139908074151137,3.668059520303986,3.7221282331928585,3.776196946081731,3.776196946081731,3.8271734174600645,3.878149888838398,3.9291263602167317,3.9801028315950653,4.031079302973399,4.0820557743517325,4.133032245730066,4.1840087171084,4.234985188486733,4.285961659865066,4.3369381312434,4.387914602621733,4.387914602621733,4.438368224582866,4.488821846515744,4.539275468476877,4.589729090438009,4.640182712399142,4.69063633433202,4.741089956293153,4.741089956293153,4.795424626086582,4.849759295880012,4.904093965673441,4.958428635466871,5.0127633052603,5.06709797505373,5.121432644875413,5.1757673146688425,5.230101984462272,5.2844366542557015,5.338771324049131,5.3931059938425605,5.44744066363599,5.44744066363599,5.498417135014324,5.549393606392657,5.600370077770991,5.651346549149325,5.7023230205276585,5.7532994919059925,5.804275963284327,5.85525243466266,5.906228906040994,5.957205377419327,6.00818184879766,6.059158320175994,6.059158320175994,6.109611942122999,6.160065564084132,6.210519186031137,6.260972807992269,6.3114264299406875,6.361880051894756,6.412333673847413],\"y\":[4.665096593112178,4.65627972809283,4.6296072527363705,4.584831203754871,4.530797032535701,4.504392745690996,4.469139892886659,4.424070100663996,4.369192271853449,4.304994593585888,4.231884320943183,4.171918698780181,4.331558733571867,4.523033533144592,4.719173299041975,4.908551252354662,5.086138969444085,5.248353594276955,5.364408726384096,5.364408726384096,5.353226049817812,5.321848080867171,5.275832083140212,5.222213997960015,5.168000355333935,5.119348915266648,5.081161330344231,5.0569040189378365,5.048599163893589,5.048599163893589,5.046640090197854,5.043937041101933,5.043147419855963,5.044672957618209,5.047514349723003,5.050118989913097,5.051159545237898,5.051159545237898,4.982221784581569,4.905226912861289,4.8148282001523794,4.706665504193825,4.579918458119653,4.445277918185475,4.370176432854072,4.390921018600988,4.429722508911546,4.466949800194972,4.499575570943604,4.527493708123749,4.551378488696871,4.57215552990938,4.591048063728059,4.609718514654528,4.629234370121221,4.64756262989257,4.660491794332768,4.665096593132419,4.665096593120663,4.6613087118549394,4.649109132953386,4.626746895926372,4.593157233734415,4.5489724994878085,4.496140292012693,4.436810549125865,4.372755398069347,4.30579229156397,4.238697600921171,4.176602934055029,4.15101779831619,4.30774319052567,4.468354148703245,4.5782521674184355,4.618004175750571,4.618004175750571,4.6177186883859545,4.61808218387461,4.622280189860788,4.634253233748045,4.657290571718935,4.693042431035974,4.741262363953422,4.800082286034513,4.866358479945372,4.935617713696003,5.001056684422235,5.0511595452444356,5.0511595452444356,5.050125280034819,5.047524345432322,5.044682573751664,5.043153629085604,5.043939508466613,5.04664055714265,5.048599163893589,5.048599163893589,5.03408742969988,4.9949495859900885,4.940079348665762,4.877661545836774,4.814171060576744,4.754847538297951,4.703953151712771,4.664570930159769,4.638082682375675,4.623667580839612,4.618306546210646,4.617695530769539,4.618004175750571,4.618004175750571,4.61771838545366,4.618081336647768,4.6222796151492584,4.634254877725375,4.6572962097417925,4.693051697239979,4.741272089441397,4.800088328387301,4.866358902612864,4.935614444552236,5.001053804197829,5.051159545237898,5.0511595452444356,5.113286220649895,5.173739721440905,5.231841637130023,5.284635982147085,5.327400303850261,5.3550157104711475,5.364408726384096],\"type\":\"scatter\"},{\"mode\":\"lines\",\"name\":\"band 7\",\"x\":[0.0,0.05549615278466996,0.11099230556933992,0.166488458352012,0.2219846111346841,0.2774807639233498,0.33297691671201546,0.38847306948070254,0.4439692222693682,0.4994653750580339,0.5549615278466996,0.6104576806353653,0.6659538334040522,0.7214499861927179,0.7769461389813836,0.8324422917700494,0.8879384445387364,0.9434345973274021,0.9989307501160678,0.9989307501160678,1.0544269029027358,1.1099230556894035,1.165419208465083,1.2209153612507517,1.2764115140394172,1.331907666828083,1.38740381959677,1.4428999723854357,1.4983961251741014,1.4983961251741014,1.5488497471352338,1.599303369068112,1.6497569910292444,1.7002106129903767,1.750664234951509,1.8011178568843873,1.8515714788455195,1.8515714788455195,1.9045477818962322,1.9575240849469449,2.0105003879976575,2.06347669104837,2.116452994099083,2.1694292971497955,2.222405600200508,2.275381903251221,2.3283582063019335,2.381334509352646,2.434310812403359,2.4872871154540714,2.540263418504784,2.5932397215554968,2.6462160246062094,2.699192327656922,2.7521686307076347,2.8051449337583474,2.85812123680906,2.9110975398597727,2.9110975398597727,2.965166252748645,3.0192349656375175,3.07330367852639,3.1273723914152622,3.1814411043041346,3.235509817193007,3.2895785300818794,3.3436472429707518,3.397715955859624,3.4517846687484965,3.505853381637369,3.5599220945262413,3.6139908074151137,3.668059520303986,3.7221282331928585,3.776196946081731,3.776196946081731,3.8271734174600645,3.878149888838398,3.9291263602167317,3.9801028315950653,4.031079302973399,4.0820557743517325,4.133032245730066,4.1840087171084,4.234985188486733,4.285961659865066,4.3369381312434,4.387914602621733,4.387914602621733,4.438368224582866,4.488821846515744,4.539275468476877,4.589729090438009,4.640182712399142,4.69063633433202,4.741089956293153,4.741089956293153,4.795424626086582,4.849759295880012,4.904093965673441,4.958428635466871,5.0127633052603,5.06709797505373,5.121432644875413,5.1757673146688425,5.230101984462272,5.2844366542557015,5.338771324049131,5.3931059938425605,5.44744066363599,5.44744066363599,5.498417135014324,5.549393606392657,5.600370077770991,5.651346549149325,5.7023230205276585,5.7532994919059925,5.804275963284327,5.85525243466266,5.906228906040994,5.957205377419327,6.00818184879766,6.059158320175994,6.059158320175994,6.109611942122999,6.160065564084132,6.210519186031137,6.260972807992269,6.3114264299406875,6.361880051894756,6.412333673847413],\"y\":[5.772387308913908,5.77415393377073,5.778874064372328,5.785455855409204,5.793412193325015,5.803156451334277,5.815303718171506,5.829829318139765,5.845904244535222,5.862420546966688,5.878555145086936,5.893875327895451,5.908098169248884,5.9204592267797445,5.846366622035407,5.759244377271767,5.657912380761179,5.54261645169898,5.4423872381224605,5.4423872381224605,5.440294829619636,5.434498131982603,5.426241353090118,5.417074865381029,5.408401186967383,5.401201479991187,5.395979521022842,5.392874094053401,5.391850747834459,5.391850747834459,5.394874635686468,5.402099278710887,5.411644260766688,5.422032806099402,5.431563577133733,5.438342809047481,5.440807253441258,5.440807253441258,5.44699778760614,5.457353288875958,5.473857297687273,5.497750768564636,5.52889283794887,5.565765932057065,5.605875140339458,5.646273179221679,5.68413026581288,5.717266564177753,5.744441530645454,5.765240709253471,5.779697173170134,5.788025170769185,5.790706760610517,5.7881223996057365,5.781974036645633,5.776943011807747,5.773577938660876,5.772387308913908,5.772387308919884,5.773757903861812,5.777393408893033,5.782331645588422,5.787996257555956,5.794559232569992,5.802501617653254,5.8118620386527775,5.821900233419153,5.831467445075168,5.839697933791902,5.846398814120941,5.826574421949967,5.749332201133408,5.675881898417648,5.6195728967376315,5.597760302255318,5.597760302255318,5.595238498319349,5.588153874575342,5.577647191865509,5.56495679494022,5.551039584661972,5.536422597467966,5.521186209180605,5.50504839155499,5.48761074237583,5.468966775577839,5.451135968155362,5.4408072534506555,5.4408072534506555,5.438347154102886,5.431570252158903,5.42203904024391,5.411648248128666,5.402100908658421,5.394874942790706,5.391850747834459,5.391850747834459,5.398921960159511,5.416798576951288,5.439512375304647,5.463045625387143,5.485637707885071,5.506738943144774,5.526268400833153,5.544252398170918,5.56063219282537,5.575096767953479,5.586916266081533,5.594901214205039,5.597760302255318,5.597760302255318,5.595238164383404,5.588153120251416,5.577647054517788,5.564958755938519,5.551044248605647,5.536428893303305,5.521191855128476,5.505051331208263,5.487610472807148,5.468964595091501,5.451134032892592,5.440807253441258,5.4408072534506555,5.437192454410939,5.4350583975254345,5.434355820978983,5.4352607879966985,5.437702432095448,5.44081586273922,5.4423872381224605],\"type\":\"scatter\"},{\"mode\":\"lines\",\"name\":\"band 8\",\"x\":[0.0,0.05549615278466996,0.11099230556933992,0.166488458352012,0.2219846111346841,0.2774807639233498,0.33297691671201546,0.38847306948070254,0.4439692222693682,0.4994653750580339,0.5549615278466996,0.6104576806353653,0.6659538334040522,0.7214499861927179,0.7769461389813836,0.8324422917700494,0.8879384445387364,0.9434345973274021,0.9989307501160678,0.9989307501160678,1.0544269029027358,1.1099230556894035,1.165419208465083,1.2209153612507517,1.2764115140394172,1.331907666828083,1.38740381959677,1.4428999723854357,1.4983961251741014,1.4983961251741014,1.5488497471352338,1.599303369068112,1.6497569910292444,1.7002106129903767,1.750664234951509,1.8011178568843873,1.8515714788455195,1.8515714788455195,1.9045477818962322,1.9575240849469449,2.0105003879976575,2.06347669104837,2.116452994099083,2.1694292971497955,2.222405600200508,2.275381903251221,2.3283582063019335,2.381334509352646,2.434310812403359,2.4872871154540714,2.540263418504784,2.5932397215554968,2.6462160246062094,2.699192327656922,2.7521686307076347,2.8051449337583474,2.85812123680906,2.9110975398597727,2.9110975398597727,2.965166252748645,3.0192349656375175,3.07330367852639,3.1273723914152622,3.1814411043041346,3.235509817193007,3.2895785300818794,3.3436472429707518,3.397715955859624,3.4517846687484965,3.505853381637369,3.5599220945262413,3.6139908074151137,3.668059520303986,3.7221282331928585,3.776196946081731,3.776196946081731,3.8271734174600645,3.878149888838398,3.9291263602167317,3.9801028315950653,4.031079302973399,4.0820557743517325,4.133032245730066,4.1840087171084,4.234985188486733,4.285961659865066,4.3369381312434,4.387914602621733,4.387914602621733,4.438368224582866,4.488821846515744,4.539275468476877,4.589729090438009,4.640182712399142,4.69063633433202,4.741089956293153,4.741089956293153,4.795424626086582,4.849759295880012,4.904093965673441,4.958428635466871,5.0127633052603,5.06709797505373,5.121432644875413,5.1757673146688425,5.230101984462272,5.2844366542557015,5.338771324049131,5.3931059938425605,5.44744066363599,5.44744066363599,5.498417135014324,5.549393606392657,5.600370077770991,5.651346549149325,5.7023230205276585,5.7532994919059925,5.804275963284327,5.85525243466266,5.906228906040994,5.957205377419327,6.00818184879766,6.059158320175994,6.059158320175994,6.109611942122999,6.160065564084132,6.210519186031137,6.260972807992269,6.3114264299406875,6.361880051894756,6.412333673847413],\"y\":[5.772387308960822,5.774153933770732,5.778874064372331,5.785455855409205,5.793412193325015,5.803156451334278,5.815303718171506,5.829829318139765,5.845904244535223,5.86242054696669,5.878555145086936,5.893875327895451,5.908098169248884,5.920888184827155,5.931862030600734,5.940689438661754,5.9471426105555425,5.951075436999345,5.952397306170776,5.952397306170776,5.952762722847062,5.952979128403566,5.951195622554958,5.946049992156113,5.93753115923023,5.927017115855003,5.916803453227646,5.909383783463717,5.90667154456274,5.90667154456274,5.908365216298771,5.912636580398277,5.918024337198627,5.923018547937279,5.926482818804899,5.928137690351987,5.928547337351169,5.928547337351169,5.921600090101564,5.914022526354749,5.905881751065209,5.897272950775395,5.88831906444712,5.87912859825371,5.869742563701216,5.860125935965874,5.850233622553281,5.840117476867057,5.829991671001811,5.820189318205019,5.811023223630977,5.802648316347414,5.795039543576641,5.788777796206369,5.783945540549436,5.778339690089327,5.774004786318631,5.772387308944061,5.77238730894799,5.7737579038618145,5.777393408893035,5.782331645588425,5.787996257555956,5.794559232569993,5.802501617653255,5.8118620386527775,5.821900233419155,5.831467445075169,5.839697933791903,5.846398814120943,5.851882901179958,5.856490783394558,5.860228203024083,5.862755609315092,5.863658517667319,5.863658517667319,5.864499393199972,5.866965177190208,5.870904094286391,5.876110444705374,5.8823554659275095,5.889386686234459,5.896903911922217,5.904542676574753,5.911892587171017,5.918550853290465,5.924182021034596,5.928547337345067,5.928547337345067,5.928134199206379,5.92647823235159,5.923015172079042,5.918022706970703,5.912636025800336,5.908365015608819,5.90667154456274,5.90667154456274,5.908241248421485,5.912189333287173,5.916489354419634,5.918551443966485,5.916311207363001,5.909475834571806,5.89972237916795,5.889344301416237,5.8800497091731465,5.87271489022142,5.867596624764211,5.864626467113998,5.863658517667319,5.863658517667319,5.864499784789622,5.866965847091931,5.87090323925465,5.876105781354509,5.88234643586673,5.889375571694976,5.896894668775707,5.904538312035235,5.911893197074557,5.918553858168554,5.924184279651821,5.928547337351169,5.928547337345067,5.934519472427117,5.939777366665027,5.944223900182674,5.947765074647516,5.950330295525551,5.951879677945842,5.952397306170776],\"type\":\"scatter\"},{\"mode\":\"lines\",\"name\":\"band 9\",\"x\":[0.0,0.05549615278466996,0.11099230556933992,0.166488458352012,0.2219846111346841,0.2774807639233498,0.33297691671201546,0.38847306948070254,0.4439692222693682,0.4994653750580339,0.5549615278466996,0.6104576806353653,0.6659538334040522,0.7214499861927179,0.7769461389813836,0.8324422917700494,0.8879384445387364,0.9434345973274021,0.9989307501160678,0.9989307501160678,1.0544269029027358,1.1099230556894035,1.165419208465083,1.2209153612507517,1.2764115140394172,1.331907666828083,1.38740381959677,1.4428999723854357,1.4983961251741014,1.4983961251741014,1.5488497471352338,1.599303369068112,1.6497569910292444,1.7002106129903767,1.750664234951509,1.8011178568843873,1.8515714788455195,1.8515714788455195,1.9045477818962322,1.9575240849469449,2.0105003879976575,2.06347669104837,2.116452994099083,2.1694292971497955,2.222405600200508,2.275381903251221,2.3283582063019335,2.381334509352646,2.434310812403359,2.4872871154540714,2.540263418504784,2.5932397215554968,2.6462160246062094,2.699192327656922,2.7521686307076347,2.8051449337583474,2.85812123680906,2.9110975398597727,2.9110975398597727,2.965166252748645,3.0192349656375175,3.07330367852639,3.1273723914152622,3.1814411043041346,3.235509817193007,3.2895785300818794,3.3436472429707518,3.397715955859624,3.4517846687484965,3.505853381637369,3.5599220945262413,3.6139908074151137,3.668059520303986,3.7221282331928585,3.776196946081731,3.776196946081731,3.8271734174600645,3.878149888838398,3.9291263602167317,3.9801028315950653,4.031079302973399,4.0820557743517325,4.133032245730066,4.1840087171084,4.234985188486733,4.285961659865066,4.3369381312434,4.387914602621733,4.387914602621733,4.438368224582866,4.488821846515744,4.539275468476877,4.589729090438009,4.640182712399142,4.69063633433202,4.741089956293153,4.741089956293153,4.795424626086582,4.849759295880012,4.904093965673441,4.958428635466871,5.0127633052603,5.06709797505373,5.121432644875413,5.1757673146688425,5.230101984462272,5.2844366542557015,5.338771324049131,5.3931059938425605,5.44744066363599,5.44744066363599,5.498417135014324,5.549393606392657,5.600370077770991,5.651346549149325,5.7023230205276585,5.7532994919059925,5.804275963284327,5.85525243466266,5.906228906040994,5.957205377419327,6.00818184879766,6.059158320175994,6.059158320175994,6.109611942122999,6.160065564084132,6.210519186031137,6.260972807992269,6.3114264299406875,6.361880051894756,6.412333673847413],\"y\":[6.226425272873706,6.226453769226695,6.225937384261978,6.223394396598524,6.217225796163078,6.20641807962036,6.190745683373985,6.170411582720928,6.145455884753642,6.115371299956181,6.079127609593312,6.03544451106555,5.983003666205427,5.920888184827156,5.931862030600735,5.940689438661754,5.9471426105555425,5.951075436999345,5.952397306170778,5.952397306170778,5.9546276361322965,5.960977442988589,5.970526909801416,5.981997197943109,5.993948301402759,6.004940758628177,6.013709597474322,6.01932366872771,6.021250475162918,6.021250475162918,6.019542239592506,6.014756665026112,6.0078430254840445,6.000292197609896,5.993821671749579,5.98970832929709,5.98834622977786,5.98834622977786,5.990501474755992,5.9941031076460805,6.0002057463328375,6.0092342928027636,6.020975832130214,6.034820684522322,6.050125504637467,6.066477885775946,6.0837215858799745,6.101789504839751,6.1205246301722935,6.13961745776468,6.158604327878977,6.176803079016545,6.1932368888955,6.206777140912961,6.21659464855435,6.2226233823500126,6.225583026075744,6.226425272889451,6.226425272880062,6.225278664748323,6.221720918809559,6.215162507145747,6.204165107321267,6.186593521201357,6.16049374641704,6.125011448501871,6.080516840789654,6.027896574331389,5.967762974683757,5.9003823673902485,5.851882901179961,5.856490783394559,5.860228203024084,5.862755609315094,5.86365851766732,5.86365851766732,5.867864218509376,5.879572444361709,5.896508655562158,5.915938286920429,5.935372059227818,5.9529012130054655,5.967281441749751,5.9778991214723,5.984702620794867,5.988127712592871,5.988996088826253,5.988346229778184,5.988346229778184,5.989707144987101,5.993819062569839,6.000288869672058,6.007840402773791,6.014755492623508,6.019542076237224,6.021250475162918,6.021250475162918,6.019084325962913,6.012892571593574,6.003567273294641,5.992424954062617,5.980661215331721,5.968415525034797,5.954616325882661,5.938228966258036,5.919361123538334,5.899511334130759,5.88138860897683,5.868411443544478,5.86365851766732,5.86365851766732,5.867864079818698,5.879572345482925,5.896509516164711,5.915940935427674,5.935376178258738,5.9529053060640535,5.967283970470498,5.9778997064481905,5.984702139973324,5.988127285097286,5.9889960691046085,5.98834622977786,5.988346229778184,5.986315381023035,5.983024885428556,5.977627044126238,5.970143449863882,5.961819620220812,5.955042555852403,5.952397306170778],\"type\":\"scatter\"}],                        {\"template\":{\"data\":{\"histogram2dcontour\":[{\"type\":\"histogram2dcontour\",\"colorbar\":{\"outlinewidth\":0,\"ticks\":\"\"},\"colorscale\":[[0.0,\"#0d0887\"],[0.1111111111111111,\"#46039f\"],[0.2222222222222222,\"#7201a8\"],[0.3333333333333333,\"#9c179e\"],[0.4444444444444444,\"#bd3786\"],[0.5555555555555556,\"#d8576b\"],[0.6666666666666666,\"#ed7953\"],[0.7777777777777778,\"#fb9f3a\"],[0.8888888888888888,\"#fdca26\"],[1.0,\"#f0f921\"]]}],\"choropleth\":[{\"type\":\"choropleth\",\"colorbar\":{\"outlinewidth\":0,\"ticks\":\"\"}}],\"histogram2d\":[{\"type\":\"histogram2d\",\"colorbar\":{\"outlinewidth\":0,\"ticks\":\"\"},\"colorscale\":[[0.0,\"#0d0887\"],[0.1111111111111111,\"#46039f\"],[0.2222222222222222,\"#7201a8\"],[0.3333333333333333,\"#9c179e\"],[0.4444444444444444,\"#bd3786\"],[0.5555555555555556,\"#d8576b\"],[0.6666666666666666,\"#ed7953\"],[0.7777777777777778,\"#fb9f3a\"],[0.8888888888888888,\"#fdca26\"],[1.0,\"#f0f921\"]]}],\"heatmap\":[{\"type\":\"heatmap\",\"colorbar\":{\"outlinewidth\":0,\"ticks\":\"\"},\"colorscale\":[[0.0,\"#0d0887\"],[0.1111111111111111,\"#46039f\"],[0.2222222222222222,\"#7201a8\"],[0.3333333333333333,\"#9c179e\"],[0.4444444444444444,\"#bd3786\"],[0.5555555555555556,\"#d8576b\"],[0.6666666666666666,\"#ed7953\"],[0.7777777777777778,\"#fb9f3a\"],[0.8888888888888888,\"#fdca26\"],[1.0,\"#f0f921\"]]}],\"heatmapgl\":[{\"type\":\"heatmapgl\",\"colorbar\":{\"outlinewidth\":0,\"ticks\":\"\"},\"colorscale\":[[0.0,\"#0d0887\"],[0.1111111111111111,\"#46039f\"],[0.2222222222222222,\"#7201a8\"],[0.3333333333333333,\"#9c179e\"],[0.4444444444444444,\"#bd3786\"],[0.5555555555555556,\"#d8576b\"],[0.6666666666666666,\"#ed7953\"],[0.7777777777777778,\"#fb9f3a\"],[0.8888888888888888,\"#fdca26\"],[1.0,\"#f0f921\"]]}],\"contourcarpet\":[{\"type\":\"contourcarpet\",\"colorbar\":{\"outlinewidth\":0,\"ticks\":\"\"}}],\"contour\":[{\"type\":\"contour\",\"colorbar\":{\"outlinewidth\":0,\"ticks\":\"\"},\"colorscale\":[[0.0,\"#0d0887\"],[0.1111111111111111,\"#46039f\"],[0.2222222222222222,\"#7201a8\"],[0.3333333333333333,\"#9c179e\"],[0.4444444444444444,\"#bd3786\"],[0.5555555555555556,\"#d8576b\"],[0.6666666666666666,\"#ed7953\"],[0.7777777777777778,\"#fb9f3a\"],[0.8888888888888888,\"#fdca26\"],[1.0,\"#f0f921\"]]}],\"surface\":[{\"type\":\"surface\",\"colorbar\":{\"outlinewidth\":0,\"ticks\":\"\"},\"colorscale\":[[0.0,\"#0d0887\"],[0.1111111111111111,\"#46039f\"],[0.2222222222222222,\"#7201a8\"],[0.3333333333333333,\"#9c179e\"],[0.4444444444444444,\"#bd3786\"],[0.5555555555555556,\"#d8576b\"],[0.6666666666666666,\"#ed7953\"],[0.7777777777777778,\"#fb9f3a\"],[0.8888888888888888,\"#fdca26\"],[1.0,\"#f0f921\"]]}],\"mesh3d\":[{\"type\":\"mesh3d\",\"colorbar\":{\"outlinewidth\":0,\"ticks\":\"\"}}],\"scatter\":[{\"fillpattern\":{\"fillmode\":\"overlay\",\"size\":10,\"solidity\":0.2},\"type\":\"scatter\"}],\"parcoords\":[{\"type\":\"parcoords\",\"line\":{\"colorbar\":{\"outlinewidth\":0,\"ticks\":\"\"}}}],\"scatterpolargl\":[{\"type\":\"scatterpolargl\",\"marker\":{\"colorbar\":{\"outlinewidth\":0,\"ticks\":\"\"}}}],\"bar\":[{\"error_x\":{\"color\":\"#2a3f5f\"},\"error_y\":{\"color\":\"#2a3f5f\"},\"marker\":{\"line\":{\"color\":\"#E5ECF6\",\"width\":0.5},\"pattern\":{\"fillmode\":\"overlay\",\"size\":10,\"solidity\":0.2}},\"type\":\"bar\"}],\"scattergeo\":[{\"type\":\"scattergeo\",\"marker\":{\"colorbar\":{\"outlinewidth\":0,\"ticks\":\"\"}}}],\"scatterpolar\":[{\"type\":\"scatterpolar\",\"marker\":{\"colorbar\":{\"outlinewidth\":0,\"ticks\":\"\"}}}],\"histogram\":[{\"marker\":{\"pattern\":{\"fillmode\":\"overlay\",\"size\":10,\"solidity\":0.2}},\"type\":\"histogram\"}],\"scattergl\":[{\"type\":\"scattergl\",\"marker\":{\"colorbar\":{\"outlinewidth\":0,\"ticks\":\"\"}}}],\"scatter3d\":[{\"type\":\"scatter3d\",\"line\":{\"colorbar\":{\"outlinewidth\":0,\"ticks\":\"\"}},\"marker\":{\"colorbar\":{\"outlinewidth\":0,\"ticks\":\"\"}}}],\"scattermapbox\":[{\"type\":\"scattermapbox\",\"marker\":{\"colorbar\":{\"outlinewidth\":0,\"ticks\":\"\"}}}],\"scatterternary\":[{\"type\":\"scatterternary\",\"marker\":{\"colorbar\":{\"outlinewidth\":0,\"ticks\":\"\"}}}],\"scattercarpet\":[{\"type\":\"scattercarpet\",\"marker\":{\"colorbar\":{\"outlinewidth\":0,\"ticks\":\"\"}}}],\"carpet\":[{\"aaxis\":{\"endlinecolor\":\"#2a3f5f\",\"gridcolor\":\"white\",\"linecolor\":\"white\",\"minorgridcolor\":\"white\",\"startlinecolor\":\"#2a3f5f\"},\"baxis\":{\"endlinecolor\":\"#2a3f5f\",\"gridcolor\":\"white\",\"linecolor\":\"white\",\"minorgridcolor\":\"white\",\"startlinecolor\":\"#2a3f5f\"},\"type\":\"carpet\"}],\"table\":[{\"cells\":{\"fill\":{\"color\":\"#EBF0F8\"},\"line\":{\"color\":\"white\"}},\"header\":{\"fill\":{\"color\":\"#C8D4E3\"},\"line\":{\"color\":\"white\"}},\"type\":\"table\"}],\"barpolar\":[{\"marker\":{\"line\":{\"color\":\"#E5ECF6\",\"width\":0.5},\"pattern\":{\"fillmode\":\"overlay\",\"size\":10,\"solidity\":0.2}},\"type\":\"barpolar\"}],\"pie\":[{\"automargin\":true,\"type\":\"pie\"}]},\"layout\":{\"autotypenumbers\":\"strict\",\"colorway\":[\"#636efa\",\"#EF553B\",\"#00cc96\",\"#ab63fa\",\"#FFA15A\",\"#19d3f3\",\"#FF6692\",\"#B6E880\",\"#FF97FF\",\"#FECB52\"],\"font\":{\"color\":\"#2a3f5f\"},\"hovermode\":\"closest\",\"hoverlabel\":{\"align\":\"left\"},\"paper_bgcolor\":\"white\",\"plot_bgcolor\":\"#E5ECF6\",\"polar\":{\"bgcolor\":\"#E5ECF6\",\"angularaxis\":{\"gridcolor\":\"white\",\"linecolor\":\"white\",\"ticks\":\"\"},\"radialaxis\":{\"gridcolor\":\"white\",\"linecolor\":\"white\",\"ticks\":\"\"}},\"ternary\":{\"bgcolor\":\"#E5ECF6\",\"aaxis\":{\"gridcolor\":\"white\",\"linecolor\":\"white\",\"ticks\":\"\"},\"baxis\":{\"gridcolor\":\"white\",\"linecolor\":\"white\",\"ticks\":\"\"},\"caxis\":{\"gridcolor\":\"white\",\"linecolor\":\"white\",\"ticks\":\"\"}},\"coloraxis\":{\"colorbar\":{\"outlinewidth\":0,\"ticks\":\"\"}},\"colorscale\":{\"sequential\":[[0.0,\"#0d0887\"],[0.1111111111111111,\"#46039f\"],[0.2222222222222222,\"#7201a8\"],[0.3333333333333333,\"#9c179e\"],[0.4444444444444444,\"#bd3786\"],[0.5555555555555556,\"#d8576b\"],[0.6666666666666666,\"#ed7953\"],[0.7777777777777778,\"#fb9f3a\"],[0.8888888888888888,\"#fdca26\"],[1.0,\"#f0f921\"]],\"sequentialminus\":[[0.0,\"#0d0887\"],[0.1111111111111111,\"#46039f\"],[0.2222222222222222,\"#7201a8\"],[0.3333333333333333,\"#9c179e\"],[0.4444444444444444,\"#bd3786\"],[0.5555555555555556,\"#d8576b\"],[0.6666666666666666,\"#ed7953\"],[0.7777777777777778,\"#fb9f3a\"],[0.8888888888888888,\"#fdca26\"],[1.0,\"#f0f921\"]],\"diverging\":[[0,\"#8e0152\"],[0.1,\"#c51b7d\"],[0.2,\"#de77ae\"],[0.3,\"#f1b6da\"],[0.4,\"#fde0ef\"],[0.5,\"#f7f7f7\"],[0.6,\"#e6f5d0\"],[0.7,\"#b8e186\"],[0.8,\"#7fbc41\"],[0.9,\"#4d9221\"],[1,\"#276419\"]]},\"xaxis\":{\"gridcolor\":\"white\",\"linecolor\":\"white\",\"ticks\":\"\",\"title\":{\"standoff\":15},\"zerolinecolor\":\"white\",\"automargin\":true,\"zerolinewidth\":2},\"yaxis\":{\"gridcolor\":\"white\",\"linecolor\":\"white\",\"ticks\":\"\",\"title\":{\"standoff\":15},\"zerolinecolor\":\"white\",\"automargin\":true,\"zerolinewidth\":2},\"scene\":{\"xaxis\":{\"backgroundcolor\":\"#E5ECF6\",\"gridcolor\":\"white\",\"linecolor\":\"white\",\"showbackground\":true,\"ticks\":\"\",\"zerolinecolor\":\"white\",\"gridwidth\":2},\"yaxis\":{\"backgroundcolor\":\"#E5ECF6\",\"gridcolor\":\"white\",\"linecolor\":\"white\",\"showbackground\":true,\"ticks\":\"\",\"zerolinecolor\":\"white\",\"gridwidth\":2},\"zaxis\":{\"backgroundcolor\":\"#E5ECF6\",\"gridcolor\":\"white\",\"linecolor\":\"white\",\"showbackground\":true,\"ticks\":\"\",\"zerolinecolor\":\"white\",\"gridwidth\":2}},\"shapedefaults\":{\"line\":{\"color\":\"#2a3f5f\"}},\"annotationdefaults\":{\"arrowcolor\":\"#2a3f5f\",\"arrowhead\":0,\"arrowwidth\":1},\"geo\":{\"bgcolor\":\"white\",\"landcolor\":\"#E5ECF6\",\"subunitcolor\":\"white\",\"showland\":true,\"showlakes\":true,\"lakecolor\":\"white\"},\"title\":{\"x\":0.05},\"mapbox\":{\"style\":\"light\"}}},\"shapes\":[{\"line\":{\"color\":\"black\",\"width\":1},\"type\":\"line\",\"x0\":0.9989307501160678,\"x1\":0.9989307501160678,\"xref\":\"x\",\"y0\":0,\"y1\":1,\"yref\":\"y domain\"},{\"line\":{\"color\":\"black\",\"width\":1},\"type\":\"line\",\"x0\":1.4983961251741014,\"x1\":1.4983961251741014,\"xref\":\"x\",\"y0\":0,\"y1\":1,\"yref\":\"y domain\"},{\"line\":{\"color\":\"black\",\"width\":1},\"type\":\"line\",\"x0\":1.8515714788455195,\"x1\":1.8515714788455195,\"xref\":\"x\",\"y0\":0,\"y1\":1,\"yref\":\"y domain\"},{\"line\":{\"color\":\"black\",\"width\":1},\"type\":\"line\",\"x0\":2.9110975398597727,\"x1\":2.9110975398597727,\"xref\":\"x\",\"y0\":0,\"y1\":1,\"yref\":\"y domain\"},{\"line\":{\"color\":\"black\",\"width\":1},\"type\":\"line\",\"x0\":3.776196946081731,\"x1\":3.776196946081731,\"xref\":\"x\",\"y0\":0,\"y1\":1,\"yref\":\"y domain\"},{\"line\":{\"color\":\"black\",\"width\":1},\"type\":\"line\",\"x0\":4.387914602621733,\"x1\":4.387914602621733,\"xref\":\"x\",\"y0\":0,\"y1\":1,\"yref\":\"y domain\"},{\"line\":{\"color\":\"black\",\"width\":1},\"type\":\"line\",\"x0\":4.741089956293153,\"x1\":4.741089956293153,\"xref\":\"x\",\"y0\":0,\"y1\":1,\"yref\":\"y domain\"},{\"line\":{\"color\":\"black\",\"width\":1},\"type\":\"line\",\"x0\":5.44744066363599,\"x1\":5.44744066363599,\"xref\":\"x\",\"y0\":0,\"y1\":1,\"yref\":\"y domain\"},{\"line\":{\"color\":\"black\",\"width\":1},\"type\":\"line\",\"x0\":6.059158320175994,\"x1\":6.059158320175994,\"xref\":\"x\",\"y0\":0,\"y1\":1,\"yref\":\"y domain\"}],\"xaxis\":{\"mirror\":true,\"showgrid\":false,\"ticks\":\"inside\",\"tickvals\":[0.0,0.9989307501160678,1.4983961251741014,1.8515714788455195,2.9110975398597727,3.776196946081731,4.387914602621733,4.741089956293153,5.44744066363599,6.059158320175994,6.412333673847413],\"ticktext\":[\"Γ\",\"X\",\"W\",\"K\",\"Γ\",\"L\",\"U\",\"W\",\"L\",\"K|U\",\"X\"],\"ticklen\":0,\"title\":{\"text\":\"Wave Vector\"}},\"yaxis\":{\"mirror\":true,\"showgrid\":false,\"ticks\":\"inside\",\"ticklen\":10,\"range\":[0.0,6.350982844611229],\"title\":{\"text\":\"Frequencies (THz)\"},\"rangemode\":\"tozero\"}},                        {\"responsive\": true}                    ).then(function(){\n",
       "                            \n",
       "var gd = document.getElementById('a380e26d-40c3-4b50-acbc-30d3cc54a163');\n",
       "var x = new MutationObserver(function (mutations, observer) {{\n",
       "        var display = window.getComputedStyle(gd).display;\n",
       "        if (!display || display === 'none') {{\n",
       "            console.log([gd, 'removed!']);\n",
       "            Plotly.purge(gd);\n",
       "            observer.disconnect();\n",
       "        }}\n",
       "}});\n",
       "\n",
       "// Listen for the removal of the full notebook cells\n",
       "var notebookContainer = gd.closest('#notebook-container');\n",
       "if (notebookContainer) {{\n",
       "    x.observe(notebookContainer, {childList: true});\n",
       "}}\n",
       "\n",
       "// Listen for the clearing of the current output cell\n",
       "var outputEl = gd.closest('.output');\n",
       "if (outputEl) {{\n",
       "    x.observe(outputEl, {childList: true});\n",
       "}}\n",
       "\n",
       "                        })                };                });            </script>        </div>"
      ]
     },
     "metadata": {},
     "output_type": "display_data"
    }
   ],
   "source": [
    "#Récupération des données\n",
    "data = PhononBSPlotter(ph_band_struct).bs_plot_data()\n",
    "\n",
    "#Structure des bandes de phonon\n",
    "fig_ph_bs = get_plot_bs(ph_band_struct)\n",
    "fig_ph_bs.update_yaxes(rangemode=\"tozero\")\n",
    "fig_ph_bs.show()"
   ]
  },
  {
   "cell_type": "markdown",
   "id": "ac288ea4",
   "metadata": {},
   "source": [
    "## Vitesse du son"
   ]
  },
  {
   "cell_type": "markdown",
   "id": "2eeb138e",
   "metadata": {},
   "source": [
    "La vitesse du son se trouve assez facilement car elle est décrite comme $v_s = \\frac{\\delta\\omega}{\\delta k}$ où k est le vecteur d'onde et $\\omega = 2\\pi f$. Pour obtenir la vitesse du son, il faut donc trouver la pente des branches accoustiques. \n",
    "Il reste maintenant à déterminer quelles sont ces branches. Sur le plot ci-dessus, elles correspondent aux branches où la fréquence est nulle au centre de la zone de Brillouin ( $\\Gamma$ ). Il y a dès lors 7 branches accoustiques : 2 pour la direction $\\Gamma - X$, 3 pour la direction $K - \\Gamma$ et 2 pour la direction $\\Gamma - L$"
   ]
  },
  {
   "cell_type": "markdown",
   "id": "f2d434cd",
   "metadata": {},
   "source": [
    "### Première branche accoustique correspondant à la bande 2 dans la direction  $\\Gamma - X$"
   ]
  },
  {
   "cell_type": "code",
   "execution_count": 57,
   "id": "b496fd2f",
   "metadata": {},
   "outputs": [
    {
     "name": "stdout",
     "output_type": "stream",
     "text": [
      "La vitesse du son de la première branche accoustique est 2404.682226849909 m/s\n"
     ]
    }
   ],
   "source": [
    "v1 = 2*np.pi*np.abs((data['frequency'][0][1][8]-data['frequency'][0][1][0])*(10**12))/((data['distances'][0][8]-data['distances'][0][0])*(10**10))\n",
    "print(\"La vitesse du son de la première branche accoustique est\", v1, \"m/s\")"
   ]
  },
  {
   "cell_type": "markdown",
   "id": "2e8b00e6",
   "metadata": {},
   "source": [
    "### Deuxième branche accoustique correspondant à la bande 1 dans la direction $K - \\Gamma$"
   ]
  },
  {
   "cell_type": "code",
   "execution_count": 58,
   "id": "94476e65",
   "metadata": {},
   "outputs": [
    {
     "name": "stdout",
     "output_type": "stream",
     "text": [
      "La vitesse du son de la deuxième branche accoustique est 2162.4615300645355 m/s\n"
     ]
    }
   ],
   "source": [
    "v2 = 2*np.pi*np.abs((data['frequency'][3][0][-1]-data['frequency'][3][0][13])*(10**12))/((data['distances'][3][-1]-data['distances'][3][13])*(10**10))\n",
    "print(\"La vitesse du son de la deuxième branche accoustique est\", v2, \"m/s\")"
   ]
  },
  {
   "cell_type": "markdown",
   "id": "c94c379a",
   "metadata": {},
   "source": [
    "### Troisième branche accoustique correspondant à la bande 3 dans la direction $\\Gamma - L$"
   ]
  },
  {
   "cell_type": "code",
   "execution_count": 59,
   "id": "20a10746",
   "metadata": {},
   "outputs": [
    {
     "name": "stdout",
     "output_type": "stream",
     "text": [
      "La vitesse du son de la troisième branche accoustique est 4483.7561736155885 m/s\n"
     ]
    }
   ],
   "source": [
    "v3 = 2*np.pi*np.abs((data['frequency'][4][2][6]-data['frequency'][4][2][0])*(10**12))/((data['distances'][4][6]-data['distances'][4][0])*(10**10))\n",
    "print(\"La vitesse du son de la troisième branche accoustique est\", v3, \"m/s\")"
   ]
  },
  {
   "cell_type": "code",
   "execution_count": 60,
   "id": "236634fd",
   "metadata": {},
   "outputs": [
    {
     "data": {
      "text/plain": [
       "[<matplotlib.lines.Line2D at 0x7fcda88780d0>]"
      ]
     },
     "execution_count": 60,
     "metadata": {},
     "output_type": "execute_result"
    },
    {
     "data": {
      "image/png": "[encoded data removed]",
      "text/plain": [
       "<Figure size 1200x800 with 1 Axes>"
      ]
     },
     "metadata": {},
     "output_type": "display_data"
    }
   ],
   "source": [
    "PhononBSPlotter(ph_band_struct).get_plot()\n",
    "\n",
    "# Bande 2 pour v1\n",
    "plt.plot([data['distances'][0][0],data['distances'][0][8]],[data['frequency'][0][1][0],data['frequency'][0][1][8]], color='limegreen', lw=3)\n",
    "# Bande 1 pour v2\n",
    "plt.plot([data['distances'][3][13],data['distances'][3][-1]],[data['frequency'][3][0][13],data['frequency'][3][0][-1]], color='orange', lw=3)\n",
    "# Bande 3 pour v3\n",
    "plt.plot([data['distances'][4][0],data['distances'][4][6]],[data['frequency'][4][2][0],data['frequency'][4][2][6]], color='m', lw=3)"
   ]
  }
 ],
 "metadata": {
  "kernelspec": {
   "display_name": "Python 3 (ipykernel)",
   "language": "python",
   "name": "python3"
  },
  "language_info": {
   "codemirror_mode": {
    "name": "ipython",
    "version": 3
   },
   "file_extension": ".py",
   "mimetype": "text/x-python",
   "name": "python",
   "nbconvert_exporter": "python",
   "pygments_lexer": "ipython3",
   "version": "3.9.13"
  }
 },
 "nbformat": 4,
 "nbformat_minor": 5
}
